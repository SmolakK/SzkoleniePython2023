{
 "cells": [
  {
   "cell_type": "markdown",
   "id": "db36745f",
   "metadata": {},
   "source": [
    "# 4. Kontrola przepływu"
   ]
  },
  {
   "cell_type": "markdown",
   "id": "0b638a8f",
   "metadata": {},
   "source": [
    "<center>\n",
    "<h1>Python - kontrola przepływu </h1>\n",
    "</center>    "
   ]
  },
  {
   "cell_type": "markdown",
   "id": "dad36a10",
   "metadata": {},
   "source": [
    "#### To ćwiczenie omawia metody kontroli przepływu czyli:\n",
    "\n",
    "    Pętle for i while\n",
    "    Instrukcje warunkowe\n",
    "\n",
    "## Wcięcia\n",
    "\n",
    "Kluczowe w Pythonie są wcięcia w kodzie. Wcięcia składają się z 4 spacji (lub Tab) i oznaczją <b> kod podrzędny </b>, czyli taki kod, który zależny jest od tego, który w hierarchi znajduje się ponad nim.\n",
    "\n",
    "```\n",
    "kod nadrzędny\n",
    "    kod podrzędny\n",
    "````\n",
    "\n",
    "Możliwe jest wielopoziomowe zagnieżdżanie kodu:\n",
    "\n",
    "```\n",
    "kod nadrzędny\n",
    "    kod podrzędny_1stopien\n",
    "        kod podrzędny_2stopien\n",
    "````\n",
    "W powyższym przykładzie kod podrzędny 1 stopnia będzie nadrzędny względem kodu podrzędnego 2 stopnia.\n",
    "\n",
    "Wcięcia są bardzo ważną składową Pythona i dbają o porządek i łatwość czytania kodu. Są niezbędne w metodach kontroli przepływu danych."
   ]
  },
  {
   "cell_type": "markdown",
   "id": "59dc4747",
   "metadata": {},
   "source": [
    "# Iteracje - pętla for i while (na sekwencjach)\n",
    "\n",
    "Pętle tworzą tzw. iteratory, które iterują się przez sekwencję zwracając każdorazowo <b>kolejne</b> elementy\n",
    "\n",
    "## Pętle for\n",
    "Jej konstrukcja jest nastepująca\n",
    "\n",
    "for <i>nazwa_iteratora</i> in <i>nazwa_sekwencji</i>:\n",
    "\n",
    "    rób coś\n",
    "    \n",
    "<b> Zwróć uwagę na wcięcie w składni </b>"
   ]
  },
  {
   "cell_type": "code",
   "execution_count": 1,
   "id": "9e73c106",
   "metadata": {},
   "outputs": [
    {
     "name": "stdout",
     "output_type": "stream",
     "text": [
      "P\n",
      "y\n",
      "t\n",
      "h\n",
      "o\n",
      "n\n"
     ]
    }
   ],
   "source": [
    "for i in \"Python\":\n",
    "    print(i)"
   ]
  },
  {
   "cell_type": "code",
   "execution_count": 2,
   "id": "37b34ed1",
   "metadata": {},
   "outputs": [
    {
     "name": "stdout",
     "output_type": "stream",
     "text": [
      "P\n",
      "a\n",
      "y\n",
      "a\n",
      "t\n",
      "a\n",
      "h\n",
      "a\n",
      "o\n",
      "a\n",
      "n\n",
      "a\n"
     ]
    }
   ],
   "source": [
    "tekst = \"Python\"\n",
    "for i in tekst:\n",
    "    print(i)\n",
    "    print(\"a\")"
   ]
  },
  {
   "cell_type": "code",
   "execution_count": 3,
   "id": "65a06f2d",
   "metadata": {},
   "outputs": [
    {
     "name": "stdout",
     "output_type": "stream",
     "text": [
      "P\n",
      "y\n"
     ]
    }
   ],
   "source": [
    "tekst = \"Python\"\n",
    "for i in tekst[:2]:\n",
    "    print(i)"
   ]
  },
  {
   "cell_type": "markdown",
   "id": "7196a724",
   "metadata": {},
   "source": [
    "Wewnętrz pętli można wykonywać operacje:"
   ]
  },
  {
   "cell_type": "code",
   "execution_count": 4,
   "id": "3f7002a2",
   "metadata": {},
   "outputs": [
    {
     "name": "stdout",
     "output_type": "stream",
     "text": [
      "2\n",
      "3\n",
      "4\n",
      "5\n"
     ]
    }
   ],
   "source": [
    "for i in [1,2,3,4]:\n",
    "    print(i + 1)"
   ]
  },
  {
   "cell_type": "markdown",
   "id": "00ff7a05",
   "metadata": {},
   "source": [
    "#### Wszystko co nie jest wcięte jako kod podrzędny - wykonuje się po pętli"
   ]
  },
  {
   "cell_type": "code",
   "execution_count": 5,
   "id": "e9c9e273",
   "metadata": {},
   "outputs": [
    {
     "name": "stdout",
     "output_type": "stream",
     "text": [
      "2\n",
      "3\n",
      "4\n",
      "5\n",
      "TO WYKONA SIĘ PO PĘTLI\n"
     ]
    }
   ],
   "source": [
    "for i in [1,2,3,4]:\n",
    "    print(i + 1)\n",
    "print(\"TO WYKONA SIĘ PO PĘTLI\")"
   ]
  },
  {
   "cell_type": "code",
   "execution_count": 6,
   "id": "8a16c9e9",
   "metadata": {},
   "outputs": [
    {
     "name": "stdout",
     "output_type": "stream",
     "text": [
      "2\n",
      "TO WYKONA SIĘ WEWNĄTRZ PĘTLI\n",
      "3\n",
      "TO WYKONA SIĘ WEWNĄTRZ PĘTLI\n",
      "4\n",
      "TO WYKONA SIĘ WEWNĄTRZ PĘTLI\n",
      "5\n",
      "TO WYKONA SIĘ WEWNĄTRZ PĘTLI\n",
      "a to już na końcu\n"
     ]
    }
   ],
   "source": [
    "for i in [1,2,3,4]:\n",
    "    print(i + 1)\n",
    "    print(\"TO WYKONA SIĘ WEWNĄTRZ PĘTLI\")\n",
    "print('a to już na końcu')"
   ]
  },
  {
   "cell_type": "markdown",
   "id": "18b69719",
   "metadata": {},
   "source": [
    "Iterować w <b> for </b> możemy się po:\n",
    "    \n",
    "    typach sekwencyjnych - tekst, lista, krotka, zbiór, słownik\n",
    "    funkcji range()"
   ]
  },
  {
   "cell_type": "code",
   "execution_count": 7,
   "id": "76dc278a",
   "metadata": {},
   "outputs": [
    {
     "name": "stdout",
     "output_type": "stream",
     "text": [
      "1\n",
      "3\n",
      "5\n",
      "7\n",
      "9\n"
     ]
    }
   ],
   "source": [
    "for i in range(1,10,2):\n",
    "    print(i)"
   ]
  },
  {
   "cell_type": "markdown",
   "id": "e6262dbc",
   "metadata": {},
   "source": [
    "#### Ćwiczenie:\n",
    "1. Spróbuj napisać pętle for, która iteruje się po dowolnej krotce\n",
    "2. Spróbuj napisać pętlę for, która iteruje się po słowniku - co zwraca pętla?"
   ]
  },
  {
   "cell_type": "code",
   "execution_count": 8,
   "id": "bdc6188b",
   "metadata": {},
   "outputs": [],
   "source": [
    "# tutaj 1"
   ]
  },
  {
   "cell_type": "code",
   "execution_count": 9,
   "id": "e906526b",
   "metadata": {},
   "outputs": [],
   "source": [
    "# tutaj 2"
   ]
  },
  {
   "cell_type": "markdown",
   "id": "baeb487a",
   "metadata": {},
   "source": [
    "#### funkcja enumerate()\n",
    "Ta funkcja wbudowana zwaraca wartość z typu sekwencyjnego <b> wraz z jego indeksem </b>"
   ]
  },
  {
   "cell_type": "code",
   "execution_count": 10,
   "id": "b60a6b25",
   "metadata": {},
   "outputs": [
    {
     "name": "stdout",
     "output_type": "stream",
     "text": [
      "(0, 10)\n",
      "0\n",
      "10\n",
      "(1, 11)\n",
      "1\n",
      "11\n",
      "(2, 12)\n",
      "2\n",
      "12\n"
     ]
    }
   ],
   "source": [
    "lista = [10,11,12]\n",
    "for i in enumerate(lista):\n",
    "    print(i)\n",
    "    print(i[0])\n",
    "    print(i[1])"
   ]
  },
  {
   "cell_type": "markdown",
   "id": "bf1c85a6",
   "metadata": {},
   "source": [
    "### Przepływ danych w pętli for\n",
    "\n",
    "Pętla for wykonuje się N razy, gdzie N to długość sekwencji"
   ]
  },
  {
   "cell_type": "code",
   "execution_count": 11,
   "id": "371d7064",
   "metadata": {},
   "outputs": [
    {
     "name": "stdout",
     "output_type": "stream",
     "text": [
      "3\n",
      "3\n"
     ]
    }
   ],
   "source": [
    "licznik = 0\n",
    "for n in [1,2,3]:\n",
    "    licznik += 1 # to wyrażenie jest równe licznik = licznik + 1\n",
    "print(licznik)\n",
    "print(len([1,2,3]))"
   ]
  },
  {
   "cell_type": "markdown",
   "id": "190629fc",
   "metadata": {},
   "source": [
    "Iterator zmienia się <b> tylko </b> wewnątrz pętli"
   ]
  },
  {
   "cell_type": "code",
   "execution_count": 12,
   "id": "04a71b68",
   "metadata": {},
   "outputs": [
    {
     "name": "stdout",
     "output_type": "stream",
     "text": [
      "\n",
      "\n",
      "\n",
      "3\n"
     ]
    }
   ],
   "source": [
    "for n in [1,2,3]:\n",
    "    print('')\n",
    "print(n)"
   ]
  },
  {
   "cell_type": "markdown",
   "id": "c59b6b34",
   "metadata": {},
   "source": [
    "Operacje na iteratorze nie zmieniają wartości z typu sekwencyjnego z którego został pobrany:"
   ]
  },
  {
   "cell_type": "code",
   "execution_count": 13,
   "id": "0201183e",
   "metadata": {},
   "outputs": [
    {
     "name": "stdout",
     "output_type": "stream",
     "text": [
      "[1, 2, 3]\n"
     ]
    }
   ],
   "source": [
    "x = [1,2,3]\n",
    "for n in x:\n",
    "    n += 20\n",
    "print(x)"
   ]
  },
  {
   "cell_type": "markdown",
   "id": "8998febb",
   "metadata": {},
   "source": [
    "#### Ćwiczenie\n",
    "Zastanów się jak zmodyfikować sekwencję (listę) w pętli?"
   ]
  },
  {
   "cell_type": "code",
   "execution_count": 14,
   "id": "05bb9a1d",
   "metadata": {},
   "outputs": [],
   "source": [
    "# wykonaj tutaj"
   ]
  },
  {
   "cell_type": "markdown",
   "id": "3618b02d",
   "metadata": {},
   "source": [
    "#### Zagnieżdżanie pętli"
   ]
  },
  {
   "cell_type": "code",
   "execution_count": 15,
   "id": "ccfa4d17",
   "metadata": {},
   "outputs": [
    {
     "name": "stdout",
     "output_type": "stream",
     "text": [
      "1\n",
      "4\n",
      "5\n",
      "6\n",
      "2\n",
      "4\n",
      "5\n",
      "6\n",
      "3\n",
      "4\n",
      "5\n",
      "6\n"
     ]
    }
   ],
   "source": [
    "x = [1,2,3]\n",
    "y = [4,5,6]\n",
    "for n in x:\n",
    "    print(n)\n",
    "    for m in y:\n",
    "        print(m)"
   ]
  },
  {
   "cell_type": "markdown",
   "id": "d323e8d8",
   "metadata": {},
   "source": [
    "#### Ćwiczenie\n",
    "Ile razy łącznie wykona się najbardziej podrzędny kod w poniższym kodzie?\n",
    "\n",
    "```\n",
    "x = range(10)\n",
    "y = range(5)\n",
    "for n in x:\n",
    "    for m in y:\n",
    "        operacja <--- ile razy wykona się ten kod?\n",
    "```"
   ]
  },
  {
   "cell_type": "markdown",
   "id": "e2003f33",
   "metadata": {},
   "source": [
    "## Pętla while\n",
    "\n",
    "Pętla for wykonuje się dopóki sekwencja nie dobiegnie końca. Pętla while wykonuje się dopóki podany warunek jest spełniony.\n",
    "\n",
    "Konstrukcja\n",
    "\n",
    "while <i> warunek </i>:\n",
    "\n",
    "    ~rób coś~\n",
    "    \n",
    "Należy uważać, gdyż warunek może nie zostać spełniony nigdy, a kod utknie w pętli!"
   ]
  },
  {
   "cell_type": "code",
   "execution_count": 16,
   "id": "877d7397",
   "metadata": {},
   "outputs": [
    {
     "name": "stdout",
     "output_type": "stream",
     "text": [
      "11\n",
      "10\n"
     ]
    }
   ],
   "source": [
    "i = 12\n",
    "while i > 10:\n",
    "    #12, 11\n",
    "    i -= 1 #11, 10\n",
    "    print(i) #11, 10"
   ]
  },
  {
   "cell_type": "code",
   "execution_count": 17,
   "id": "a4431d95",
   "metadata": {},
   "outputs": [
    {
     "name": "stdout",
     "output_type": "stream",
     "text": [
      "11\n",
      "10\n"
     ]
    }
   ],
   "source": [
    "i = 12\n",
    "while i > 10:\n",
    "    i -= 1\n",
    "    print(i)"
   ]
  },
  {
   "cell_type": "markdown",
   "id": "5abd1c16",
   "metadata": {},
   "source": [
    "#### Ćwiczenie\n",
    "Napisz pętle while, która będzie zwiększać liczbę dopóki nie będzie ona podzielna przez 5"
   ]
  },
  {
   "cell_type": "code",
   "execution_count": 18,
   "id": "02dd75cc",
   "metadata": {},
   "outputs": [],
   "source": [
    "#tutaj"
   ]
  },
  {
   "cell_type": "markdown",
   "id": "c0f08419",
   "metadata": {},
   "source": [
    "<h1> Kontrola przepływu - if, elif, else </h1>\n",
    "Instrukcje warunkowe if służą do kontroli przepływu poprzez narzucanie warunków na kod.\n",
    "Struktura to\n",
    "\n",
    "if <i> warunek </i>:\n",
    "\n",
    "    rób coś\n",
    "elif <i> warunek </i>:\n",
    "\n",
    "    rób coś\n",
    "else:\n",
    "\n",
    "    rób coś"
   ]
  },
  {
   "cell_type": "markdown",
   "id": "7ae3aa08",
   "metadata": {},
   "source": [
    "#### Najprostsza konstrukcja\n",
    "\n",
    "<i> warunek </i> <b> musi </b> być zmienną o typie bool (typem logicznym)"
   ]
  },
  {
   "cell_type": "code",
   "execution_count": 19,
   "id": "090a3ea3",
   "metadata": {},
   "outputs": [
    {
     "name": "stdout",
     "output_type": "stream",
     "text": [
      "A\n"
     ]
    }
   ],
   "source": [
    "if True:\n",
    "    print(\"A\")"
   ]
  },
  {
   "cell_type": "code",
   "execution_count": 20,
   "id": "b13b1757",
   "metadata": {},
   "outputs": [],
   "source": [
    "if False:\n",
    "    print(\"A\")"
   ]
  },
  {
   "cell_type": "code",
   "execution_count": 21,
   "id": "6487e4b7",
   "metadata": {},
   "outputs": [
    {
     "name": "stdout",
     "output_type": "stream",
     "text": [
      "B\n"
     ]
    }
   ],
   "source": [
    "if False:\n",
    "    print(\"A\")\n",
    "print(\"B\")"
   ]
  },
  {
   "cell_type": "markdown",
   "id": "f0a7a69a",
   "metadata": {},
   "source": [
    "W warunku może być wstawione coś co zwróci typ logiczny:"
   ]
  },
  {
   "cell_type": "code",
   "execution_count": 22,
   "id": "bce6c988",
   "metadata": {},
   "outputs": [
    {
     "name": "stdout",
     "output_type": "stream",
     "text": [
      "A\n"
     ]
    }
   ],
   "source": [
    "if 2<3:\n",
    "    print(\"A\")"
   ]
  },
  {
   "cell_type": "code",
   "execution_count": 23,
   "id": "2076957d",
   "metadata": {},
   "outputs": [
    {
     "name": "stdout",
     "output_type": "stream",
     "text": [
      "A\n"
     ]
    }
   ],
   "source": [
    "a = 2\n",
    "b = 3\n",
    "if a<b:\n",
    "    print(\"A\")"
   ]
  },
  {
   "cell_type": "markdown",
   "id": "efb8564d",
   "metadata": {},
   "source": [
    "#### Ćwiczenie\n",
    "Napisz instrukcję warunkową, która wyświetla większą z dwóch zmiennych a i b. Zakładamy, że a i b może być dowolne"
   ]
  },
  {
   "cell_type": "code",
   "execution_count": 24,
   "id": "fe6e17d5",
   "metadata": {},
   "outputs": [],
   "source": [
    "a = 10\n",
    "b = 20\n",
    "# tutaj"
   ]
  },
  {
   "cell_type": "markdown",
   "id": "c5d7734a",
   "metadata": {},
   "source": [
    "#### Wykorzystanie elif"
   ]
  },
  {
   "cell_type": "code",
   "execution_count": 25,
   "id": "2d8b42bc",
   "metadata": {},
   "outputs": [
    {
     "name": "stdout",
     "output_type": "stream",
     "text": [
      "dwa jest mniejsze od trzech\n"
     ]
    }
   ],
   "source": [
    "if 2>3:\n",
    "    print(\"dwa jest wieksze od trzech\")\n",
    "elif 2<3:\n",
    "    print(\"dwa jest mniejsze od trzech\")"
   ]
  },
  {
   "cell_type": "code",
   "execution_count": 26,
   "id": "52f2b451",
   "metadata": {},
   "outputs": [
    {
     "name": "stdout",
     "output_type": "stream",
     "text": [
      "IF\n"
     ]
    }
   ],
   "source": [
    "a = 2\n",
    "b = 3\n",
    "c = 4\n",
    "if b>a:\n",
    "    print(\"IF\")\n",
    "elif c>b:\n",
    "    print(\"ELIF\")"
   ]
  },
  {
   "cell_type": "code",
   "execution_count": 27,
   "id": "558b9eb9",
   "metadata": {},
   "outputs": [
    {
     "name": "stdout",
     "output_type": "stream",
     "text": [
      "IF\n",
      "ELIF\n"
     ]
    }
   ],
   "source": [
    "a = 2\n",
    "b = 3\n",
    "c = 4\n",
    "if b>a:\n",
    "    print(\"IF\")\n",
    "if c>b:\n",
    "    print(\"ELIF\")"
   ]
  },
  {
   "cell_type": "markdown",
   "id": "1b7dd79c",
   "metadata": {},
   "source": [
    "#### Pytanie: \n",
    "Jaka jest różnica między powyższymi operacjami?"
   ]
  },
  {
   "cell_type": "markdown",
   "id": "af0d715b",
   "metadata": {},
   "source": [
    "#### Wykorzystanie else\n",
    "\n",
    "Wykonuje się, gdy wszystkie inne powyższe warunki nie zostaną spełnione"
   ]
  },
  {
   "cell_type": "code",
   "execution_count": 28,
   "id": "1dd89ee9",
   "metadata": {},
   "outputs": [
    {
     "name": "stdout",
     "output_type": "stream",
     "text": [
      "Więc wykona się to\n"
     ]
    }
   ],
   "source": [
    "if \"a\" in \"Python\":\n",
    "    print(\"To się nie wykona\")\n",
    "elif \"b\" in \"Python\":\n",
    "    print(\"to też\")\n",
    "else:\n",
    "    print(\"Więc wykona się to\")"
   ]
  },
  {
   "cell_type": "code",
   "execution_count": 29,
   "id": "bedb1b86",
   "metadata": {},
   "outputs": [
    {
     "name": "stdout",
     "output_type": "stream",
     "text": [
      "Więc wykona się to\n"
     ]
    }
   ],
   "source": [
    "if \"a\" in \"Python\":\n",
    "    print(\"To się nie wykona\")\n",
    "elif \"b\" in \"Python\":\n",
    "    print(\"to też\")\n",
    "elif \"c\" in 'Python':\n",
    "    print('i to też')\n",
    "else:\n",
    "    print(\"Więc wykona się to\")"
   ]
  },
  {
   "cell_type": "markdown",
   "id": "7140af60",
   "metadata": {},
   "source": [
    "Zasady:\n",
    "    \n",
    "    każdy 'if' zaczyna nową instrukcję warunkową - jeden na instrukcję\n",
    "    'elif' może pojawić się wielokrotnie\n",
    "    'else' może być tylko jeden\n",
    "   "
   ]
  },
  {
   "cell_type": "markdown",
   "id": "23d491c2",
   "metadata": {},
   "source": [
    "## Operatory dodatkowe w kodach podrzędnych\n",
    "\n",
    "### pass, break, continue\n",
    "\n",
    "#### pass\n",
    "\n",
    "To pusty kod, nie wykonuje żadnej operacji. Ma dwa główne zastosowania:\n",
    "\n",
    "Jako 'trzymacz miejsca':"
   ]
  },
  {
   "cell_type": "code",
   "execution_count": 30,
   "id": "45bc4f35",
   "metadata": {},
   "outputs": [
    {
     "ename": "IndentationError",
     "evalue": "expected an indented block (3824879857.py, line 2)",
     "output_type": "error",
     "traceback": [
      "\u001b[1;36m  Input \u001b[1;32mIn [30]\u001b[1;36m\u001b[0m\n\u001b[1;33m    \u001b[0m\n\u001b[1;37m    ^\u001b[0m\n\u001b[1;31mIndentationError\u001b[0m\u001b[1;31m:\u001b[0m expected an indented block\n"
     ]
    }
   ],
   "source": [
    "for n in range(10):\n",
    "    "
   ]
  },
  {
   "cell_type": "code",
   "execution_count": 45,
   "id": "c7fc6d51",
   "metadata": {},
   "outputs": [],
   "source": [
    "for n in range(10):\n",
    "    pass # jeszcze nie wiem co tu będę kodował, ale nie chcę mieć błędu"
   ]
  },
  {
   "cell_type": "markdown",
   "id": "0fd77eea",
   "metadata": {},
   "source": [
    "oraz gdy chcemy żeby gdzieś nic faktycznie się nie wykonało:"
   ]
  },
  {
   "cell_type": "code",
   "execution_count": 46,
   "id": "a5d07ff9",
   "metadata": {},
   "outputs": [],
   "source": [
    "a = 3\n",
    "b = 10\n",
    "if a < b:\n",
    "    pass\n",
    "else:\n",
    "    print(\"ale to się nie wyświetli\")"
   ]
  },
  {
   "cell_type": "markdown",
   "id": "3d43ece5",
   "metadata": {},
   "source": [
    "### break\n",
    "\n",
    "Zatrzymuje wykonywanie operacji. Przydanty szczególnie w pętlach:"
   ]
  },
  {
   "cell_type": "code",
   "execution_count": 48,
   "id": "6281f4db",
   "metadata": {},
   "outputs": [
    {
     "name": "stdout",
     "output_type": "stream",
     "text": [
      "0\n",
      "1\n",
      "2\n",
      "3\n",
      "4\n",
      "5\n"
     ]
    }
   ],
   "source": [
    "for i in range(0,10): #break przerywa sekwencję\n",
    "    if i > 5:\n",
    "        break\n",
    "    print(i)"
   ]
  },
  {
   "cell_type": "code",
   "execution_count": 47,
   "id": "bdb0e52a",
   "metadata": {},
   "outputs": [
    {
     "name": "stdout",
     "output_type": "stream",
     "text": [
      "0 11\n",
      "1 12\n",
      "2 13\n",
      "3 14\n",
      "4 15\n",
      "5 16\n",
      "Warunek spełniono\n"
     ]
    }
   ],
   "source": [
    "b = 10\n",
    "for n in range(10000000):\n",
    "    b += 1\n",
    "    print(n,b)\n",
    "    if b > 15:\n",
    "        print(\"Warunek spełniono\")\n",
    "        break"
   ]
  },
  {
   "cell_type": "markdown",
   "id": "b85dc528",
   "metadata": {},
   "source": [
    "#### continue\n",
    "\n",
    "Przydatny szczególnie w pętlach, działa podobnie do break, ale wraca na początek pętli"
   ]
  },
  {
   "cell_type": "code",
   "execution_count": 51,
   "id": "538418bf",
   "metadata": {},
   "outputs": [
    {
     "name": "stdout",
     "output_type": "stream",
     "text": [
      "nieparzysta\n",
      "nieparzysta\n"
     ]
    }
   ],
   "source": [
    "for i in range(5):\n",
    "    if i%2 == 0:\n",
    "        continue\n",
    "    else:\n",
    "        print('nieparzysta',i)"
   ]
  },
  {
   "cell_type": "markdown",
   "id": "32e6895e",
   "metadata": {},
   "source": [
    "#### continue vs pass"
   ]
  },
  {
   "cell_type": "code",
   "execution_count": 57,
   "id": "ca214eb7",
   "metadata": {},
   "outputs": [
    {
     "name": "stdout",
     "output_type": "stream",
     "text": [
      "nieparzysta 3\n",
      "KONIEC\n"
     ]
    }
   ],
   "source": [
    "for i in range(2,5): #continue wraca na początek pętli\n",
    "    if i%2 == 0:\n",
    "        continue\n",
    "    else:\n",
    "        print('nieparzysta',i)\n",
    "    print(\"KONIEC\")"
   ]
  },
  {
   "cell_type": "code",
   "execution_count": 56,
   "id": "10efd98a",
   "metadata": {},
   "outputs": [
    {
     "name": "stdout",
     "output_type": "stream",
     "text": [
      "KONIEC\n",
      "nieparzysta 3\n",
      "KONIEC\n",
      "KONIEC\n"
     ]
    }
   ],
   "source": [
    "for i in range(2,5): #pass kontunuuje kod (ale w tym wypadku opuszcza już if)\n",
    "    if i%2 == 0:\n",
    "        pass\n",
    "    else:\n",
    "        print('nieparzysta',i)\n",
    "    print(\"KONIEC\")"
   ]
  },
  {
   "cell_type": "markdown",
   "id": "7be2d5e9",
   "metadata": {},
   "source": [
    "#### Ćwiczenie\n",
    "\n",
    "1. Zdefiniuj dwie zmienne lista1 = [1,2,3], b = [4,5,6]\n",
    "2. W pętli sprawdzaj czy najmniejszy element listy a jest mniejszy od największego elementu listy b. Jeśli tak jest, podnoś ten najmniejszy element o 1.\n",
    "3. Przerwij pętlę gdy warunek nie będzie już takich elementów.\n",
    "4. Po pętli wyświetl zmienną lista1"
   ]
  },
  {
   "cell_type": "code",
   "execution_count": 59,
   "id": "ad58033f",
   "metadata": {},
   "outputs": [],
   "source": [
    "# tutaj"
   ]
  },
  {
   "cell_type": "markdown",
   "id": "0503cc5d",
   "metadata": {},
   "source": [
    "<h1> Wyrażenia listowe </h1>\n",
    "\n",
    "To potężne Pythonowe narzędzie pozwalające na wykonanie nawet całej pętli w jednej linijce kodu.\n",
    "\n",
    "Zwykła lista wyglądałaby tak:"
   ]
  },
  {
   "cell_type": "code",
   "execution_count": 60,
   "id": "172b47b3",
   "metadata": {},
   "outputs": [
    {
     "name": "stdout",
     "output_type": "stream",
     "text": [
      "[0, 1, 2, 3, 4, 5, 6, 7, 8, 9]\n"
     ]
    }
   ],
   "source": [
    "lista = []\n",
    "for x in range(10):\n",
    "    lista.append(x)\n",
    "print(lista)"
   ]
  },
  {
   "cell_type": "markdown",
   "id": "5906bf78",
   "metadata": {},
   "source": [
    "Odpowiednik tej listy w wyrażeniu listowym:"
   ]
  },
  {
   "cell_type": "code",
   "execution_count": 61,
   "id": "8e0de1d3",
   "metadata": {},
   "outputs": [
    {
     "name": "stdout",
     "output_type": "stream",
     "text": [
      "[0, 1, 2, 3, 4, 5, 6, 7, 8, 9]\n"
     ]
    }
   ],
   "source": [
    "print([x for x in range(10)])"
   ]
  },
  {
   "cell_type": "markdown",
   "id": "bbb7d618",
   "metadata": {},
   "source": [
    "W wyrażeniu listowym możemy wykonywac operacje:"
   ]
  },
  {
   "cell_type": "code",
   "execution_count": 64,
   "id": "84e5279a",
   "metadata": {},
   "outputs": [
    {
     "name": "stdout",
     "output_type": "stream",
     "text": [
      "[0, 4, 16, 36, 64, 100, 144, 196, 256, 324]\n"
     ]
    }
   ],
   "source": [
    "print([x**2 for x in range(0,20,2)])"
   ]
  },
  {
   "cell_type": "markdown",
   "id": "bbc8bf01",
   "metadata": {},
   "source": [
    "oraz dodawać warunki:"
   ]
  },
  {
   "cell_type": "code",
   "execution_count": 63,
   "id": "3466937b",
   "metadata": {},
   "outputs": [
    {
     "name": "stdout",
     "output_type": "stream",
     "text": [
      "[0, 4, 16, 36, 64, 100, 144, 196, 256, 324]\n"
     ]
    }
   ],
   "source": [
    "print([x**2 for x in range(0,20,2) if x % 2 == 0])"
   ]
  },
  {
   "cell_type": "markdown",
   "id": "15077b69",
   "metadata": {},
   "source": [
    "#### Ćwiczenie:\n",
    "\n",
    "Stwórz listę sześcianów liczby dwa dla potęg od 0 do 12."
   ]
  },
  {
   "cell_type": "markdown",
   "id": "e664b1cf",
   "metadata": {},
   "source": [
    "## Rozpakowywanie sekwencji (unzip)"
   ]
  },
  {
   "cell_type": "markdown",
   "id": "3c669f3c",
   "metadata": {},
   "source": [
    "To prosta operacja, która ma za zadanie przypisanie elementów typu złożonego do prostszego:"
   ]
  },
  {
   "cell_type": "code",
   "execution_count": 66,
   "id": "e7a49b69",
   "metadata": {},
   "outputs": [
    {
     "name": "stdout",
     "output_type": "stream",
     "text": [
      "1\n",
      "2\n"
     ]
    }
   ],
   "source": [
    "krotka = (1,2)\n",
    "a,b = krotka\n",
    "print(a)\n",
    "print(b)"
   ]
  },
  {
   "cell_type": "code",
   "execution_count": 67,
   "id": "48288fb1",
   "metadata": {},
   "outputs": [
    {
     "ename": "ValueError",
     "evalue": "not enough values to unpack (expected 3, got 2)",
     "output_type": "error",
     "traceback": [
      "\u001b[1;31m---------------------------------------------------------------------------\u001b[0m",
      "\u001b[1;31mValueError\u001b[0m                                Traceback (most recent call last)",
      "Cell \u001b[1;32mIn[67], line 2\u001b[0m\n\u001b[0;32m      1\u001b[0m krotka \u001b[38;5;241m=\u001b[39m (\u001b[38;5;241m1\u001b[39m,\u001b[38;5;241m2\u001b[39m)\n\u001b[1;32m----> 2\u001b[0m a,b,c \u001b[38;5;241m=\u001b[39m krotka\n\u001b[0;32m      3\u001b[0m \u001b[38;5;28mprint\u001b[39m(a)\n\u001b[0;32m      4\u001b[0m \u001b[38;5;28mprint\u001b[39m(b)\n",
      "\u001b[1;31mValueError\u001b[0m: not enough values to unpack (expected 3, got 2)"
     ]
    }
   ],
   "source": [
    "krotka = (1,2)\n",
    "a,b,c = krotka\n",
    "print(a)\n",
    "print(b)"
   ]
  },
  {
   "cell_type": "code",
   "execution_count": 68,
   "id": "f0f4a413",
   "metadata": {},
   "outputs": [
    {
     "ename": "ValueError",
     "evalue": "too many values to unpack (expected 2)",
     "output_type": "error",
     "traceback": [
      "\u001b[1;31m---------------------------------------------------------------------------\u001b[0m",
      "\u001b[1;31mValueError\u001b[0m                                Traceback (most recent call last)",
      "Cell \u001b[1;32mIn[68], line 2\u001b[0m\n\u001b[0;32m      1\u001b[0m lista \u001b[38;5;241m=\u001b[39m [\u001b[38;5;241m1\u001b[39m,\u001b[38;5;241m2\u001b[39m,\u001b[38;5;241m3\u001b[39m,\u001b[38;5;241m4\u001b[39m]\n\u001b[1;32m----> 2\u001b[0m a,b \u001b[38;5;241m=\u001b[39m lista\n\u001b[0;32m      3\u001b[0m \u001b[38;5;28mprint\u001b[39m(a)\n\u001b[0;32m      4\u001b[0m \u001b[38;5;28mprint\u001b[39m(b)\n",
      "\u001b[1;31mValueError\u001b[0m: too many values to unpack (expected 2)"
     ]
    }
   ],
   "source": [
    "lista = [1,2,3,4]\n",
    "a,b = lista\n",
    "print(a)\n",
    "print(b)"
   ]
  },
  {
   "cell_type": "code",
   "execution_count": 69,
   "id": "20d17a07",
   "metadata": {},
   "outputs": [
    {
     "name": "stdout",
     "output_type": "stream",
     "text": [
      "1\n",
      "[2, 3, 4]\n"
     ]
    }
   ],
   "source": [
    "lista = [1,2,3,4]\n",
    "a,*b = lista\n",
    "print(a)\n",
    "print(b)"
   ]
  },
  {
   "cell_type": "markdown",
   "id": "a6565e32",
   "metadata": {},
   "source": [
    "## Pakowanie sekwencji (zip)\n",
    "\n",
    "To funkcja wbudowana, która pakuje typy sekwencyjne w pary (krotki):"
   ]
  },
  {
   "cell_type": "code",
   "execution_count": 70,
   "id": "45f35a01",
   "metadata": {},
   "outputs": [
    {
     "name": "stdout",
     "output_type": "stream",
     "text": [
      "<zip object at 0x00000222243B2F80>\n"
     ]
    }
   ],
   "source": [
    "x = [44, 42, 39]\n",
    "y = ['Radek', 'Arek', 'Kasia']\n",
    "z = ['czarne', 'czerwone', 64.2]\n",
    "\n",
    "polaczone = zip(x, y, z) # pary ((x[i], y[i]),(x[i+1],y[i+1]...)\n",
    "print(polaczone)"
   ]
  },
  {
   "cell_type": "code",
   "execution_count": 71,
   "id": "7651f8f2",
   "metadata": {},
   "outputs": [
    {
     "name": "stdout",
     "output_type": "stream",
     "text": [
      "[(44, 'Radek', 'czarne'), (42, 'Arek', 'czerwone'), (39, 'Kasia', 64.2)]\n"
     ]
    }
   ],
   "source": [
    "x = [44, 42, 39]\n",
    "y = ['Radek', 'Arek', 'Kasia']\n",
    "z = ['czarne', 'czerwone', 64.2]\n",
    "\n",
    "polaczone = zip(x, y, z) # pary ((x[i], y[i]),(x[i+1],y[i+1]...)\n",
    "print(list(polaczone))"
   ]
  },
  {
   "cell_type": "markdown",
   "id": "f8aa390f",
   "metadata": {},
   "source": [
    "#### Ćwiczenie:\n",
    "Mając zmienne:\n",
    "```\n",
    "lista1 = [1,2,3,4]\n",
    "lista2 = ['A','B','C','D']\n",
    "```\n",
    "Napisz pętlę for, która będzie pakować (zip()) te zmienne w takie pary:\n",
    "```\n",
    "(1,A), (2,B),...\n",
    "```\n",
    "A następnie mnóż wartości z listy1 przez 2 i wyświetlaj te pary.\n",
    "\n",
    "Oczekiwany wynik:\n",
    "```\n",
    "(2,A)\n",
    "(4,B)\n",
    "(6,C)\n",
    "(8,D)\n",
    "```"
   ]
  },
  {
   "cell_type": "code",
   "execution_count": null,
   "id": "ff6b08cd",
   "metadata": {},
   "outputs": [],
   "source": [
    "#tutaj"
   ]
  }
 ],
 "metadata": {
  "kernelspec": {
   "display_name": "Python 3 (ipykernel)",
   "language": "python",
   "name": "python3"
  },
  "language_info": {
   "codemirror_mode": {
    "name": "ipython",
    "version": 3
   },
   "file_extension": ".py",
   "mimetype": "text/x-python",
   "name": "python",
   "nbconvert_exporter": "python",
   "pygments_lexer": "ipython3",
   "version": "3.9.12"
  }
 },
 "nbformat": 4,
 "nbformat_minor": 5
}