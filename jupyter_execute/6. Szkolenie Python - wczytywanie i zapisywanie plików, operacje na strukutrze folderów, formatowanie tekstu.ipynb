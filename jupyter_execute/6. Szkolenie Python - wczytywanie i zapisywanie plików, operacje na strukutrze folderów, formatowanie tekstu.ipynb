{
 "cells": [
  {
   "cell_type": "markdown",
   "id": "a76b6c1b",
   "metadata": {},
   "source": [
    "# 6. Wczytywanie i zapisywanie plików, operacje na strukutrze folderów, formatowanie tekstu"
   ]
  },
  {
   "cell_type": "markdown",
   "id": "6e55624e",
   "metadata": {},
   "source": [
    "<center>\n",
    "<h1>Szkolenie Python - wczytywanie i zapisywanie plików, operacje na strukutrze folderów, formatowanie tekstu</h1>\n",
    "</center>\n",
    "\n",
    "Operacje na plikach i strukturze folderów są bardzo przydatne podczas codziennej pracy, a komunikacja z systemem w Pythonie jest zaskakująco łatwa. W tym module zajmiemy się tą funkcjonalnością Pythona.\n"
   ]
  },
  {
   "cell_type": "markdown",
   "id": "14220458",
   "metadata": {},
   "source": [
    "<h1> Operacje na plikach </h1>\n",
    "\n",
    "Do otiwerania plików służy wbudowana funkcja open. Przyjmuje wiele postaci, najważniejsze opcje to open(file, mode), gdzie:\n",
    "\n",
    "<ul>\n",
    "    <li>file - nazwa pliku, ścieżka</li>\n",
    "    <li>mode - tryb (odczytywanie czy zapis) </li>\n",
    "</ul>\n",
    "\n",
    "Ścieżkę możemy podać na dwa sposoby - względnie i bezwzględnie. \n",
    "\n",
    "Jeśli podajem bezwzględnie, podajemy całą, pełną ścieżkę do pliku, np. \"C:\\Folder1\\Folder2\\plik.txt\"\n",
    "\n",
    "Jeśli podajemy ją względnie, plik musi się znajdować w folderze w którym jest nasz plik, w ktorym piszemy kod lub w podfolderze. Wtedy podajemy jedynie nazwę pliku lub ścieżkę z podfolderami np. \n",
    "\n",
    "    \"plik.txt\" - jeśli znajduje się tam gdzie nasz kod\n",
    "    \"\\\\podfolder1\\podfolder2\\plik.txt\" -jeśli jest w podfolderze względem naszego pliku z kodem.\n",
    "    \n",
    "Ścieżki podawać jest najlepiej podając 'r' przed ścieżką:\n",
    "\n",
    "    r\"C:\\folder1\\plik.txt\"\n",
    "    \n",
    "Lub używając potrójnego cudzysłowu i podwójnych ukośników:\n",
    "\n",
    "    \"\"\"C:\\\\folder1\\\\plik.txt\"\"\"\n",
    "    \n",
    "W przeciwnym razie możemy otrzymywać błędy.\n",
    "\n",
    "\n",
    "W folderze z tym kursem znajduje się plik o nazwik 'plik.txt'. Wczytajmy go:\n"
   ]
  },
  {
   "cell_type": "code",
   "execution_count": 1,
   "id": "e309c9d6",
   "metadata": {},
   "outputs": [
    {
     "ename": "FileNotFoundError",
     "evalue": "[Errno 2] No such file or directory: 'plik.txt'",
     "output_type": "error",
     "traceback": [
      "\u001b[1;31m---------------------------------------------------------------------------\u001b[0m",
      "\u001b[1;31mFileNotFoundError\u001b[0m                         Traceback (most recent call last)",
      "Input \u001b[1;32mIn [1]\u001b[0m, in \u001b[0;36m<cell line: 1>\u001b[1;34m()\u001b[0m\n\u001b[1;32m----> 1\u001b[0m plik \u001b[38;5;241m=\u001b[39m \u001b[38;5;28;43mopen\u001b[39;49m\u001b[43m(\u001b[49m\u001b[38;5;124;43m'\u001b[39;49m\u001b[38;5;124;43mplik.txt\u001b[39;49m\u001b[38;5;124;43m'\u001b[39;49m\u001b[43m,\u001b[49m\u001b[38;5;124;43m'\u001b[39;49m\u001b[38;5;124;43mr\u001b[39;49m\u001b[38;5;124;43m'\u001b[39;49m\u001b[43m)\u001b[49m\n",
      "\u001b[1;31mFileNotFoundError\u001b[0m: [Errno 2] No such file or directory: 'plik.txt'"
     ]
    }
   ],
   "source": [
    "plik = open('plik.txt','r') #r-odczyt, w-zapis"
   ]
  },
  {
   "cell_type": "markdown",
   "id": "14c0f518",
   "metadata": {},
   "source": [
    "r - odczyt, w - zapis, a - zapis do końca pliku"
   ]
  },
  {
   "cell_type": "code",
   "execution_count": 3,
   "id": "30e49df8",
   "metadata": {},
   "outputs": [
    {
     "name": "stdout",
     "output_type": "stream",
     "text": [
      "<_io.TextIOWrapper name='plik.txt' mode='r' encoding='cp1250'>\n"
     ]
    }
   ],
   "source": [
    "print(plik)"
   ]
  },
  {
   "cell_type": "markdown",
   "id": "d254cf60",
   "metadata": {},
   "source": [
    "Wyświetlmy zawartość:"
   ]
  },
  {
   "cell_type": "code",
   "execution_count": 5,
   "id": "1b78559e",
   "metadata": {},
   "outputs": [
    {
     "data": {
      "text/plain": [
       "'To jest tekst\\nDruga linia tez ma tekst'"
      ]
     },
     "execution_count": 5,
     "metadata": {},
     "output_type": "execute_result"
    }
   ],
   "source": [
    "plik.read()"
   ]
  },
  {
   "cell_type": "markdown",
   "id": "16e0c7e8",
   "metadata": {},
   "source": [
    "Python wyświetla też znaki ukryte, np. \\n (nowa linia), \\t (tab), \\r (znak enter)"
   ]
  },
  {
   "cell_type": "markdown",
   "id": "7458b71b",
   "metadata": {},
   "source": [
    "Plik po zakończonej pracy <b> trzeba </b> zamknąć. Można:"
   ]
  },
  {
   "cell_type": "code",
   "execution_count": 6,
   "id": "42c7a532",
   "metadata": {},
   "outputs": [],
   "source": [
    "plik.close()"
   ]
  },
  {
   "cell_type": "markdown",
   "id": "191a6d7e",
   "metadata": {},
   "source": [
    "Aby odczytać tylko jedną linijkę:"
   ]
  },
  {
   "cell_type": "code",
   "execution_count": 8,
   "id": "3c6feace",
   "metadata": {},
   "outputs": [
    {
     "name": "stdout",
     "output_type": "stream",
     "text": [
      "To jest tekst\n",
      "\n"
     ]
    }
   ],
   "source": [
    "plik = open('plik.txt','r') #r-odczyt\n",
    "print(plik.readline()) #jedna linijka\n",
    "plik.close()"
   ]
  },
  {
   "cell_type": "markdown",
   "id": "6478b8d1",
   "metadata": {},
   "source": [
    "Pamiętanie o ciągłym zamykaniu pliku po otwarciu jest uciążliwe. Poznajmy szczególną konstrukcję \"with\", która zrobi to za nas:"
   ]
  },
  {
   "cell_type": "code",
   "execution_count": 10,
   "id": "925ea28b",
   "metadata": {},
   "outputs": [
    {
     "name": "stdout",
     "output_type": "stream",
     "text": [
      "<_io.TextIOWrapper name='plik.txt' mode='r' encoding='cp1250'>\n"
     ]
    }
   ],
   "source": [
    "with open('plik.txt','r') as plik:\n",
    "    print(plik)\n",
    "    #tu plik jest otwarty\n",
    "#a tu już zamknięty"
   ]
  },
  {
   "cell_type": "markdown",
   "id": "7d87e519",
   "metadata": {},
   "source": [
    "Ochrona pliku:"
   ]
  },
  {
   "cell_type": "code",
   "execution_count": 11,
   "id": "d610a243",
   "metadata": {},
   "outputs": [
    {
     "ename": "UnsupportedOperation",
     "evalue": "not writable",
     "output_type": "error",
     "traceback": [
      "\u001b[1;31m---------------------------------------------------------------------------\u001b[0m",
      "\u001b[1;31mUnsupportedOperation\u001b[0m                      Traceback (most recent call last)",
      "Input \u001b[1;32mIn [11]\u001b[0m, in \u001b[0;36m<cell line: 1>\u001b[1;34m()\u001b[0m\n\u001b[0;32m      1\u001b[0m \u001b[38;5;28;01mwith\u001b[39;00m \u001b[38;5;28mopen\u001b[39m(\u001b[38;5;124m'\u001b[39m\u001b[38;5;124mplik.txt\u001b[39m\u001b[38;5;124m'\u001b[39m,\u001b[38;5;124m'\u001b[39m\u001b[38;5;124mr\u001b[39m\u001b[38;5;124m'\u001b[39m) \u001b[38;5;28;01mas\u001b[39;00m plik:\n\u001b[1;32m----> 2\u001b[0m     \u001b[43mplik\u001b[49m\u001b[38;5;241;43m.\u001b[39;49m\u001b[43mwrite\u001b[49m\u001b[43m(\u001b[49m\u001b[38;5;124;43m\"\u001b[39;49m\u001b[38;5;124;43mDodatkowa linia1\u001b[39;49m\u001b[38;5;124;43m\"\u001b[39;49m\u001b[43m)\u001b[49m\n",
      "\u001b[1;31mUnsupportedOperation\u001b[0m: not writable"
     ]
    }
   ],
   "source": [
    "with open('plik.txt','r') as plik:\n",
    "    plik.write(\"Dodatkowa linia1\") #dopisanie lini tylko w trybie a"
   ]
  },
  {
   "cell_type": "markdown",
   "id": "8105d457",
   "metadata": {},
   "source": [
    "Aby zapisać coś do pliku, plik trzeba otworzyć w trybie 'a' lub 'w' (UWAGA: otwarcie w trybie 'w' i wykonanie zapisu <b> usunie wszystko </b> co było w pliku!)"
   ]
  },
  {
   "cell_type": "code",
   "execution_count": 12,
   "id": "d16bb99d",
   "metadata": {},
   "outputs": [],
   "source": [
    "with open('plik.txt','a') as plik:\n",
    "    plik.write(\"Dopisuje linie\") #dopisanie lini tylko w trybie a"
   ]
  },
  {
   "cell_type": "markdown",
   "id": "e89d4061",
   "metadata": {},
   "source": [
    "Odczyt możliwy jest za pomocą poleceń readline(), readlines() lub read() oraz za pomocą pętli for"
   ]
  },
  {
   "cell_type": "code",
   "execution_count": null,
   "id": "332129d7",
   "metadata": {},
   "outputs": [],
   "source": [
    "with open('plik.txt','r') as plik:\n",
    "    print(plik.readline()) #odczyt jednej lini"
   ]
  },
  {
   "cell_type": "code",
   "execution_count": 15,
   "id": "bba3923a",
   "metadata": {},
   "outputs": [
    {
     "name": "stdout",
     "output_type": "stream",
     "text": [
      "['To jest tekst\\n', 'Druga linia tez ma tekstDopisuje linie']\n"
     ]
    }
   ],
   "source": [
    "with open('plik.txt','r') as plik:\n",
    "    print(plik.readlines()) #odczyt wszystkich linii z rozbiciem na linie"
   ]
  },
  {
   "cell_type": "code",
   "execution_count": 16,
   "id": "04265e4c",
   "metadata": {},
   "outputs": [
    {
     "name": "stdout",
     "output_type": "stream",
     "text": [
      "To jest tekst\n",
      "Druga linia tez ma tekstDopisuje linie\n"
     ]
    }
   ],
   "source": [
    "with open('plik.txt','r') as plik:\n",
    "    print(plik.read()) #odczyt całego pliku"
   ]
  },
  {
   "cell_type": "markdown",
   "id": "04411238",
   "metadata": {},
   "source": [
    "#### Ćwiczenie:\n",
    "\n",
    "1. Użytj trybu \"w\" wraz z poleceniem 'with' aby zapisać do pliku tekst \"To jest tekst\\nDruga linia tez ma tekst\"\n",
    "2. Uzyj trybu czytania \"r\" by otworzyć plik o nazwie 'plik2.txt'. Odczytaj wszystkie słowa i stwórz listę unikalnych słów w pliku. Ile ich jest?"
   ]
  },
  {
   "cell_type": "markdown",
   "id": "8d707d10",
   "metadata": {},
   "source": [
    "### Biblioteka os\n",
    "\n",
    "Biblioteka os jest bardzo przydatna do pracy z systemem eksploratora plików i komunikacji pomiędzy nim a językiem Python. Najpierw importujemy bibliotekę:"
   ]
  },
  {
   "cell_type": "code",
   "execution_count": 2,
   "id": "209aa67b",
   "metadata": {},
   "outputs": [],
   "source": [
    "import os"
   ]
  },
  {
   "cell_type": "markdown",
   "id": "27865b89",
   "metadata": {},
   "source": [
    "Biblioteka ma bardzo dużo funkcjonalności. Zajmiemy się tylko tymi najbardziej potrzebnymi i najczęściej używanymi.\n",
    "\n",
    "Pozyskaj obecny folder, w ktorym jesteśmy (w sensie plik w którym kodujemy)"
   ]
  },
  {
   "cell_type": "code",
   "execution_count": 7,
   "id": "911d9525",
   "metadata": {},
   "outputs": [
    {
     "data": {
      "text/plain": [
       "'D:\\\\'"
      ]
     },
     "execution_count": 7,
     "metadata": {},
     "output_type": "execute_result"
    }
   ],
   "source": [
    "os.getcwd()"
   ]
  },
  {
   "cell_type": "markdown",
   "id": "90c9dc4e",
   "metadata": {},
   "source": [
    "Możemy zmienić naszą ścieżkę, która będzie stanowić punkt startowy za pomocą polecenia chdir"
   ]
  },
  {
   "cell_type": "code",
   "execution_count": 10,
   "id": "7dbaa521",
   "metadata": {},
   "outputs": [],
   "source": [
    "os.chdir('D:\\\\')"
   ]
  },
  {
   "cell_type": "markdown",
   "id": "e26db47a",
   "metadata": {},
   "source": [
    "Możemy użyć biblioteki os do tworzenia folderów. Należy wykorzystać punkcję os.mkdir(ścieżka_gdzie_ma_być_folder)"
   ]
  },
  {
   "cell_type": "code",
   "execution_count": 14,
   "id": "90d892e0",
   "metadata": {},
   "outputs": [],
   "source": [
    "os.mkdir('D:\\\\Szkolenie_Python\\\\moj_folder')"
   ]
  },
  {
   "cell_type": "markdown",
   "id": "d66798fa",
   "metadata": {},
   "source": [
    "Usuwanie foldera odbywa się za pomocą funkcji os.rmdir(ścieżka_do_usunięcia):"
   ]
  },
  {
   "cell_type": "code",
   "execution_count": 16,
   "id": "f05abebd",
   "metadata": {},
   "outputs": [],
   "source": [
    "os.rmdir('D:\\\\Szkolenie_Python\\\\moj_folder')"
   ]
  },
  {
   "cell_type": "markdown",
   "id": "b73289d7",
   "metadata": {},
   "source": [
    "Analogicznie działa os.remove(sciezka_pliku_do_usunięcia), który usuwa pliki."
   ]
  },
  {
   "cell_type": "markdown",
   "id": "e856dc93",
   "metadata": {},
   "source": [
    "#### Często używane funkcje:\n",
    "Poznajmy jeszcze trzy często używane funkcje:\n",
    "\n",
    "    os.rename()\n",
    "    os.path.join()\n",
    "    os.walk()\n",
    "    \n",
    "os.rename() służy do zmiany nazwy plików lub folderów. Używamy go w następujący sposób: os.rename(stara_sciezka,nowa_nazwa):"
   ]
  },
  {
   "cell_type": "code",
   "execution_count": 22,
   "id": "ffc8541d",
   "metadata": {},
   "outputs": [],
   "source": [
    "os.mkdir('D:\\\\Szkolenie_Python\\\\moj_folder') #stworzmy nowy folder\n",
    "os.rename('D:\\Szkolenie_Python\\moj_folder','nowa_nazwa')# zmienia nazwe \"moj_folder: na nowa_nazwa\n",
    "os.rmdir('D:\\\\Szkolenie_Python\\\\nowa_nazwa') #usunmy zmieniony folder"
   ]
  },
  {
   "cell_type": "markdown",
   "id": "2f369c68",
   "metadata": {},
   "source": [
    "os.path.join() - sluzy do łączenia ścieżek, zobaczmy:"
   ]
  },
  {
   "cell_type": "code",
   "execution_count": 23,
   "id": "d283e8a7",
   "metadata": {},
   "outputs": [
    {
     "data": {
      "text/plain": [
       "'D:Folder1\\\\Folder2\\\\plik.txt'"
      ]
     },
     "execution_count": 23,
     "metadata": {},
     "output_type": "execute_result"
    }
   ],
   "source": [
    "os.path.join(\"D:\",'Folder1','Folder2','plik.txt')"
   ]
  },
  {
   "cell_type": "markdown",
   "id": "b6d6e37f",
   "metadata": {},
   "source": [
    "os.walk() - bardzo przydatna funkcja, która służy do iteracji przez wszystkie pliki i podfoldery w danej ścieżce.\n",
    "\n",
    "Zalozmy, ze w materialach do cwiczen znajduje się folder o nazwie \"Podfolder\", a w nim 3 pliki tekstowe. Zobaczymy co sie stanie gdy użyjemy os.walk():"
   ]
  },
  {
   "cell_type": "code",
   "execution_count": 25,
   "id": "a77153a5",
   "metadata": {},
   "outputs": [
    {
     "data": {
      "text/plain": [
       "<generator object _walk at 0x000001E23DBB0890>"
      ]
     },
     "execution_count": 25,
     "metadata": {},
     "output_type": "execute_result"
    }
   ],
   "source": [
    "os.walk(\"Podfolder\")"
   ]
  },
  {
   "cell_type": "markdown",
   "id": "40787280",
   "metadata": {},
   "source": [
    "Zwrócony został generator plików. Musimy przez generator się przeiterować by dostać informację, co jest w tym podfolderze:"
   ]
  },
  {
   "cell_type": "code",
   "execution_count": 27,
   "id": "90230530",
   "metadata": {},
   "outputs": [
    {
     "name": "stdout",
     "output_type": "stream",
     "text": [
      "('Podfolder', [], ['p1.txt', 'p2.txt', 'p3.txt'])\n"
     ]
    }
   ],
   "source": [
    "for x in os.walk(\"Podfolder\"):\n",
    "    print(x)"
   ]
  },
  {
   "cell_type": "markdown",
   "id": "4a79cb52",
   "metadata": {},
   "source": [
    "### Ćwiczenie:\n",
    "Dostaliśmy kolejno: nazwe ściezki, w której jesteśmy, liste folderów w tym folderze oraz listę plików. Użyj zatem tej informacji by odczytać te 3 pliki tekstowe, które znajdują się tym w podfolderze:"
   ]
  },
  {
   "cell_type": "code",
   "execution_count": 31,
   "id": "fef569d8",
   "metadata": {},
   "outputs": [
    {
     "ename": "IndentationError",
     "evalue": "expected an indented block (2480353013.py, line 2)",
     "output_type": "error",
     "traceback": [
      "\u001b[1;36m  Input \u001b[1;32mIn [31]\u001b[1;36m\u001b[0m\n\u001b[1;33m    #tutaj\u001b[0m\n\u001b[1;37m          ^\u001b[0m\n\u001b[1;31mIndentationError\u001b[0m\u001b[1;31m:\u001b[0m expected an indented block\n"
     ]
    }
   ],
   "source": [
    "for r,d,f in os.walk(\"Podfolder\"):\n",
    "    #tutaj"
   ]
  },
  {
   "cell_type": "markdown",
   "id": "d900a2de",
   "metadata": {},
   "source": [
    "## Formatowanie tekstu\n",
    "\n",
    "Przy zapisywaniu tekstu do plików, bardzo często będziemy potrzebowali sformatować tekst tak, by miał on wymagany przez nas kształt. Istnieje kilka sposobów formatowania tekstu. \n",
    "\n",
    "Pierwsza i najbardziej podstawowa (niezalecana) to kontatenacja tesktu - czyli jego dodawanie:"
   ]
  },
  {
   "cell_type": "code",
   "execution_count": 32,
   "id": "a1cb027d",
   "metadata": {},
   "outputs": [
    {
     "data": {
      "text/plain": [
       "'x jest równe 2'"
      ]
     },
     "execution_count": 32,
     "metadata": {},
     "output_type": "execute_result"
    }
   ],
   "source": [
    "x = 2\n",
    "\"x jest równe \" + str(x) #działa, ale mało wygodne"
   ]
  },
  {
   "cell_type": "markdown",
   "id": "29ff39dc",
   "metadata": {},
   "source": [
    "Metoda klasy string <b>format</b> jest zalecanym rozwiązaniem:"
   ]
  },
  {
   "cell_type": "code",
   "execution_count": 34,
   "id": "52bd11f8",
   "metadata": {},
   "outputs": [
    {
     "data": {
      "text/plain": [
       "'x jest równe 2'"
      ]
     },
     "execution_count": 34,
     "metadata": {},
     "output_type": "execute_result"
    }
   ],
   "source": [
    "x = 2\n",
    "\"x jest równe {}\".format(x) #metoda klasy string"
   ]
  },
  {
   "cell_type": "markdown",
   "id": "6292d033",
   "metadata": {},
   "source": [
    "Podajemy zatem tekst, a w klamrach {} zostawiamy miejsce na tekst, który chcemy aby został pobrany z podanych zmiennych.\n",
    "\n",
    "Możemy takich miejsc zadeklarować wiele:\n",
    "\n"
   ]
  },
  {
   "cell_type": "code",
   "execution_count": 37,
   "id": "b9de7185",
   "metadata": {},
   "outputs": [
    {
     "data": {
      "text/plain": [
       "'To jest Ala, a to jej kot'"
      ]
     },
     "execution_count": 37,
     "metadata": {},
     "output_type": "execute_result"
    }
   ],
   "source": [
    "imie = \"Ala\"\n",
    "zwierze = \"kot\"\n",
    "\n",
    "\"To jest {}, a to jej {}\".format(imie,zwierze) "
   ]
  },
  {
   "cell_type": "markdown",
   "id": "03fa1e4f",
   "metadata": {},
   "source": [
    "Lub wersja z rozpakowaniem sekwencji:"
   ]
  },
  {
   "cell_type": "code",
   "execution_count": 38,
   "id": "1786fbf4",
   "metadata": {},
   "outputs": [
    {
     "data": {
      "text/plain": [
       "'To jest Ala, a to jej kot'"
      ]
     },
     "execution_count": 38,
     "metadata": {},
     "output_type": "execute_result"
    }
   ],
   "source": [
    "imiona = ('Ala', 'kot')\n",
    "\n",
    "\"To jest {}, a to jej {}\".format(*imiona) #rozpakowanie sekwencji tekstu"
   ]
  },
  {
   "cell_type": "markdown",
   "id": "ef4a37c0",
   "metadata": {},
   "source": [
    "Mozemy użyć indeksacji do określenia pozycji tekstu:"
   ]
  },
  {
   "cell_type": "code",
   "execution_count": 40,
   "id": "95b2016a",
   "metadata": {},
   "outputs": [
    {
     "data": {
      "text/plain": [
       "'To jest kot, a to jej Ala'"
      ]
     },
     "execution_count": 40,
     "metadata": {},
     "output_type": "execute_result"
    }
   ],
   "source": [
    "imie = \"Ala\"\n",
    "zwierze = \"kot\"\n",
    "\n",
    "\"To jest {1}, a to jej {0}\".format(imie,zwierze) "
   ]
  },
  {
   "cell_type": "markdown",
   "id": "901d6886",
   "metadata": {},
   "source": [
    "Najwygodniejszą metodą jest natomiast podanie tekstu poprzez argument kluczowy:"
   ]
  },
  {
   "cell_type": "code",
   "execution_count": 41,
   "id": "fc5253a8",
   "metadata": {},
   "outputs": [
    {
     "data": {
      "text/plain": [
       "'To jest Ala, a to jej kot'"
      ]
     },
     "execution_count": 41,
     "metadata": {},
     "output_type": "execute_result"
    }
   ],
   "source": [
    "imie = \"Ala\"\n",
    "zwierze = \"kot\"\n",
    "\n",
    "\"To jest {nazwa}, a to jej {zwierzak}\".format(nazwa=imie,zwierzak=zwierze) "
   ]
  },
  {
   "cell_type": "markdown",
   "id": "45ffe36a",
   "metadata": {},
   "source": [
    "Możemy deklarować typ wyświetlania danej zmiennej w tekście. Te typy to:\n",
    "\n",
    "    s – tekst (strings)\n",
    "    d – liczba całkowita (decimal integers (base-10))\n",
    "    f – liczba zmiennoprzecinkowa (floating point display)\n",
    "    c – znak (character)\n",
    "    b – liczba binarna (binary)\n",
    "    o – liczba ósemkowa (octal)\n",
    "    x – liczba szesnastkowa (hexadecimal with lowercase letters after 9)\n",
    "    e – notacja wykładnicza (exponent notation)"
   ]
  },
  {
   "cell_type": "code",
   "execution_count": 42,
   "id": "80921f87",
   "metadata": {},
   "outputs": [
    {
     "data": {
      "text/plain": [
       "'To jest Ala i ma 10 lat'"
      ]
     },
     "execution_count": 42,
     "metadata": {},
     "output_type": "execute_result"
    }
   ],
   "source": [
    "\"To jest {:s} i ma {:d} lat\".format(\"Ala\",10)"
   ]
  },
  {
   "cell_type": "code",
   "execution_count": 43,
   "id": "402fc746",
   "metadata": {},
   "outputs": [
    {
     "ename": "ValueError",
     "evalue": "Unknown format code 's' for object of type 'int'",
     "output_type": "error",
     "traceback": [
      "\u001b[1;31m---------------------------------------------------------------------------\u001b[0m",
      "\u001b[1;31mValueError\u001b[0m                                Traceback (most recent call last)",
      "Input \u001b[1;32mIn [43]\u001b[0m, in \u001b[0;36m<cell line: 1>\u001b[1;34m()\u001b[0m\n\u001b[1;32m----> 1\u001b[0m \u001b[38;5;124;43m\"\u001b[39;49m\u001b[38;5;124;43mTo jest \u001b[39;49m\u001b[38;5;132;43;01m{:s}\u001b[39;49;00m\u001b[38;5;124;43m\"\u001b[39;49m\u001b[38;5;241;43m.\u001b[39;49m\u001b[43mformat\u001b[49m\u001b[43m(\u001b[49m\u001b[38;5;241;43m120\u001b[39;49m\u001b[43m)\u001b[49m\n",
      "\u001b[1;31mValueError\u001b[0m: Unknown format code 's' for object of type 'int'"
     ]
    }
   ],
   "source": [
    "\"To jest {:s}\".format(120) #więc nie przyjmuje niespodziewanych wartości"
   ]
  },
  {
   "cell_type": "code",
   "execution_count": 44,
   "id": "0edeb6b0",
   "metadata": {},
   "outputs": [
    {
     "data": {
      "text/plain": [
       "'Liczba 232 w systemie binarnym to 11101000'"
      ]
     },
     "execution_count": 44,
     "metadata": {},
     "output_type": "execute_result"
    }
   ],
   "source": [
    "\"Liczba {:d} w systemie binarnym to {:b}\".format(232,232)"
   ]
  },
  {
   "cell_type": "code",
   "execution_count": 45,
   "id": "ddfdc1be",
   "metadata": {},
   "outputs": [
    {
     "data": {
      "text/plain": [
       "'Liczba 232 w systemie ósemkowym to 350'"
      ]
     },
     "execution_count": 45,
     "metadata": {},
     "output_type": "execute_result"
    }
   ],
   "source": [
    "\"Liczba {:d} w systemie ósemkowym to {:o}\".format(232,232)"
   ]
  },
  {
   "cell_type": "code",
   "execution_count": 46,
   "id": "16bf98b5",
   "metadata": {},
   "outputs": [
    {
     "data": {
      "text/plain": [
       "'Liczba 232 w systemie heksadecymalnym to e8'"
      ]
     },
     "execution_count": 46,
     "metadata": {},
     "output_type": "execute_result"
    }
   ],
   "source": [
    "\"Liczba {:d} w systemie heksadecymalnym to {:x}\".format(232,232)"
   ]
  },
  {
   "cell_type": "code",
   "execution_count": 47,
   "id": "e19fab3b",
   "metadata": {},
   "outputs": [
    {
     "data": {
      "text/plain": [
       "'Liczba 1000000 w notacji wykładniczej to 1.000000e+06'"
      ]
     },
     "execution_count": 47,
     "metadata": {},
     "output_type": "execute_result"
    }
   ],
   "source": [
    "\"Liczba {:d} w notacji wykładniczej to {:e}\".format(1000000,1000000)"
   ]
  },
  {
   "cell_type": "markdown",
   "id": "e12b1829",
   "metadata": {},
   "source": [
    "<h3> Dokładność liczb</h3>\n",
    "\n",
    "Przydatne podczas zaokroąglania i formatowania długich wartości"
   ]
  },
  {
   "cell_type": "code",
   "execution_count": 48,
   "id": "7b7ff7d6",
   "metadata": {},
   "outputs": [
    {
     "data": {
      "text/plain": [
       "3.141592653589793"
      ]
     },
     "execution_count": 48,
     "metadata": {},
     "output_type": "execute_result"
    }
   ],
   "source": [
    "from math import pi\n",
    "pi"
   ]
  },
  {
   "cell_type": "code",
   "execution_count": 49,
   "id": "e640ad46",
   "metadata": {},
   "outputs": [
    {
     "data": {
      "text/plain": [
       "'pi = 3.1416'"
      ]
     },
     "execution_count": 49,
     "metadata": {},
     "output_type": "execute_result"
    }
   ],
   "source": [
    "\"pi = {:.4f}\".format(pi) #zaokrągla"
   ]
  },
  {
   "cell_type": "code",
   "execution_count": 52,
   "id": "f1c242a8",
   "metadata": {},
   "outputs": [
    {
     "data": {
      "text/plain": [
       "'pi =       3.14'"
      ]
     },
     "execution_count": 52,
     "metadata": {},
     "output_type": "execute_result"
    }
   ],
   "source": [
    "\"pi = {:10.2f}\".format(pi) #określa że ma mieć minimum 10 znaków i być zaokrąglone do 2"
   ]
  },
  {
   "cell_type": "code",
   "execution_count": 55,
   "id": "83d8214c",
   "metadata": {},
   "outputs": [
    {
     "data": {
      "text/plain": [
       "'pi = ___3.14____'"
      ]
     },
     "execution_count": 55,
     "metadata": {},
     "output_type": "execute_result"
    }
   ],
   "source": [
    "\"pi = {:_^11.2f}\".format(pi)"
   ]
  }
 ],
 "metadata": {
  "kernelspec": {
   "display_name": "Python 3 (ipykernel)",
   "language": "python",
   "name": "python3"
  },
  "language_info": {
   "codemirror_mode": {
    "name": "ipython",
    "version": 3
   },
   "file_extension": ".py",
   "mimetype": "text/x-python",
   "name": "python",
   "nbconvert_exporter": "python",
   "pygments_lexer": "ipython3",
   "version": "3.9.12"
  }
 },
 "nbformat": 4,
 "nbformat_minor": 5
}