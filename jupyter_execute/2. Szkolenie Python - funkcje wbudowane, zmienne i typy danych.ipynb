{
 "cells": [
  {
   "cell_type": "markdown",
   "id": "4cb49d05",
   "metadata": {},
   "source": [
    "# 2. Funkcje wbudowane, zmienne i typy danych"
   ]
  },
  {
   "cell_type": "markdown",
   "id": "a3f7e3e8",
   "metadata": {},
   "source": [
    "<center>\n",
    "<h1>Python - funkcje wbudowane, zmienne i typy danych </h1>\n",
    "</center>    \n"
   ]
  },
  {
   "cell_type": "markdown",
   "id": "4fe81561",
   "metadata": {},
   "source": [
    "### Funkcje i metody\n",
    "\n",
    "Zacznijmy od omówienia czym w ogóle są funkcje i metody Pythona. \n",
    "\n",
    "Funkcje i metody to fragmenty kodu (zaimplementowane gdzieś w innym miejscu), które mają jakąś funkcjonalność, tzn. wykonują ten kod w tle dla nas by dostarczyć konkretny wynik.\n",
    "\n",
    "Zarówno funkcje i metody przyjmują <b> parametry </b> które są danymi wsadowymi od nas lub modyfikują zachowanie funkcji."
   ]
  },
  {
   "cell_type": "markdown",
   "id": "40286b57",
   "metadata": {},
   "source": [
    "<h1>Funkcje</h1>\n",
    "\n",
    "Funcje mają strukturę (syntax) następującej postaci:\n",
    "\n",
    "<i><b>nazwa</b>(parametr_1,parametr_2,...,parametr_n)</i>\n",
    "\n",
    "Wyróżniamy <b>funkcje wbudowane</b> i <b> funkcje zdefiniowane przez użytkownika</b>.\n",
    "\n",
    "Funkcje wbudowane są dostepne poprzez wywołanie ich nazwy wprost w kodzie (dostępne tu: https://docs.python.org/2/library/functions.html).\n",
    "\n",
    "Funkcje definiowane przez użytkownika pozwalają na utworzenie nowej funkcjonalności (zajmiemy się nimi później).\n",
    "\n",
    "Inne funkcje możemy importować poprzez biblioteki programistyczne - o tym później"
   ]
  },
  {
   "cell_type": "markdown",
   "id": "f94973f1",
   "metadata": {},
   "source": [
    "<h1> Metody </h1>\n",
    "\n",
    "Python jest językiem programowania <b> obiektowego </b>. Oznacza to, że wszystko w nim jest <b>obiektem</b>, który ma swoje właściwości, takie jak atrybuty i metody (o tym dokładniej w dalszej części kursu).\n",
    "\n",
    "Metody wywoływane są zatem na <b>obiektach</b>. Stanowią one intergralną część tych obiektów. Ich składnia to:\n",
    "<i><b>nazwa_obiektu</b>.nazwa_metody(parametr_1,parametr_2,...,parametr_n)</i>\n",
    "\n",
    "Istnieje w języku kilka wbudowanych obiektów, które posiadają wbudowane metody. Przykładem wbudowanych obiektów są typy danych."
   ]
  },
  {
   "cell_type": "markdown",
   "id": "f1cbc0fe",
   "metadata": {},
   "source": [
    "### Funkcje wbudowane\n",
    "\n",
    "Funkcje wbudowane to funkcje, które są dostępne od razu, gdy tylko rozpoczniemy pisanie kodu. Zwykle są to podstawowe funkcjonalności, które muszą zawsze być pod ręką. Ich lista znajduje się tutaj: https://docs.python.org/3/library/functions.html"
   ]
  },
  {
   "cell_type": "code",
   "execution_count": 1,
   "id": "e9a9fb5d",
   "metadata": {},
   "outputs": [
    {
     "name": "stdout",
     "output_type": "stream",
     "text": [
      "Hello World!\n"
     ]
    }
   ],
   "source": [
    "print(\"Hello World!\")"
   ]
  },
  {
   "cell_type": "markdown",
   "id": "d2baf39b",
   "metadata": {},
   "source": [
    "### Deklaracja zmiennej\n",
    "\n",
    "To podstawowa operacja polegająca na przypisaniu wartości do zdefiniowanej przez nas zmiennej"
   ]
  },
  {
   "cell_type": "code",
   "execution_count": 2,
   "id": "9db5f5b2",
   "metadata": {},
   "outputs": [],
   "source": [
    "x = 2"
   ]
  },
  {
   "cell_type": "markdown",
   "id": "857e85e9",
   "metadata": {},
   "source": [
    "Wykonaj funkcję wbudowaną print() na zmiennej x!"
   ]
  },
  {
   "cell_type": "code",
   "execution_count": null,
   "id": "b479bcc1",
   "metadata": {},
   "outputs": [],
   "source": []
  },
  {
   "cell_type": "raw",
   "id": "0ff78c69",
   "metadata": {},
   "source": [
    "Teraz zmieńmy tę wartość na coś innego:"
   ]
  },
  {
   "cell_type": "code",
   "execution_count": 3,
   "id": "472667e6",
   "metadata": {},
   "outputs": [],
   "source": [
    "x = 12"
   ]
  },
  {
   "cell_type": "markdown",
   "id": "3b1055bf",
   "metadata": {},
   "source": [
    "Co zwróci print(x)?"
   ]
  },
  {
   "cell_type": "code",
   "execution_count": null,
   "id": "de1e85e7",
   "metadata": {},
   "outputs": [],
   "source": []
  },
  {
   "cell_type": "markdown",
   "id": "aed0695f",
   "metadata": {},
   "source": [
    "## Proste typy zmiennych"
   ]
  },
  {
   "cell_type": "markdown",
   "id": "89b5eace",
   "metadata": {},
   "source": [
    "<h1> Proste typy danych</h1>\n",
    "\n",
    "To są typy wbudowane - klasy wbudowane\n",
    "\n",
    "<b> Liczby </b>\n",
    "<ul>\n",
    "<li> całkowite (int)</li>\n",
    "<li> zmiennoprzecinkowe (float) </li>\n",
    "<li> złożone (complex) </li>\n",
    "</ul>\n",
    "\n"
   ]
  },
  {
   "cell_type": "markdown",
   "id": "f82d98bb",
   "metadata": {},
   "source": [
    "Liczba całkowita (int) oraz funkcja wbudowana type:"
   ]
  },
  {
   "cell_type": "code",
   "execution_count": 4,
   "id": "537ec0cd",
   "metadata": {},
   "outputs": [
    {
     "data": {
      "text/plain": [
       "int"
      ]
     },
     "execution_count": 4,
     "metadata": {},
     "output_type": "execute_result"
    }
   ],
   "source": [
    "type(3)"
   ]
  },
  {
   "cell_type": "markdown",
   "id": "495ca625",
   "metadata": {},
   "source": [
    "Zmiennoprzecinkowa (float)"
   ]
  },
  {
   "cell_type": "code",
   "execution_count": 5,
   "id": "e35e524e",
   "metadata": {},
   "outputs": [
    {
     "data": {
      "text/plain": [
       "3.3"
      ]
     },
     "execution_count": 5,
     "metadata": {},
     "output_type": "execute_result"
    }
   ],
   "source": [
    "3.3"
   ]
  },
  {
   "cell_type": "markdown",
   "id": "e682e7e5",
   "metadata": {},
   "source": [
    "Złożona (complex)"
   ]
  },
  {
   "cell_type": "code",
   "execution_count": 6,
   "id": "83afc7ff",
   "metadata": {},
   "outputs": [
    {
     "data": {
      "text/plain": [
       "(1+1j)"
      ]
     },
     "execution_count": 6,
     "metadata": {},
     "output_type": "execute_result"
    }
   ],
   "source": [
    "1+1j"
   ]
  },
  {
   "cell_type": "markdown",
   "id": "3a73ab87",
   "metadata": {},
   "source": [
    "<b> Tekst </b>"
   ]
  },
  {
   "cell_type": "code",
   "execution_count": 7,
   "id": "b145f336",
   "metadata": {},
   "outputs": [
    {
     "name": "stdout",
     "output_type": "stream",
     "text": [
      "Pierwszy sposób\n"
     ]
    }
   ],
   "source": [
    "print('Pierwszy sposób')"
   ]
  },
  {
   "cell_type": "code",
   "execution_count": 8,
   "id": "eae26381",
   "metadata": {},
   "outputs": [
    {
     "name": "stdout",
     "output_type": "stream",
     "text": [
      "Drugi sposób\n"
     ]
    }
   ],
   "source": [
    "print(\"Drugi sposób\")"
   ]
  },
  {
   "cell_type": "code",
   "execution_count": 9,
   "id": "1dc4d853",
   "metadata": {},
   "outputs": [
    {
     "name": "stdout",
     "output_type": "stream",
     "text": [
      "Trzeci sposób\n",
      "wyjątkowy\n"
     ]
    }
   ],
   "source": [
    "print(\"\"\"Trzeci sposób\n",
    "wyjątkowy\"\"\")"
   ]
  },
  {
   "cell_type": "markdown",
   "id": "1ffef5f6",
   "metadata": {},
   "source": [
    "<b> Typ logiczny (boolean)</b>"
   ]
  },
  {
   "cell_type": "code",
   "execution_count": 10,
   "id": "86d8b13a",
   "metadata": {},
   "outputs": [
    {
     "data": {
      "text/plain": [
       "False"
      ]
     },
     "execution_count": 10,
     "metadata": {},
     "output_type": "execute_result"
    }
   ],
   "source": [
    "False"
   ]
  },
  {
   "cell_type": "markdown",
   "id": "049a73e3",
   "metadata": {},
   "source": [
    "<b> Ćwiczenie 1 </b>\n",
    "\n",
    "1. Zdefiniuj zmienną y i przypisz jej wartość zmiennoprzecinkową. \n",
    "2. Wyświetl wartość y poprzez print() oraz wyświetl typ zmiennej funkcją type().\n",
    "3. Zmień wartość y na typ tekstowy.\n",
    "4. Jaki ma teraz typ?\n"
   ]
  },
  {
   "cell_type": "code",
   "execution_count": 11,
   "id": "a203345a",
   "metadata": {},
   "outputs": [],
   "source": [
    "#Zadanie wykonuj tutaj"
   ]
  },
  {
   "cell_type": "markdown",
   "id": "5c88bdf7",
   "metadata": {},
   "source": [
    "<h1> Rzutowanie typów </h1>\n",
    "To zmiana typu danej na inną.\n",
    "\n",
    "Do tego wykorzystujemy funkcji wbudowanych, które mają taką samą nazwę jak typ zmiennej w Pythonie\n",
    "\n",
    "Sprawdźmy najpierw typ zmiennych używając funkcji wbudowanej type()"
   ]
  },
  {
   "cell_type": "markdown",
   "id": "cc49aaba",
   "metadata": {},
   "source": [
    "Liczba całkowita"
   ]
  },
  {
   "cell_type": "code",
   "execution_count": 12,
   "id": "060ecf56",
   "metadata": {},
   "outputs": [
    {
     "name": "stdout",
     "output_type": "stream",
     "text": [
      "<class 'int'>\n"
     ]
    }
   ],
   "source": [
    "print(type(2))"
   ]
  },
  {
   "cell_type": "markdown",
   "id": "a56723b5",
   "metadata": {},
   "source": [
    "Liczba zmiennoprzecinkowa"
   ]
  },
  {
   "cell_type": "code",
   "execution_count": 13,
   "id": "4b0b69c9",
   "metadata": {},
   "outputs": [
    {
     "name": "stdout",
     "output_type": "stream",
     "text": [
      "<class 'float'>\n"
     ]
    }
   ],
   "source": [
    "print(type(3.4))"
   ]
  },
  {
   "cell_type": "markdown",
   "id": "03012638",
   "metadata": {},
   "source": [
    "Liczba złożona"
   ]
  },
  {
   "cell_type": "code",
   "execution_count": 14,
   "id": "ced37ab4",
   "metadata": {},
   "outputs": [
    {
     "name": "stdout",
     "output_type": "stream",
     "text": [
      "<class 'complex'>\n"
     ]
    }
   ],
   "source": [
    "print(type(3j))"
   ]
  },
  {
   "cell_type": "markdown",
   "id": "c1bbb423",
   "metadata": {},
   "source": [
    "Tekst"
   ]
  },
  {
   "cell_type": "code",
   "execution_count": 15,
   "id": "9c9d2323",
   "metadata": {},
   "outputs": [
    {
     "name": "stdout",
     "output_type": "stream",
     "text": [
      "<class 'str'>\n"
     ]
    }
   ],
   "source": [
    "print(type(\"Tekst\"))"
   ]
  },
  {
   "cell_type": "markdown",
   "id": "d6a880dd",
   "metadata": {},
   "source": [
    "Typ logiczny"
   ]
  },
  {
   "cell_type": "code",
   "execution_count": 16,
   "id": "80dde040",
   "metadata": {},
   "outputs": [
    {
     "name": "stdout",
     "output_type": "stream",
     "text": [
      "<class 'bool'>\n"
     ]
    }
   ],
   "source": [
    "print(type(False))"
   ]
  },
  {
   "cell_type": "markdown",
   "id": "1ed7fb41",
   "metadata": {},
   "source": [
    "Oczywiście możemy sprawdzać tak typ zmiennej:"
   ]
  },
  {
   "cell_type": "code",
   "execution_count": 17,
   "id": "9bd2cb45",
   "metadata": {},
   "outputs": [
    {
     "name": "stdout",
     "output_type": "stream",
     "text": [
      "<class 'float'>\n"
     ]
    }
   ],
   "source": [
    "x = 3.14\n",
    "print(type(x))"
   ]
  },
  {
   "cell_type": "markdown",
   "id": "d6190f09",
   "metadata": {},
   "source": [
    "Rzutowanie typów zatem odbywa się wprost:"
   ]
  },
  {
   "cell_type": "code",
   "execution_count": 18,
   "id": "f9f10936",
   "metadata": {},
   "outputs": [
    {
     "name": "stdout",
     "output_type": "stream",
     "text": [
      "3\n"
     ]
    }
   ],
   "source": [
    "x = 3.88\n",
    "print(int(x))"
   ]
  },
  {
   "cell_type": "markdown",
   "id": "d2f02b16",
   "metadata": {},
   "source": [
    "Ale zwróćmy uwagę, że:"
   ]
  },
  {
   "cell_type": "code",
   "execution_count": 19,
   "id": "b23286b3",
   "metadata": {},
   "outputs": [
    {
     "name": "stdout",
     "output_type": "stream",
     "text": [
      "3.88\n"
     ]
    }
   ],
   "source": [
    "x = 3.88\n",
    "int(x)\n",
    "print(x)"
   ]
  },
  {
   "cell_type": "code",
   "execution_count": 20,
   "id": "59ed25ec",
   "metadata": {},
   "outputs": [
    {
     "name": "stdout",
     "output_type": "stream",
     "text": [
      "3\n"
     ]
    }
   ],
   "source": [
    "x = 3.88\n",
    "x = int(x) #PAMIĘTAJ O ZAPISANIU DO ZMIENNEJ\n",
    "print(x)"
   ]
  },
  {
   "cell_type": "markdown",
   "id": "01ab7afa",
   "metadata": {},
   "source": [
    "Uwaga na rzutowanie czegoś co nie może być typem docelowym:"
   ]
  },
  {
   "cell_type": "code",
   "execution_count": 21,
   "id": "0bf56461",
   "metadata": {},
   "outputs": [
    {
     "ename": "ValueError",
     "evalue": "could not convert string to float: 'A'",
     "output_type": "error",
     "traceback": [
      "\u001b[1;31m---------------------------------------------------------------------------\u001b[0m",
      "\u001b[1;31mValueError\u001b[0m                                Traceback (most recent call last)",
      "Input \u001b[1;32mIn [21]\u001b[0m, in \u001b[0;36m<cell line: 1>\u001b[1;34m()\u001b[0m\n\u001b[1;32m----> 1\u001b[0m \u001b[38;5;28;43mfloat\u001b[39;49m\u001b[43m(\u001b[49m\u001b[38;5;124;43m\"\u001b[39;49m\u001b[38;5;124;43mA\u001b[39;49m\u001b[38;5;124;43m\"\u001b[39;49m\u001b[43m)\u001b[49m\n",
      "\u001b[1;31mValueError\u001b[0m: could not convert string to float: 'A'"
     ]
    }
   ],
   "source": [
    "float(\"A\")"
   ]
  },
  {
   "cell_type": "markdown",
   "id": "6597b9f0",
   "metadata": {},
   "source": [
    "Rzutowanie tekstu:"
   ]
  },
  {
   "cell_type": "code",
   "execution_count": 14,
   "id": "57f15942",
   "metadata": {},
   "outputs": [
    {
     "name": "stdout",
     "output_type": "stream",
     "text": [
      "122\n"
     ]
    }
   ],
   "source": [
    "print(str(122))"
   ]
  },
  {
   "cell_type": "markdown",
   "id": "2e67242c",
   "metadata": {},
   "source": [
    "Rzutowanie na typ logiczny:"
   ]
  },
  {
   "cell_type": "code",
   "execution_count": 18,
   "id": "520a5e4b",
   "metadata": {},
   "outputs": [
    {
     "name": "stdout",
     "output_type": "stream",
     "text": [
      "False\n"
     ]
    }
   ],
   "source": [
    "print(bool(0))"
   ]
  },
  {
   "cell_type": "code",
   "execution_count": 19,
   "id": "0a039701",
   "metadata": {},
   "outputs": [
    {
     "name": "stdout",
     "output_type": "stream",
     "text": [
      "True\n"
     ]
    }
   ],
   "source": [
    "print(bool(1))"
   ]
  },
  {
   "cell_type": "code",
   "execution_count": 20,
   "id": "e701d39c",
   "metadata": {},
   "outputs": [
    {
     "name": "stdout",
     "output_type": "stream",
     "text": [
      "True\n"
     ]
    }
   ],
   "source": [
    "print(bool(-3))"
   ]
  },
  {
   "cell_type": "markdown",
   "id": "18f43c5c",
   "metadata": {},
   "source": [
    "<b> Ćwiczenie 2 </b>\n",
    "\n",
    "1. Zdefiniuj zmienną y i przypisz jej wartość zmiennoprzecinkową. \n",
    "2. Zrzutuj zmienną y na typ int.\n",
    "3. Odpowiedz na pytanie: czy int zaokrągla czy odcina końcowkę po przecinku?\n"
   ]
  },
  {
   "cell_type": "markdown",
   "id": "d358de67",
   "metadata": {
    "slideshow": {
     "slide_type": "slide"
    }
   },
   "source": [
    "<h1>Operatory binarne</h1>\n",
    "\n",
    "Podstawowe operacje są zdefiniowane w Pythonie bez potrzeby korzystania z zewnętrznych bibliotek\n",
    "\n",
    "-----------------\n",
    "\n",
    "    a + b\n",
    "    a - b\n",
    "    a * b\n",
    "    a / b\n",
    "    a // b (usuwa część po przecinku - floor-divide)\n",
    "    a ** b"
   ]
  },
  {
   "cell_type": "code",
   "execution_count": 21,
   "id": "76de01b2",
   "metadata": {},
   "outputs": [
    {
     "name": "stdout",
     "output_type": "stream",
     "text": [
      "6\n"
     ]
    }
   ],
   "source": [
    "a = 2\n",
    "b = 4\n",
    "print(a+b)"
   ]
  },
  {
   "cell_type": "code",
   "execution_count": 22,
   "id": "fba903cb",
   "metadata": {},
   "outputs": [
    {
     "name": "stdout",
     "output_type": "stream",
     "text": [
      "-2\n"
     ]
    }
   ],
   "source": [
    "a = 2\n",
    "b = 4\n",
    "print(a-b)"
   ]
  },
  {
   "cell_type": "code",
   "execution_count": 23,
   "id": "914a83f5",
   "metadata": {},
   "outputs": [
    {
     "name": "stdout",
     "output_type": "stream",
     "text": [
      "8\n"
     ]
    }
   ],
   "source": [
    "a = 2\n",
    "b = 4\n",
    "print(a*b)"
   ]
  },
  {
   "cell_type": "code",
   "execution_count": 24,
   "id": "99603144",
   "metadata": {},
   "outputs": [
    {
     "name": "stdout",
     "output_type": "stream",
     "text": [
      "0.5\n"
     ]
    }
   ],
   "source": [
    "a = 2\n",
    "b = 4\n",
    "print(a/b)"
   ]
  },
  {
   "cell_type": "code",
   "execution_count": 25,
   "id": "c539dcea",
   "metadata": {},
   "outputs": [
    {
     "name": "stdout",
     "output_type": "stream",
     "text": [
      "0\n"
     ]
    }
   ],
   "source": [
    "a = 2\n",
    "b = 4\n",
    "print(a//b)"
   ]
  },
  {
   "cell_type": "code",
   "execution_count": 26,
   "id": "e289322f",
   "metadata": {},
   "outputs": [
    {
     "name": "stdout",
     "output_type": "stream",
     "text": [
      "16\n"
     ]
    }
   ],
   "source": [
    "a = 2\n",
    "b = 4\n",
    "print(a**b)"
   ]
  },
  {
   "cell_type": "code",
   "execution_count": 46,
   "id": "9f282eb0",
   "metadata": {},
   "outputs": [
    {
     "name": "stdout",
     "output_type": "stream",
     "text": [
      "2\n"
     ]
    }
   ],
   "source": [
    "a = 2\n",
    "b = 4\n",
    "print(a%b)"
   ]
  },
  {
   "cell_type": "markdown",
   "id": "6abb9b1d",
   "metadata": {},
   "source": [
    "### Ćwiczenie:\n",
    "\n",
    "Na liście funkcji wbudowanych znajdź funkcję, która oblicza wartość bezwzględną liczby"
   ]
  },
  {
   "cell_type": "code",
   "execution_count": null,
   "id": "643b16c6",
   "metadata": {},
   "outputs": [],
   "source": []
  },
  {
   "cell_type": "markdown",
   "id": "282fca53",
   "metadata": {},
   "source": [
    "### Operatory logiczne\n",
    "\n",
    "    a == b\n",
    "    a != b\n",
    "    a <= b; a < b\n",
    "    a is b\n",
    "    a is not b"
   ]
  },
  {
   "cell_type": "code",
   "execution_count": 27,
   "id": "639ff968",
   "metadata": {},
   "outputs": [
    {
     "name": "stdout",
     "output_type": "stream",
     "text": [
      "False\n"
     ]
    }
   ],
   "source": [
    "a = 2\n",
    "b = 4\n",
    "print(a==b)"
   ]
  },
  {
   "cell_type": "code",
   "execution_count": 28,
   "id": "2d35305e",
   "metadata": {},
   "outputs": [
    {
     "name": "stdout",
     "output_type": "stream",
     "text": [
      "True\n"
     ]
    }
   ],
   "source": [
    "a = 2\n",
    "b = 4\n",
    "print(a!=b)"
   ]
  },
  {
   "cell_type": "code",
   "execution_count": 29,
   "id": "ad702b35",
   "metadata": {},
   "outputs": [
    {
     "name": "stdout",
     "output_type": "stream",
     "text": [
      "False\n"
     ]
    }
   ],
   "source": [
    "a = 2\n",
    "b = 4\n",
    "print(a>b)"
   ]
  },
  {
   "cell_type": "code",
   "execution_count": 30,
   "id": "6cd415d1",
   "metadata": {},
   "outputs": [
    {
     "name": "stdout",
     "output_type": "stream",
     "text": [
      "True\n"
     ]
    }
   ],
   "source": [
    "a = 2\n",
    "b = 4\n",
    "print(a<b)"
   ]
  },
  {
   "cell_type": "code",
   "execution_count": 31,
   "id": "e746edcb",
   "metadata": {},
   "outputs": [
    {
     "name": "stdout",
     "output_type": "stream",
     "text": [
      "False\n"
     ]
    }
   ],
   "source": [
    "a = 2\n",
    "b = 4\n",
    "print(a>=b)"
   ]
  },
  {
   "cell_type": "markdown",
   "id": "ae38b060",
   "metadata": {},
   "source": [
    "a = 2\n",
    "b = 4\n",
    "print(a<=b)"
   ]
  },
  {
   "cell_type": "code",
   "execution_count": 33,
   "id": "8c70f333",
   "metadata": {},
   "outputs": [
    {
     "name": "stdout",
     "output_type": "stream",
     "text": [
      "False\n"
     ]
    }
   ],
   "source": [
    "print(a is None)"
   ]
  },
  {
   "cell_type": "code",
   "execution_count": 34,
   "id": "599f8db1",
   "metadata": {},
   "outputs": [
    {
     "name": "stdout",
     "output_type": "stream",
     "text": [
      "True\n"
     ]
    }
   ],
   "source": [
    "print(b is not None)"
   ]
  },
  {
   "cell_type": "markdown",
   "id": "21ba48ec",
   "metadata": {},
   "source": [
    "#### Operatory dla innych typów zmiennych oznaczają inne operacje"
   ]
  },
  {
   "cell_type": "code",
   "execution_count": 38,
   "id": "382cbf05",
   "metadata": {},
   "outputs": [
    {
     "name": "stdout",
     "output_type": "stream",
     "text": [
      "Tekst\n"
     ]
    }
   ],
   "source": [
    "a = \"Te\"\n",
    "b = \"kst\"\n",
    "print(a+b)"
   ]
  },
  {
   "cell_type": "code",
   "execution_count": 39,
   "id": "0e47fa3d",
   "metadata": {},
   "outputs": [
    {
     "name": "stdout",
     "output_type": "stream",
     "text": [
      "TeTeTeTeTeTeTeTeTeTeTeTe\n"
     ]
    }
   ],
   "source": [
    "a = \"Te\"\n",
    "b = 12\n",
    "print(a*b)"
   ]
  },
  {
   "cell_type": "markdown",
   "id": "61de3961",
   "metadata": {},
   "source": [
    "### Ćwiczenie:\n",
    "\n",
    "Sprawdź nierówność z dwiema zmiennymi zawierającymi znaki tekstowe. Spróbuj wykorzystać duże i małe litery oraz znaki specjalne. Jakie są wnioski?"
   ]
  },
  {
   "cell_type": "code",
   "execution_count": 47,
   "id": "d7aa33f2",
   "metadata": {},
   "outputs": [],
   "source": [
    "# tutaj"
   ]
  },
  {
   "cell_type": "markdown",
   "id": "880c612f",
   "metadata": {
    "slideshow": {
     "slide_type": "slide"
    }
   },
   "source": [
    "<h1> Błędy </h1>\n",
    "\n",
    "Gdy pojawi się w kodzie błąd, warto spojrzeć na to co go spowodowało, by znaleźć przyczynę"
   ]
  },
  {
   "cell_type": "code",
   "execution_count": 62,
   "id": "cb061927",
   "metadata": {},
   "outputs": [
    {
     "ename": "ValueError",
     "evalue": "could not convert string to float: 'Tego nie da się'",
     "output_type": "error",
     "traceback": [
      "\u001b[1;31m---------------------------------------------------------------------------\u001b[0m",
      "\u001b[1;31mValueError\u001b[0m                                Traceback (most recent call last)",
      "\u001b[1;32m<ipython-input-62-b314694a7f26>\u001b[0m in \u001b[0;36m<module>\u001b[1;34m\u001b[0m\n\u001b[0;32m      1\u001b[0m \u001b[0ma\u001b[0m \u001b[1;33m=\u001b[0m \u001b[1;36m2\u001b[0m\u001b[1;33m\u001b[0m\u001b[1;33m\u001b[0m\u001b[0m\n\u001b[1;32m----> 2\u001b[1;33m \u001b[0mfloat\u001b[0m\u001b[1;33m(\u001b[0m\u001b[1;34m\"Tego nie da się\"\u001b[0m\u001b[1;33m)\u001b[0m\u001b[1;33m\u001b[0m\u001b[1;33m\u001b[0m\u001b[0m\n\u001b[0m\u001b[0;32m      3\u001b[0m \u001b[0mprint\u001b[0m\u001b[1;33m(\u001b[0m\u001b[0ma\u001b[0m \u001b[1;33m+\u001b[0m \u001b[0ma\u001b[0m\u001b[1;33m)\u001b[0m\u001b[1;33m\u001b[0m\u001b[1;33m\u001b[0m\u001b[0m\n",
      "\u001b[1;31mValueError\u001b[0m: could not convert string to float: 'Tego nie da się'"
     ]
    }
   ],
   "source": [
    "a = 2\n",
    "float(\"Tego nie da się\")\n",
    "print(a + a)"
   ]
  },
  {
   "cell_type": "markdown",
   "id": "d87dc6dd",
   "metadata": {
    "slideshow": {
     "slide_type": "slide"
    }
   },
   "source": [
    "<h1> Importowanie bibliotek </h1>\n",
    "\n",
    "Biblioteki zawierają dodatkowe funkcjonalności, klasy i typy danych.\n",
    "Biblioteki można importować na 3 sposoby:"
   ]
  },
  {
   "cell_type": "code",
   "execution_count": 48,
   "id": "e9da6e28",
   "metadata": {},
   "outputs": [],
   "source": [
    "import math #cała biblioteka\n",
    "from math import * #znowu cała biblioteka, ale importujemy każdą funkcję osobno\n",
    "from math import sqrt #importowanie jednej funkcji"
   ]
  },
  {
   "cell_type": "code",
   "execution_count": 72,
   "id": "8307a117",
   "metadata": {},
   "outputs": [],
   "source": [
    "from math import *"
   ]
  },
  {
   "cell_type": "code",
   "execution_count": 77,
   "id": "b5a4ceae",
   "metadata": {},
   "outputs": [
    {
     "data": {
      "text/plain": [
       "7.38905609893065"
      ]
     },
     "execution_count": 77,
     "metadata": {},
     "output_type": "execute_result"
    }
   ],
   "source": [
    "exp(2)"
   ]
  },
  {
   "cell_type": "markdown",
   "id": "734877e3",
   "metadata": {
    "slideshow": {
     "slide_type": "subslide"
    }
   },
   "source": [
    "<h4>Na przykładzie pierwiastka \"sqrt\"</h4>"
   ]
  },
  {
   "cell_type": "code",
   "execution_count": 50,
   "id": "d75cbab5",
   "metadata": {},
   "outputs": [
    {
     "data": {
      "text/plain": [
       "2.0"
      ]
     },
     "execution_count": 50,
     "metadata": {},
     "output_type": "execute_result"
    }
   ],
   "source": [
    "import math\n",
    "math.sqrt(4)"
   ]
  },
  {
   "cell_type": "code",
   "execution_count": 51,
   "id": "a1391c3c",
   "metadata": {
    "scrolled": true
   },
   "outputs": [
    {
     "data": {
      "text/plain": [
       "2.0"
      ]
     },
     "execution_count": 51,
     "metadata": {},
     "output_type": "execute_result"
    }
   ],
   "source": [
    "from math import *\n",
    "sqrt(4)"
   ]
  },
  {
   "cell_type": "markdown",
   "id": "2f577ff5",
   "metadata": {},
   "source": [
    "### Gdy używamy nowej, nieznanej nam biblioteki - kluczowe jest poznanie jej dokumentacji\n",
    "\n",
    "Dokumentacja bilbioteki math: https://docs.python.org/2/library/math.html"
   ]
  },
  {
   "cell_type": "markdown",
   "id": "3715f0f4",
   "metadata": {},
   "source": [
    "### Ćwiczenie:\n",
    "Zaimportuj z biblioteki math funkcje cosinus oraz wartość stałej PI"
   ]
  },
  {
   "cell_type": "code",
   "execution_count": 44,
   "id": "c5731e8c",
   "metadata": {},
   "outputs": [],
   "source": [
    "# Wykonaj to tutaj"
   ]
  },
  {
   "cell_type": "markdown",
   "id": "8ba9356f",
   "metadata": {
    "id": "x30T1tYmL-Wz"
   },
   "source": [
    "# Komentarze\n",
    "\n",
    "* Komentarze które zaburzają klarowność kodu są gorsze niż brak komentarzy\n",
    "* Komentujemy z wykorzystaniem pełnych zdań\n",
    "* Upewnij się, że komentarz jest zrozumiały dla każdego, kto kiedykolwiek miałby przeczytać kod\n",
    "\n",
    "## Komentarze blokowe\n",
    "\n",
    "Wplatane za pomocą znaku \"#\" na tym samym poziomie, do którego się odnoszą np:"
   ]
  },
  {
   "cell_type": "code",
   "execution_count": 35,
   "id": "ed4493cd",
   "metadata": {},
   "outputs": [],
   "source": [
    "# komentarz blokowy\n",
    "a = b "
   ]
  },
  {
   "cell_type": "markdown",
   "id": "091d3903",
   "metadata": {},
   "source": [
    "### Komentarze \"docstring\"\n",
    "\n",
    "Wpisywane za pomocą potrójnego cudzysłowu (\"\"\"), używane do dokumentowania funkcji i klas\n"
   ]
  },
  {
   "cell_type": "code",
   "execution_count": 37,
   "id": "047bed0a",
   "metadata": {},
   "outputs": [],
   "source": [
    "# Przykład funkcji z komentarzem docstring\n",
    "def funkcja(parametr1, parametr2):\n",
    "    \"\"\"Komentarz opisujący funkcję\n",
    "    Opis parametrów\n",
    "    Opis wyjścia\n",
    "    \"\"\""
   ]
  },
  {
   "cell_type": "markdown",
   "id": "19d21e0f",
   "metadata": {
    "id": "8pVgsgd2L-Wy",
    "nbpresent": {
     "id": "6704c308-4b74-4c21-861c-d60cf3e276d4"
    }
   },
   "source": [
    "## Czytelność kodu\n",
    "\n",
    "---\n",
    "\n",
    "* Kod musi być przejrzysty\n",
    "* Nazwy zmiennych muszą być zrozumiałe\n",
    "* najlepiej trzymać się standardu PEP 8: https://www.python.org/dev/peps/pep-0008/\n",
    "* Konwencja nazw zmiennych:\n",
    "\n",
    "    * nazwa_zmiennej\n",
    "    * nazwa_funkcji\n",
    "    * NAZWA_STAŁEJ\n",
    "    * NazwaKlasy\n",
    "    \n",
    "* Niew więcej niż 79 znaków w jednej linii"
   ]
  }
 ],
 "metadata": {
  "kernelspec": {
   "display_name": "Python 3 (ipykernel)",
   "language": "python",
   "name": "python3"
  },
  "language_info": {
   "codemirror_mode": {
    "name": "ipython",
    "version": 3
   },
   "file_extension": ".py",
   "mimetype": "text/x-python",
   "name": "python",
   "nbconvert_exporter": "python",
   "pygments_lexer": "ipython3",
   "version": "3.9.12"
  }
 },
 "nbformat": 4,
 "nbformat_minor": 5
}