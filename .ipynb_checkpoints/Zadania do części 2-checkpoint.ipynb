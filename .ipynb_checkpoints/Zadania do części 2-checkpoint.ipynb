{
 "cells": [
  {
   "cell_type": "markdown",
   "metadata": {
    "slideshow": {
     "slide_type": "slide"
    }
   },
   "source": [
    "\n",
    "----\n",
    "\n",
    "# Zadania do części 2\n",
    "--\n"
   ]
  },
  {
   "cell_type": "markdown",
   "metadata": {},
   "source": [
    "----\n",
    "\n",
    "## Zad 1\n",
    "---\n",
    "Stwórz dwie zmienne `a` o wartości `9` i `b` o wartości `3` i wyświetl wynik ich dodawania, odejmowania, mnożenia i dzielenia."
   ]
  },
  {
   "cell_type": "code",
   "execution_count": null,
   "metadata": {},
   "outputs": [],
   "source": []
  },
  {
   "cell_type": "markdown",
   "metadata": {
    "slideshow": {
     "slide_type": "slide"
    }
   },
   "source": [
    "\n",
    "----\n",
    "\n",
    "## Zad 2\n",
    "---\n",
    "\n",
    "Stórz dwie zmienne:\n",
    "\n",
    "- pierwszą o nazwie `imie`, przypisz jej wartość typu tekstowego z Twoim imieniem\n",
    "- drugą o nazwie `rok_urodzenia` i przypisz jej liczbę całkowitą\n",
    "\n",
    "Za pomocą funkcji 'print' wyświetl na ekran tekst \"Mam na imię `zmienna 1` i mam `zmienna 2` lat\", gdzie `zmienna1` wyświetla imię, a `zmienna2` wiek obliczony jako różnica 2023 i roku urodzenia."
   ]
  },
  {
   "cell_type": "code",
   "execution_count": null,
   "metadata": {},
   "outputs": [],
   "source": []
  },
  {
   "cell_type": "markdown",
   "metadata": {
    "slideshow": {
     "slide_type": "slide"
    }
   },
   "source": [
    "\n",
    "----\n",
    "\n",
    "## Zad 3\n",
    "---\n",
    "\n",
    "Oblicz pole koła o promieniu 12 na dwa sposoby:\n",
    "- Poprzez stworzenie zmiennej o nazwie `pi` i wartości 3.14\n",
    "- Poprzez zaimportowanie wartości pi z biblioteki math\n",
    "\n",
    "Oba wyniki wyświetl na ekran. "
   ]
  },
  {
   "cell_type": "code",
   "execution_count": null,
   "metadata": {},
   "outputs": [],
   "source": []
  },
  {
   "cell_type": "markdown",
   "metadata": {
    "slideshow": {
     "slide_type": "slide"
    }
   },
   "source": [
    "\n",
    "----\n",
    "\n",
    "## Zad 4\n",
    "---\n",
    "\n",
    "Wyświetl zmienną ‘pi’ z biblioteki math na ekranie na trzy sposoby:\n",
    "- Przypisz wartość zmiennej ‘pi’ z biblioteki math do nowej zmiennej o nazwie ‘liczba_pi’\n",
    "- Zaimportuj zmienną pi bezpośrednio do programu, bez deklaracji nowej zmiennej \n",
    "    (2 sposoby)"
   ]
  },
  {
   "cell_type": "code",
   "execution_count": null,
   "metadata": {},
   "outputs": [],
   "source": []
  },
  {
   "cell_type": "markdown",
   "metadata": {},
   "source": [
    "\n",
    "----\n",
    "\n",
    "## Zad 5\n",
    "---\n",
    "\n",
    "Zadeklaruj zmienną `x` o wartości `3.14`. Sprawdź typ zmiennej przechowującej liczbę zmiennoprzecinkową. Zmień typ zmiennej na tekstowy i wyświetl typ zmiennej ponownie."
   ]
  },
  {
   "cell_type": "code",
   "execution_count": null,
   "metadata": {},
   "outputs": [],
   "source": []
  },
  {
   "cell_type": "markdown",
   "metadata": {
    "slideshow": {
     "slide_type": "slide"
    }
   },
   "source": [
    "\n",
    "----\n",
    "\n",
    "## Zad 6\n",
    "---\n",
    "\n",
    "Napisz skrypt, który wykona następujące czynności:\n",
    "\n",
    "- zmiennej `a` przypisze wartość podaną przez użytkownika np. `5`\n",
    "- zmiennej `b` przypisze wartość podaną przez użytkownika np. `3`\n",
    "- zmiennej `P` przypisze wartość `a*b`\n",
    "- wypisze na ekranie \"Pole prostokąta o bokach `a` i `b` wynosi `P`.\" (gdzie w miejsce zmiennych zostaną wstawione odpowiednie wartości).\n",
    "\n",
    "! Wykorzystaj funkcje `input` do wykonania tego ćwiczenia ! help(input)\n",
    "Zwróć uwagę jakiego typu zmienną zwraca funkcja input()"
   ]
  },
  {
   "cell_type": "code",
   "execution_count": null,
   "metadata": {},
   "outputs": [],
   "source": []
  },
  {
   "cell_type": "markdown",
   "metadata": {},
   "source": [
    "\n",
    "----\n",
    "\n",
    "## Wyniki zadań:\n",
    "---\n",
    "<b>Zad 1</b>\n",
    "\n",
    "```\n",
    "Dodawanie: 12\n",
    "Odejmowanie: 6\n",
    "Mnożenie: 27\n",
    "Dzielenie: 3.0\n",
    "```\n",
    "\n",
    "<b>Zad 2</b>\n",
    "\n",
    "*Np.* Mam na imię Jan i mam 45 lat.\n",
    "\n",
    "<b>Zad 3</b>\n",
    "\n",
    "```\n",
    "Sposób 1: 452.16\n",
    "Sposób 2: 452.3893421169302\n",
    "```\n",
    "\n",
    "<b>Zad 4</b>\n",
    "\n",
    "```\n",
    "Sposób 1: 3.141592653589793\n",
    "Sposób 2: 3.141592653589793\n",
    "Sposób 3: 3.141592653589793\n",
    "```\n",
    "\n",
    "<b>Zad 5</b>\n",
    "\n",
    "```\n",
    "Typ zmiennej przed konwersją: {<class 'float'>}\n",
    "Typ zmiennej po konwersji: {<class 'str'>}\n",
    "```\n",
    "\n",
    "<b>Zad 6</b>\n",
    "\n",
    "*Np.* dla wartości 2 i 6, wynik wynosi 12\n"
   ]
  }
 ],
 "metadata": {
  "anaconda-cloud": {},
  "kernelspec": {
   "display_name": "Python 3 (ipykernel)",
   "language": "python",
   "name": "python3"
  },
  "language_info": {
   "codemirror_mode": {
    "name": "ipython",
    "version": 3
   },
   "file_extension": ".py",
   "mimetype": "text/x-python",
   "name": "python",
   "nbconvert_exporter": "python",
   "pygments_lexer": "ipython3",
   "version": "3.9.12"
  },
  "rise": {
   "enable_chalkboard": true,
   "scroll": true
  }
 },
 "nbformat": 4,
 "nbformat_minor": 4
}
