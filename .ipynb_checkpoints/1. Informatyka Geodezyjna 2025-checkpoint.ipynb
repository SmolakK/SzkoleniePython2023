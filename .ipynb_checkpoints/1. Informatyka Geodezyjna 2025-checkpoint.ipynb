{
 "cells": [
  {
   "cell_type": "markdown",
   "id": "dfeccbb7",
   "metadata": {},
   "source": [
    "# 1. Informatyka Geodezyjna - repetytorium Python\n",
    "\n",
    "Te zajęcia mają na celu przypomnienie i powtórkę umiejętności związanych z programowaniem w języku Python. Celem jest zbudowanie niezbędnej wiedzy do zaznajomienia się z programowaniem obiektowym - które jest jedym z celów nauczania na tym kursie.\n",
    "\n",
    "Powtórka obejmuje zagadnienia z przedmiotu Technologia Informacyjna i zawiera zagadnienia takie jak:\n",
    "    \n",
    "    Typy danych i zmienne\n",
    "    Operatory\n",
    "    Komentowanie kodu\n",
    "    Biblioteki rozszerzające funkcjonalność\n",
    "    Pisanie funkcji\n",
    "    Kontrola przepływu w kodzie\n",
    "    Pętle\n",
    "    \n",
    "<center>\n",
    "<h2>O języku Python i o co w nim chodzi </h2>\n",
    "</center>\n",
    "\n",
    "Python to prosty i potężny język programowania. Jest prosty w nauce i pozwala skupić się na problemie, nie problemie programowania. To język wysokiego poziomu.\n",
    "\n",
    "Oficjalne wprowadzenie do Pythona brzmi:\n",
    "<font color=\"brown\">\n",
    "    \n",
    "    Python jest łatwym w nauce, poteżnym językiem programowania. Posiada wysokopoziomowe struktury danych i proste, ale efektywne podejście do modelowania obiektowego. Elegancka struktura (syntax) Pythona i dynamiczne zmienne sprawiają, że jest idealnym językiem do skryptowania i szybkiego wdrażania rozwiązań w wielu dziedzinach i na wielu platformach.\n",
    "</font>\n",
    "\n",
    "## Wady i zalety Pythona\n",
    "\n",
    "<h3> Wady </h3>\n",
    "\n",
    "Największą i najczęściej wymienianą wadą Pythona jest jego szybkość i wykorzystanie pamięci. <b> Python jest wolny i wymaga sporych zasobów </b>\n",
    "\n",
    "<img src=\"most-efficient.jpg\" />\n",
    "\n",
    "### Zalety\n",
    "\n",
    "Największą zaletą Pythona jest jego <b> popularność </b>. Ta zaleta pozwala na pokonanie wszystkich jego wad - również tych związanych z jego powolnością. \n",
    "\n",
    "Python ma niepodważalne zalety w postaci oszczędności kodu, łatwości zrozumienia, automatycznego zarządzania pamięcią, przenoszalności i czytelności. Dlatego też został wybrany przez ogromną liczbę programistów i deweloperów blibliotek.\n",
    "\n",
    "Deweloperzy bibliotek napisali odpowiednie narzędzia, które umożliwiają wykonywanie wszystkiego co potrafią konkurencyjne języki. Dzięki temu, Python to świetne narzędzie <b> do wszystkiego </b>.\n",
    "\n",
    "<h2> Jest językiem obiektowym </h2>\n",
    "\n",
    "Języki programowania można również podzielić na:\n",
    "\n",
    "<ul>\n",
    "    <li> Strukturalne </li>\n",
    "    <li> Obiektowe </li>\n",
    "</ul>\n",
    "\n",
    "W programowaniu strukturalnym dzielimy funkcjonalności na moduły (podprogramy).\n",
    "\n",
    "W programowaniu obiektowym tworzymy <b> obiekty </b>, każdy z nich ma własne działania (metody) oraz właściwości (atrybuty). Z założenia, mają reprezentować elementy świata rzeczywistego.\n",
    "\n",
    "W Pythonie można pisać kod w obu z tych podejść, choć jest on nastawiony na programowanie obiektowe.\n",
    "\n",
    "<img src=\"bell_fig5.jpg\"/>"
   ]
  },
  {
   "cell_type": "markdown",
   "id": "1c0cd0e8",
   "metadata": {},
   "source": [
    "### Funkcje i metody\n",
    "\n",
    "Zacznijmy od omówienia czym są funkcje i metody Pythona. \n",
    "\n",
    "Funkcje i metody to fragmenty kodu (zaimplementowane gdzieś w innym miejscu), które mają jakąś funkcjonalność, tzn. wykonują ten kod w tle dla nas by dostarczyć konkretny wynik.\n",
    "\n",
    "Zarówno funkcje i metody przyjmują <b> parametry </b> które są danymi wsadowymi od nas lub modyfikują zachowanie funkcji.\n",
    "\n",
    "<h1>Funkcje</h1>\n",
    "\n",
    "Funcje mają strukturę (syntax) następującej postaci:\n",
    "\n",
    "<i><b>nazwa</b>(parametr_1,parametr_2,...,parametr_n)</i>\n",
    "\n",
    "Wyróżniamy <b>funkcje wbudowane</b> i <b> funkcje zdefiniowane przez użytkownika</b>.\n",
    "\n",
    "Funkcje wbudowane są dostepne poprzez wywołanie ich nazwy wprost w kodzie (dostępne tu: https://docs.python.org/2/library/functions.html).\n",
    "\n",
    "Funkcje definiowane przez użytkownika pozwalają na utworzenie nowej funkcjonalności (zajmiemy się nimi później).\n",
    "\n",
    "Inne funkcje możemy importować poprzez biblioteki programistyczne - o tym później\n",
    "\n",
    "<h1> Metody </h1>\n",
    "\n",
    "Python jest językiem programowania <b> obiektowego </b>. Oznacza to, że wszystko w nim jest <b>obiektem</b>, który ma swoje właściwości, takie jak atrybuty i metody (o tym dokładniej w dalszej części kursu).\n",
    "\n",
    "Metody wywoływane są zatem na <b>obiektach</b>. Stanowią one intergralną część tych obiektów. Ich składnia to:\n",
    "<i><b>nazwa_obiektu</b>.nazwa_metody(parametr_1,parametr_2,...,parametr_n)</i>\n",
    "\n",
    "Istnieje w języku kilka wbudowanych obiektów, które posiadają wbudowane metody. Przykładem wbudowanych obiektów są typy danych.\n",
    "\n",
    "### Funkcje wbudowane\n",
    "\n",
    "Funkcje wbudowane to funkcje, które są dostępne od razu, gdy tylko rozpoczniemy pisanie kodu. Zwykle są to podstawowe funkcjonalności, które muszą zawsze być pod ręką. Ich lista znajduje się tutaj: https://docs.python.org/3/library/functions.html\n",
    "\n"
   ]
  },
  {
   "cell_type": "code",
   "execution_count": 1,
   "id": "b64ca6bd",
   "metadata": {},
   "outputs": [
    {
     "name": "stdout",
     "output_type": "stream",
     "text": [
      "Hello World!\n"
     ]
    }
   ],
   "source": [
    "print(\"Hello World!\")"
   ]
  },
  {
   "cell_type": "markdown",
   "id": "d2baf39b",
   "metadata": {},
   "source": [
    "### Deklaracja zmiennej\n",
    "\n",
    "To podstawowa operacja polegająca na przypisaniu wartości do zdefiniowanej przez nas zmiennej"
   ]
  },
  {
   "cell_type": "code",
   "execution_count": 2,
   "id": "9db5f5b2",
   "metadata": {},
   "outputs": [],
   "source": [
    "x = 2"
   ]
  },
  {
   "cell_type": "markdown",
   "id": "857e85e9",
   "metadata": {},
   "source": [
    "Wykonaj funkcję wbudowaną print() na zmiennej x!"
   ]
  },
  {
   "cell_type": "code",
   "execution_count": null,
   "id": "b479bcc1",
   "metadata": {},
   "outputs": [],
   "source": []
  },
  {
   "cell_type": "markdown",
   "id": "890e4724",
   "metadata": {},
   "source": [
    "Teraz zmieńmy tę wartość na coś innego:"
   ]
  },
  {
   "cell_type": "code",
   "execution_count": 3,
   "id": "472667e6",
   "metadata": {},
   "outputs": [],
   "source": [
    "x = 12"
   ]
  },
  {
   "cell_type": "markdown",
   "id": "3b1055bf",
   "metadata": {},
   "source": [
    "Co zwróci print(x)?"
   ]
  },
  {
   "cell_type": "code",
   "execution_count": null,
   "id": "de1e85e7",
   "metadata": {},
   "outputs": [],
   "source": []
  },
  {
   "cell_type": "markdown",
   "id": "aed0695f",
   "metadata": {},
   "source": [
    "## Proste typy zmiennych"
   ]
  },
  {
   "cell_type": "markdown",
   "id": "89b5eace",
   "metadata": {},
   "source": [
    "<h1> Proste typy danych</h1>\n",
    "\n",
    "To są typy wbudowane - klasy wbudowane\n",
    "\n",
    "<b> Liczby </b>\n",
    "<ul>\n",
    "<li> całkowite (int)</li>\n",
    "<li> zmiennoprzecinkowe (float) </li>\n",
    "<li> złożone (complex) </li>\n",
    "</ul>\n",
    "\n"
   ]
  },
  {
   "cell_type": "markdown",
   "id": "f82d98bb",
   "metadata": {},
   "source": [
    "Liczba całkowita (int) oraz funkcja wbudowana type:"
   ]
  },
  {
   "cell_type": "code",
   "execution_count": 4,
   "id": "537ec0cd",
   "metadata": {},
   "outputs": [
    {
     "data": {
      "text/plain": [
       "int"
      ]
     },
     "execution_count": 4,
     "metadata": {},
     "output_type": "execute_result"
    }
   ],
   "source": [
    "type(3)"
   ]
  },
  {
   "cell_type": "markdown",
   "id": "495ca625",
   "metadata": {},
   "source": [
    "Zmiennoprzecinkowa (float)"
   ]
  },
  {
   "cell_type": "code",
   "execution_count": null,
   "id": "e35e524e",
   "metadata": {},
   "outputs": [],
   "source": [
    "3.3"
   ]
  },
  {
   "cell_type": "markdown",
   "id": "3a73ab87",
   "metadata": {},
   "source": [
    "<b> Tekst </b>"
   ]
  },
  {
   "cell_type": "code",
   "execution_count": 10,
   "id": "b145f336",
   "metadata": {},
   "outputs": [
    {
     "name": "stdout",
     "output_type": "stream",
     "text": [
      "Pierwszy sposób\n"
     ]
    }
   ],
   "source": [
    "print('Pierwszy sposób')"
   ]
  },
  {
   "cell_type": "code",
   "execution_count": 8,
   "id": "eae26381",
   "metadata": {},
   "outputs": [
    {
     "name": "stdout",
     "output_type": "stream",
     "text": [
      "Drugi sposób\n"
     ]
    }
   ],
   "source": [
    "print(\"Drugi sposób\")"
   ]
  },
  {
   "cell_type": "code",
   "execution_count": 9,
   "id": "1dc4d853",
   "metadata": {},
   "outputs": [
    {
     "name": "stdout",
     "output_type": "stream",
     "text": [
      "Trzeci sposób\n",
      "wyjątkowy\n"
     ]
    }
   ],
   "source": [
    "print(\"\"\"Trzeci sposób\n",
    "wyjątkowy\"\"\")"
   ]
  },
  {
   "cell_type": "markdown",
   "id": "1ffef5f6",
   "metadata": {},
   "source": [
    "<b> Typ logiczny (boolean)</b>"
   ]
  },
  {
   "cell_type": "code",
   "execution_count": 11,
   "id": "86d8b13a",
   "metadata": {},
   "outputs": [
    {
     "data": {
      "text/plain": [
       "False"
      ]
     },
     "execution_count": 11,
     "metadata": {},
     "output_type": "execute_result"
    }
   ],
   "source": [
    "False"
   ]
  },
  {
   "cell_type": "markdown",
   "id": "049a73e3",
   "metadata": {},
   "source": [
    "<b> Ćwiczenie 1 </b>\n",
    "\n",
    "1. Zdefiniuj zmienną y i przypisz jej wartość zmiennoprzecinkową. \n",
    "2. Wyświetl wartość y poprzez print() oraz wyświetl typ zmiennej funkcją type().\n",
    "3. Zmień wartość y na typ tekstowy.\n",
    "4. Jaki ma teraz typ?\n"
   ]
  },
  {
   "cell_type": "code",
   "execution_count": null,
   "id": "a203345a",
   "metadata": {},
   "outputs": [],
   "source": [
    "#Zadanie wykonuj tutaj"
   ]
  },
  {
   "cell_type": "markdown",
   "id": "5c88bdf7",
   "metadata": {},
   "source": [
    "<h1> Rzutowanie typów </h1>\n",
    "To zmiana typu danej na inną.\n",
    "\n",
    "Do tego wykorzystujemy funkcji wbudowanych, które mają taką samą nazwę jak typ zmiennej w Pythonie\n",
    "\n",
    "Sprawdźmy najpierw typ zmiennych używając funkcji wbudowanej type()"
   ]
  },
  {
   "cell_type": "markdown",
   "id": "cc49aaba",
   "metadata": {},
   "source": [
    "Liczba całkowita"
   ]
  },
  {
   "cell_type": "code",
   "execution_count": 1,
   "id": "060ecf56",
   "metadata": {},
   "outputs": [
    {
     "name": "stdout",
     "output_type": "stream",
     "text": [
      "<class 'int'>\n"
     ]
    }
   ],
   "source": [
    "print(type(2))"
   ]
  },
  {
   "cell_type": "markdown",
   "id": "a56723b5",
   "metadata": {},
   "source": [
    "Liczba zmiennoprzecinkowa"
   ]
  },
  {
   "cell_type": "code",
   "execution_count": 2,
   "id": "4b0b69c9",
   "metadata": {},
   "outputs": [
    {
     "name": "stdout",
     "output_type": "stream",
     "text": [
      "<class 'float'>\n"
     ]
    }
   ],
   "source": [
    "print(type(3.4))"
   ]
  },
  {
   "cell_type": "markdown",
   "id": "c1bbb423",
   "metadata": {},
   "source": [
    "Tekst"
   ]
  },
  {
   "cell_type": "code",
   "execution_count": 4,
   "id": "9c9d2323",
   "metadata": {},
   "outputs": [
    {
     "name": "stdout",
     "output_type": "stream",
     "text": [
      "<class 'str'>\n"
     ]
    }
   ],
   "source": [
    "print(type(\"Tekst\"))"
   ]
  },
  {
   "cell_type": "markdown",
   "id": "d6a880dd",
   "metadata": {},
   "source": [
    "Typ logiczny"
   ]
  },
  {
   "cell_type": "code",
   "execution_count": 5,
   "id": "80dde040",
   "metadata": {},
   "outputs": [
    {
     "name": "stdout",
     "output_type": "stream",
     "text": [
      "<class 'bool'>\n"
     ]
    }
   ],
   "source": [
    "print(type(False))"
   ]
  },
  {
   "cell_type": "markdown",
   "id": "1ed7fb41",
   "metadata": {},
   "source": [
    "Oczywiście możemy sprawdzać tak typ zmiennej:"
   ]
  },
  {
   "cell_type": "code",
   "execution_count": 6,
   "id": "9bd2cb45",
   "metadata": {},
   "outputs": [
    {
     "name": "stdout",
     "output_type": "stream",
     "text": [
      "<class 'float'>\n"
     ]
    }
   ],
   "source": [
    "x = 3.14\n",
    "print(type(x))"
   ]
  },
  {
   "cell_type": "markdown",
   "id": "d6190f09",
   "metadata": {},
   "source": [
    "Rzutowanie typów zatem odbywa się wprost:"
   ]
  },
  {
   "cell_type": "code",
   "execution_count": 8,
   "id": "f9f10936",
   "metadata": {},
   "outputs": [
    {
     "name": "stdout",
     "output_type": "stream",
     "text": [
      "3\n"
     ]
    }
   ],
   "source": [
    "x = 3.88\n",
    "print(int(x))"
   ]
  },
  {
   "cell_type": "markdown",
   "id": "d2f02b16",
   "metadata": {},
   "source": [
    "Ale zwróćmy uwagę, że:"
   ]
  },
  {
   "cell_type": "code",
   "execution_count": 11,
   "id": "b23286b3",
   "metadata": {},
   "outputs": [
    {
     "name": "stdout",
     "output_type": "stream",
     "text": [
      "3.88\n"
     ]
    }
   ],
   "source": [
    "x = 3.88\n",
    "int(x)\n",
    "print(x)"
   ]
  },
  {
   "cell_type": "code",
   "execution_count": 12,
   "id": "59ed25ec",
   "metadata": {},
   "outputs": [
    {
     "name": "stdout",
     "output_type": "stream",
     "text": [
      "3\n"
     ]
    }
   ],
   "source": [
    "x = 3.88\n",
    "x = int(x) #PAMIĘTAJ O ZAPISANIU DO ZMIENNEJ\n",
    "print(x)"
   ]
  },
  {
   "cell_type": "markdown",
   "id": "01ab7afa",
   "metadata": {},
   "source": [
    "Uwaga na rzutowanie czegoś co nie może być typem docelowym:"
   ]
  },
  {
   "cell_type": "code",
   "execution_count": 16,
   "id": "0bf56461",
   "metadata": {},
   "outputs": [
    {
     "ename": "ValueError",
     "evalue": "could not convert string to float: 'A'",
     "output_type": "error",
     "traceback": [
      "\u001b[1;31m---------------------------------------------------------------------------\u001b[0m",
      "\u001b[1;31mValueError\u001b[0m                                Traceback (most recent call last)",
      "Cell \u001b[1;32mIn[16], line 1\u001b[0m\n\u001b[1;32m----> 1\u001b[0m \u001b[38;5;28;43mfloat\u001b[39;49m\u001b[43m(\u001b[49m\u001b[38;5;124;43m\"\u001b[39;49m\u001b[38;5;124;43mA\u001b[39;49m\u001b[38;5;124;43m\"\u001b[39;49m\u001b[43m)\u001b[49m\n",
      "\u001b[1;31mValueError\u001b[0m: could not convert string to float: 'A'"
     ]
    }
   ],
   "source": [
    "float(\"A\")"
   ]
  },
  {
   "cell_type": "markdown",
   "id": "6597b9f0",
   "metadata": {},
   "source": [
    "Rzutowanie tekstu:"
   ]
  },
  {
   "cell_type": "code",
   "execution_count": 14,
   "id": "57f15942",
   "metadata": {},
   "outputs": [
    {
     "name": "stdout",
     "output_type": "stream",
     "text": [
      "122\n"
     ]
    }
   ],
   "source": [
    "print(str(122))"
   ]
  },
  {
   "cell_type": "markdown",
   "id": "2e67242c",
   "metadata": {},
   "source": [
    "Rzutowanie na typ logiczny:"
   ]
  },
  {
   "cell_type": "code",
   "execution_count": 18,
   "id": "520a5e4b",
   "metadata": {},
   "outputs": [
    {
     "name": "stdout",
     "output_type": "stream",
     "text": [
      "False\n"
     ]
    }
   ],
   "source": []
  },
  {
   "cell_type": "code",
   "execution_count": 19,
   "id": "0a039701",
   "metadata": {},
   "outputs": [
    {
     "name": "stdout",
     "output_type": "stream",
     "text": [
      "True\n"
     ]
    }
   ],
   "source": []
  },
  {
   "cell_type": "code",
   "execution_count": 20,
   "id": "e701d39c",
   "metadata": {},
   "outputs": [
    {
     "name": "stdout",
     "output_type": "stream",
     "text": [
      "True\n"
     ]
    }
   ],
   "source": []
  },
  {
   "cell_type": "markdown",
   "id": "d358de67",
   "metadata": {
    "slideshow": {
     "slide_type": "slide"
    }
   },
   "source": [
    "<h1>Operatory binarne</h1>\n",
    "\n",
    "Podstawowe operacje są zdefiniowane w Pythonie bez potrzeby korzystania z zewnętrznych bibliotek\n",
    "\n",
    "-----------------\n",
    "\n",
    "    a + b\n",
    "    a - b\n",
    "    a * b\n",
    "    a / b\n",
    "    a // b (usuwa część po przecinku - floor-divide)\n",
    "    a ** b"
   ]
  },
  {
   "cell_type": "code",
   "execution_count": 21,
   "id": "76de01b2",
   "metadata": {},
   "outputs": [
    {
     "name": "stdout",
     "output_type": "stream",
     "text": [
      "6\n"
     ]
    }
   ],
   "source": [
    "a = 2\n",
    "b = 4\n",
    "print(a+b)"
   ]
  },
  {
   "cell_type": "code",
   "execution_count": 22,
   "id": "fba903cb",
   "metadata": {},
   "outputs": [
    {
     "name": "stdout",
     "output_type": "stream",
     "text": [
      "-2\n"
     ]
    }
   ],
   "source": [
    "a = 2\n",
    "b = 4\n",
    "print(a-b)"
   ]
  },
  {
   "cell_type": "code",
   "execution_count": 23,
   "id": "914a83f5",
   "metadata": {},
   "outputs": [
    {
     "name": "stdout",
     "output_type": "stream",
     "text": [
      "8\n"
     ]
    }
   ],
   "source": [
    "a = 2\n",
    "b = 4\n",
    "print(a*b)"
   ]
  },
  {
   "cell_type": "code",
   "execution_count": 24,
   "id": "99603144",
   "metadata": {},
   "outputs": [
    {
     "name": "stdout",
     "output_type": "stream",
     "text": [
      "0.5\n"
     ]
    }
   ],
   "source": [
    "a = 2\n",
    "b = 4\n",
    "print(a/b)"
   ]
  },
  {
   "cell_type": "code",
   "execution_count": 25,
   "id": "c539dcea",
   "metadata": {},
   "outputs": [
    {
     "name": "stdout",
     "output_type": "stream",
     "text": [
      "0\n"
     ]
    }
   ],
   "source": [
    "a = 2\n",
    "b = 4\n",
    "print(a//b)"
   ]
  },
  {
   "cell_type": "code",
   "execution_count": 26,
   "id": "e289322f",
   "metadata": {},
   "outputs": [
    {
     "name": "stdout",
     "output_type": "stream",
     "text": [
      "16\n"
     ]
    }
   ],
   "source": [
    "a = 2\n",
    "b = 4\n",
    "print(a**b)"
   ]
  },
  {
   "cell_type": "code",
   "execution_count": 46,
   "id": "9f282eb0",
   "metadata": {},
   "outputs": [
    {
     "name": "stdout",
     "output_type": "stream",
     "text": [
      "2\n"
     ]
    }
   ],
   "source": [
    "a = 2\n",
    "b = 4\n",
    "print(a%b)"
   ]
  },
  {
   "cell_type": "markdown",
   "id": "6abb9b1d",
   "metadata": {},
   "source": [
    "### Ćwiczenie:\n",
    "\n",
    "Na liście funkcji wbudowanych znajdź funkcję, która oblicza wartość bezwzględną liczby"
   ]
  },
  {
   "cell_type": "code",
   "execution_count": null,
   "id": "643b16c6",
   "metadata": {},
   "outputs": [],
   "source": []
  },
  {
   "cell_type": "markdown",
   "id": "282fca53",
   "metadata": {},
   "source": [
    "### Operatory logiczne\n",
    "\n",
    "    a == b\n",
    "    a != b\n",
    "    a <= b; a < b\n",
    "    a is b\n",
    "    a is not b"
   ]
  },
  {
   "cell_type": "code",
   "execution_count": 27,
   "id": "639ff968",
   "metadata": {},
   "outputs": [
    {
     "name": "stdout",
     "output_type": "stream",
     "text": [
      "False\n"
     ]
    }
   ],
   "source": [
    "a = 2\n",
    "b = 4\n",
    "print(a==b)"
   ]
  },
  {
   "cell_type": "code",
   "execution_count": 28,
   "id": "2d35305e",
   "metadata": {},
   "outputs": [
    {
     "name": "stdout",
     "output_type": "stream",
     "text": [
      "True\n"
     ]
    }
   ],
   "source": [
    "a = 2\n",
    "b = 4\n",
    "print(a!=b)"
   ]
  },
  {
   "cell_type": "code",
   "execution_count": 29,
   "id": "ad702b35",
   "metadata": {},
   "outputs": [
    {
     "name": "stdout",
     "output_type": "stream",
     "text": [
      "False\n"
     ]
    }
   ],
   "source": [
    "a = 2\n",
    "b = 4\n",
    "print(a>b)"
   ]
  },
  {
   "cell_type": "code",
   "execution_count": 30,
   "id": "6cd415d1",
   "metadata": {},
   "outputs": [
    {
     "name": "stdout",
     "output_type": "stream",
     "text": [
      "True\n"
     ]
    }
   ],
   "source": [
    "a = 2\n",
    "b = 4\n",
    "print(a<b)"
   ]
  },
  {
   "cell_type": "code",
   "execution_count": 31,
   "id": "e746edcb",
   "metadata": {},
   "outputs": [
    {
     "name": "stdout",
     "output_type": "stream",
     "text": [
      "False\n"
     ]
    }
   ],
   "source": [
    "a = 2\n",
    "b = 4\n",
    "print(a>=b)"
   ]
  },
  {
   "cell_type": "code",
   "execution_count": 2,
   "id": "756f7639",
   "metadata": {},
   "outputs": [
    {
     "name": "stdout",
     "output_type": "stream",
     "text": [
      "True\n"
     ]
    }
   ],
   "source": [
    "a = 2\n",
    "b = 4\n",
    "print(a<=b)"
   ]
  },
  {
   "cell_type": "code",
   "execution_count": 33,
   "id": "8c70f333",
   "metadata": {},
   "outputs": [
    {
     "name": "stdout",
     "output_type": "stream",
     "text": [
      "False\n"
     ]
    }
   ],
   "source": [
    "print(a is None)"
   ]
  },
  {
   "cell_type": "code",
   "execution_count": 34,
   "id": "599f8db1",
   "metadata": {},
   "outputs": [
    {
     "name": "stdout",
     "output_type": "stream",
     "text": [
      "True\n"
     ]
    }
   ],
   "source": [
    "print(b is not None)"
   ]
  },
  {
   "cell_type": "markdown",
   "id": "21ba48ec",
   "metadata": {},
   "source": [
    "#### Operatory dla innych typów zmiennych oznaczają inne operacje"
   ]
  },
  {
   "cell_type": "code",
   "execution_count": 38,
   "id": "382cbf05",
   "metadata": {},
   "outputs": [
    {
     "name": "stdout",
     "output_type": "stream",
     "text": [
      "Tekst\n"
     ]
    }
   ],
   "source": [
    "a = \"Te\"\n",
    "b = \"kst\"\n",
    "print(a+b)"
   ]
  },
  {
   "cell_type": "code",
   "execution_count": 39,
   "id": "0e47fa3d",
   "metadata": {},
   "outputs": [
    {
     "name": "stdout",
     "output_type": "stream",
     "text": [
      "TeTeTeTeTeTeTeTeTeTeTeTe\n"
     ]
    }
   ],
   "source": [
    "a = \"Te\"\n",
    "b = 12\n",
    "print(a*b)"
   ]
  },
  {
   "cell_type": "markdown",
   "id": "61de3961",
   "metadata": {},
   "source": [
    "### Ćwiczenie:\n",
    "\n",
    "Sprawdź nierówność z dwiema zmiennymi zawierającymi znaki tekstowe. Spróbuj wykorzystać duże i małe litery oraz znaki specjalne. Jakie są wnioski?"
   ]
  },
  {
   "cell_type": "code",
   "execution_count": 47,
   "id": "d7aa33f2",
   "metadata": {},
   "outputs": [],
   "source": [
    "# tutaj"
   ]
  },
  {
   "cell_type": "markdown",
   "id": "880c612f",
   "metadata": {
    "slideshow": {
     "slide_type": "slide"
    }
   },
   "source": [
    "<h1> Błędy </h1>\n",
    "\n",
    "Gdy pojawi się w kodzie błąd, warto spojrzeć na to co go spowodowało, by znaleźć przyczynę"
   ]
  },
  {
   "cell_type": "code",
   "execution_count": 62,
   "id": "cb061927",
   "metadata": {},
   "outputs": [
    {
     "ename": "ValueError",
     "evalue": "could not convert string to float: 'Tego nie da się'",
     "output_type": "error",
     "traceback": [
      "\u001b[1;31m---------------------------------------------------------------------------\u001b[0m",
      "\u001b[1;31mValueError\u001b[0m                                Traceback (most recent call last)",
      "\u001b[1;32m<ipython-input-62-b314694a7f26>\u001b[0m in \u001b[0;36m<module>\u001b[1;34m\u001b[0m\n\u001b[0;32m      1\u001b[0m \u001b[0ma\u001b[0m \u001b[1;33m=\u001b[0m \u001b[1;36m2\u001b[0m\u001b[1;33m\u001b[0m\u001b[1;33m\u001b[0m\u001b[0m\n\u001b[1;32m----> 2\u001b[1;33m \u001b[0mfloat\u001b[0m\u001b[1;33m(\u001b[0m\u001b[1;34m\"Tego nie da się\"\u001b[0m\u001b[1;33m)\u001b[0m\u001b[1;33m\u001b[0m\u001b[1;33m\u001b[0m\u001b[0m\n\u001b[0m\u001b[0;32m      3\u001b[0m \u001b[0mprint\u001b[0m\u001b[1;33m(\u001b[0m\u001b[0ma\u001b[0m \u001b[1;33m+\u001b[0m \u001b[0ma\u001b[0m\u001b[1;33m)\u001b[0m\u001b[1;33m\u001b[0m\u001b[1;33m\u001b[0m\u001b[0m\n",
      "\u001b[1;31mValueError\u001b[0m: could not convert string to float: 'Tego nie da się'"
     ]
    }
   ],
   "source": [
    "a = 2\n",
    "float(\"Tego nie da się\")\n",
    "print(a + a)"
   ]
  },
  {
   "cell_type": "markdown",
   "id": "d87dc6dd",
   "metadata": {
    "slideshow": {
     "slide_type": "slide"
    }
   },
   "source": [
    "<h1> Importowanie bibliotek </h1>\n",
    "\n",
    "Biblioteki zawierają dodatkowe funkcjonalności, klasy i typy danych.\n",
    "Biblioteki można importować na 3 sposoby:"
   ]
  },
  {
   "cell_type": "code",
   "execution_count": 48,
   "id": "e9da6e28",
   "metadata": {},
   "outputs": [],
   "source": [
    "import math #cała biblioteka\n",
    "from math import * #znowu cała biblioteka, ale importujemy każdą funkcję osobno\n",
    "from math import sqrt #importowanie jednej funkcji"
   ]
  },
  {
   "cell_type": "code",
   "execution_count": 72,
   "id": "8307a117",
   "metadata": {},
   "outputs": [],
   "source": [
    "from math import *"
   ]
  },
  {
   "cell_type": "code",
   "execution_count": 77,
   "id": "b5a4ceae",
   "metadata": {},
   "outputs": [
    {
     "data": {
      "text/plain": [
       "7.38905609893065"
      ]
     },
     "execution_count": 77,
     "metadata": {},
     "output_type": "execute_result"
    }
   ],
   "source": [
    "exp(2)"
   ]
  },
  {
   "cell_type": "markdown",
   "id": "734877e3",
   "metadata": {
    "slideshow": {
     "slide_type": "subslide"
    }
   },
   "source": [
    "<h4>Na przykładzie pierwiastka \"sqrt\"</h4>"
   ]
  },
  {
   "cell_type": "code",
   "execution_count": 50,
   "id": "d75cbab5",
   "metadata": {},
   "outputs": [
    {
     "data": {
      "text/plain": [
       "2.0"
      ]
     },
     "execution_count": 50,
     "metadata": {},
     "output_type": "execute_result"
    }
   ],
   "source": [
    "import math\n",
    "math.sqrt(4)"
   ]
  },
  {
   "cell_type": "code",
   "execution_count": 51,
   "id": "a1391c3c",
   "metadata": {
    "scrolled": true
   },
   "outputs": [
    {
     "data": {
      "text/plain": [
       "2.0"
      ]
     },
     "execution_count": 51,
     "metadata": {},
     "output_type": "execute_result"
    }
   ],
   "source": [
    "from math import *\n",
    "sqrt(4)"
   ]
  },
  {
   "cell_type": "markdown",
   "id": "2f577ff5",
   "metadata": {},
   "source": [
    "### Gdy używamy nowej, nieznanej nam biblioteki - kluczowe jest poznanie jej dokumentacji\n",
    "\n",
    "Dokumentacja bilbioteki math: https://docs.python.org/2/library/math.html"
   ]
  },
  {
   "cell_type": "markdown",
   "id": "8ba9356f",
   "metadata": {
    "id": "x30T1tYmL-Wz"
   },
   "source": [
    "# Komentarze\n",
    "\n",
    "* Komentarze które zaburzają klarowność kodu są gorsze niż brak komentarzy\n",
    "* Komentujemy z wykorzystaniem pełnych zdań\n",
    "* Upewnij się, że komentarz jest zrozumiały dla każdego, kto kiedykolwiek miałby przeczytać kod\n",
    "\n",
    "## Komentarze blokowe\n",
    "\n",
    "Wplatane za pomocą znaku \"#\" na tym samym poziomie, do którego się odnoszą np:"
   ]
  },
  {
   "cell_type": "code",
   "execution_count": 35,
   "id": "ed4493cd",
   "metadata": {},
   "outputs": [],
   "source": [
    "# komentarz blokowy\n",
    "a = b "
   ]
  },
  {
   "cell_type": "markdown",
   "id": "091d3903",
   "metadata": {},
   "source": [
    "### Komentarze \"docstring\"\n",
    "\n",
    "Wpisywane za pomocą potrójnego cudzysłowu (\"\"\"), używane do dokumentowania funkcji i klas\n"
   ]
  },
  {
   "cell_type": "code",
   "execution_count": 37,
   "id": "047bed0a",
   "metadata": {},
   "outputs": [],
   "source": [
    "# Przykład funkcji z komentarzem docstring\n",
    "def funkcja(parametr1, parametr2):\n",
    "    \"\"\"Komentarz opisujący funkcję\n",
    "    Opis parametrów\n",
    "    Opis wyjścia\n",
    "    \"\"\""
   ]
  },
  {
   "cell_type": "markdown",
   "id": "c73f6e36",
   "metadata": {},
   "source": [
    "### Złożone typy danych\n",
    "\n",
    "Złożone typy danych to takie, które składają się z typów podstawowych - wbudowanych, czyli takie, które mogą zostać rozłożone na prostsze czynniki.\n",
    "\n",
    "------\n",
    "Pierwszy złożony typ danych już poznaliśmy, był to....\n",
    "\n",
    "\n",
    "### Tekst (str)"
   ]
  },
  {
   "cell_type": "code",
   "execution_count": 1,
   "id": "7e80452d",
   "metadata": {},
   "outputs": [],
   "source": [
    "tekst1 = 'T' # tylko jeden znak\n",
    "tekst2 = 'Tekst' # kilka znaków - złożony typ danych"
   ]
  },
  {
   "cell_type": "markdown",
   "id": "e2a96280",
   "metadata": {},
   "source": [
    "Istotną funkcjonalnością złożonych typów danych jest ich indeksowanie\n",
    "\n",
    "Indeksowanie pozwala na pobranie wartości obiektu złożonego - ze znaków, z wartości lub z innych obiektów.\n",
    "\n",
    "<b>Indeks w Pythonie liczymy od zera</b>"
   ]
  },
  {
   "cell_type": "code",
   "execution_count": 2,
   "id": "cf52dcbb",
   "metadata": {},
   "outputs": [
    {
     "name": "stdout",
     "output_type": "stream",
     "text": [
      " \n"
     ]
    }
   ],
   "source": [
    "s = \"Monty Python\"\n",
    "print(s[5])"
   ]
  },
  {
   "cell_type": "markdown",
   "id": "dfb54ca2",
   "metadata": {},
   "source": [
    "##### Indeksy ujemne\n",
    "Co się stało poniżej?"
   ]
  },
  {
   "cell_type": "code",
   "execution_count": 3,
   "id": "f938732c",
   "metadata": {},
   "outputs": [
    {
     "name": "stdout",
     "output_type": "stream",
     "text": [
      "n\n"
     ]
    }
   ],
   "source": [
    "print(s[-1])"
   ]
  },
  {
   "cell_type": "markdown",
   "id": "83bfa54f",
   "metadata": {},
   "source": [
    "Indeksowanie działa tylko w typach złożonych:"
   ]
  },
  {
   "cell_type": "code",
   "execution_count": 4,
   "id": "453c771c",
   "metadata": {},
   "outputs": [
    {
     "ename": "TypeError",
     "evalue": "'int' object is not subscriptable",
     "output_type": "error",
     "traceback": [
      "\u001b[1;31m---------------------------------------------------------------------------\u001b[0m",
      "\u001b[1;31mTypeError\u001b[0m                                 Traceback (most recent call last)",
      "Cell \u001b[1;32mIn[4], line 2\u001b[0m\n\u001b[0;32m      1\u001b[0m a \u001b[38;5;241m=\u001b[39m \u001b[38;5;241m232\u001b[39m\n\u001b[1;32m----> 2\u001b[0m \u001b[38;5;28mprint\u001b[39m(\u001b[43ma\u001b[49m\u001b[43m[\u001b[49m\u001b[38;5;241;43m0\u001b[39;49m\u001b[43m]\u001b[49m)\n",
      "\u001b[1;31mTypeError\u001b[0m: 'int' object is not subscriptable"
     ]
    }
   ],
   "source": [
    "a = 232\n",
    "print(a[0])"
   ]
  },
  {
   "cell_type": "markdown",
   "id": "ff932b4f",
   "metadata": {},
   "source": [
    "##### Funkcja wbudowana len()"
   ]
  },
  {
   "cell_type": "code",
   "execution_count": 5,
   "id": "c0e8f6df",
   "metadata": {},
   "outputs": [
    {
     "name": "stdout",
     "output_type": "stream",
     "text": [
      "12\n"
     ]
    }
   ],
   "source": [
    "print(len(s))"
   ]
  },
  {
   "cell_type": "markdown",
   "id": "2835dcb9",
   "metadata": {},
   "source": [
    "<h2> Wycinki </h2>\n",
    "Podobnie do indeksowania pozyskują wartości, z tą różnicą że pobieramy wybrany fragment"
   ]
  },
  {
   "cell_type": "code",
   "execution_count": 6,
   "id": "068b3505",
   "metadata": {},
   "outputs": [
    {
     "name": "stdout",
     "output_type": "stream",
     "text": [
      "Monty\n"
     ]
    }
   ],
   "source": [
    "s = \"Monty Python\"\n",
    "print(s[0:5]) #ciągi z lewej strony są domknięte, a z prawej niedomknięte"
   ]
  },
  {
   "cell_type": "code",
   "execution_count": 10,
   "id": "203cadc4",
   "metadata": {},
   "outputs": [
    {
     "name": "stdout",
     "output_type": "stream",
     "text": [
      "Mo\n"
     ]
    }
   ],
   "source": [
    "s = \"Monty Python\"\n",
    "print(s[:2]) #od początku"
   ]
  },
  {
   "cell_type": "code",
   "execution_count": 11,
   "id": "d61cc5b9",
   "metadata": {},
   "outputs": [
    {
     "name": "stdout",
     "output_type": "stream",
     "text": [
      "nty Python\n"
     ]
    }
   ],
   "source": [
    "s = \"Monty Python\"\n",
    "print(s[2:]) # do końca"
   ]
  },
  {
   "cell_type": "code",
   "execution_count": 9,
   "id": "4266ca66",
   "metadata": {},
   "outputs": [
    {
     "name": "stdout",
     "output_type": "stream",
     "text": [
      "nyP\n"
     ]
    }
   ],
   "source": [
    "s = \"Monty Python\"\n",
    "print(s[2:8:2]) # od 2 do 8 (wyłączając 8my indeks), co drugi znak"
   ]
  },
  {
   "cell_type": "markdown",
   "id": "b4bf7400",
   "metadata": {},
   "source": [
    "<h1> Typy złożone</h1>\n",
    "\n",
    "Python oferuje wiele dodatkowych typów danych złożonych, zwłaszcza za pośrednictwem bibliotek.\n",
    "\n",
    "Kilka z nich jest jednak wbudowane w język i są bardzo użyteczne, a ich znajomość ułatwia pracę. Są to:\n",
    "<ul>\n",
    "    <li>Listy</li>\n",
    "    <li>Słowniki</li>\n",
    "    <li>Krotka</li>\n",
    "    <li>Zbiór</li>\n",
    "</ul>\n",
    "\n",
    "Na poprzednich wykładach poznaliście jedynie listy:\n",
    "<h2>Listy</h2>\n",
    "Pozwalają przechowywać wiele elementów, <b>dowolnego</b> typu, są modyfikowalne i zachowują kolejność elementów\n",
    "Definiuje się je przez []\n"
   ]
  },
  {
   "cell_type": "code",
   "execution_count": 15,
   "id": "a241b278",
   "metadata": {},
   "outputs": [
    {
     "name": "stdout",
     "output_type": "stream",
     "text": [
      "[2, 3]\n"
     ]
    }
   ],
   "source": [
    "nowa_lista = [2,3]\n",
    "print(nowa_lista)"
   ]
  },
  {
   "cell_type": "code",
   "execution_count": 16,
   "id": "af51239d",
   "metadata": {},
   "outputs": [
    {
     "name": "stdout",
     "output_type": "stream",
     "text": [
      "<class 'list'>\n"
     ]
    }
   ],
   "source": [
    "print(type(nowa_lista))"
   ]
  },
  {
   "cell_type": "code",
   "execution_count": 17,
   "id": "892fcaf1",
   "metadata": {},
   "outputs": [
    {
     "name": "stdout",
     "output_type": "stream",
     "text": [
      "<class 'list'>\n"
     ]
    }
   ],
   "source": [
    "nowa_lista = [1,2,4,5,8] #lista int\n",
    "nowa_lista2 = ['jeden','dwa','cztery','pięć'] #lista str\n",
    "print(type(nowa_lista2))"
   ]
  },
  {
   "cell_type": "markdown",
   "id": "a0dd0900",
   "metadata": {},
   "source": [
    "Listy mogą mieszać typy danych"
   ]
  },
  {
   "cell_type": "code",
   "execution_count": 18,
   "id": "ce3caeb3",
   "metadata": {},
   "outputs": [],
   "source": [
    "lista_mieszana = [1,4,'pięć',False]"
   ]
  },
  {
   "cell_type": "code",
   "execution_count": 19,
   "id": "6359b74e",
   "metadata": {},
   "outputs": [],
   "source": [
    "listcepcja = [1,[3,4],'dwa',['zaraz zagnieździmy',['kolejne gniazdo']]]"
   ]
  },
  {
   "cell_type": "markdown",
   "id": "7fb004ce",
   "metadata": {},
   "source": [
    "<h3> Indeksowanie w listach </h3>"
   ]
  },
  {
   "cell_type": "code",
   "execution_count": 21,
   "id": "ee32ab68",
   "metadata": {},
   "outputs": [
    {
     "name": "stdout",
     "output_type": "stream",
     "text": [
      "['zaraz zagnieździmy', ['kolejne gniazdo']]\n"
     ]
    }
   ],
   "source": [
    "listcepcja = [1,[3,4],'dwa',['zaraz zagnieździmy',['kolejne gniazdo']]]\n",
    "print(listcepcja[3])"
   ]
  },
  {
   "cell_type": "markdown",
   "id": "46139a84",
   "metadata": {},
   "source": [
    "#### Ćwiczenie:\n",
    "Spróbuj otrzymać literę o ze słowa 'kolejne gniazdo'"
   ]
  },
  {
   "cell_type": "code",
   "execution_count": 22,
   "id": "6e01eeea",
   "metadata": {},
   "outputs": [],
   "source": [
    "#tutaj"
   ]
  },
  {
   "cell_type": "markdown",
   "id": "6bc5eaee",
   "metadata": {},
   "source": [
    "<h3> Modyfikacja listy - dodawanie i zmiana elementów</h3>\n",
    "\n",
    "#### Poprzez indeks:"
   ]
  },
  {
   "cell_type": "code",
   "execution_count": 25,
   "id": "56f5c44e",
   "metadata": {},
   "outputs": [
    {
     "name": "stdout",
     "output_type": "stream",
     "text": [
      "['jeden', 2, 3, 4, 5]\n"
     ]
    }
   ],
   "source": [
    "lista = [1,2,3,4,5]\n",
    "lista[0] = \"jeden\" #POPRZEZ INDEKS\n",
    "print(lista)"
   ]
  },
  {
   "cell_type": "code",
   "execution_count": 28,
   "id": "ed649f53",
   "metadata": {},
   "outputs": [
    {
     "name": "stdout",
     "output_type": "stream",
     "text": [
      "[1, 'dwa', 3, 4, 5]\n"
     ]
    }
   ],
   "source": [
    "lista = [1,2,3,4,5]\n",
    "lista[1] = 'dwa'\n",
    "print(lista)"
   ]
  },
  {
   "cell_type": "markdown",
   "id": "309ed1c4",
   "metadata": {},
   "source": [
    "### Dodawanie do listy:"
   ]
  },
  {
   "cell_type": "code",
   "execution_count": 29,
   "id": "13861a91",
   "metadata": {},
   "outputs": [
    {
     "name": "stdout",
     "output_type": "stream",
     "text": [
      "[1, 2, 3, 4, 5, 'siedem']\n"
     ]
    }
   ],
   "source": [
    "lista = [1,2,3,4,5]\n",
    "lista.append(\"siedem\") #DODAJ DO KOŃCA\n",
    "print(lista)"
   ]
  },
  {
   "cell_type": "code",
   "execution_count": 30,
   "id": "9e24d269",
   "metadata": {},
   "outputs": [
    {
     "name": "stdout",
     "output_type": "stream",
     "text": [
      "[1, 2, 3, 4, 5, 'siedem']\n"
     ]
    }
   ],
   "source": [
    "lista = [1,2,3,4,5]\n",
    "lista = lista + ['siedem']\n",
    "print(lista)"
   ]
  },
  {
   "cell_type": "markdown",
   "id": "e3a82a44",
   "metadata": {},
   "source": [
    "<h3> Modyfikacja listy - usuwanie elementów</h3>"
   ]
  },
  {
   "cell_type": "code",
   "execution_count": 31,
   "id": "0c41a66c",
   "metadata": {},
   "outputs": [
    {
     "name": "stdout",
     "output_type": "stream",
     "text": [
      "None\n",
      "[2, 3, 4, 5]\n"
     ]
    }
   ],
   "source": [
    "lista = [1,2,3,4,5]\n",
    "print(lista.remove(1))\n",
    "print(lista)"
   ]
  },
  {
   "cell_type": "code",
   "execution_count": 34,
   "id": "82a4af9d",
   "metadata": {
    "scrolled": true
   },
   "outputs": [
    {
     "name": "stdout",
     "output_type": "stream",
     "text": [
      "2\n",
      "[1, 3, 4, 5]\n"
     ]
    }
   ],
   "source": [
    "lista = [1,2,3,4,5]\n",
    "print(lista.pop(1))\n",
    "print(lista)"
   ]
  },
  {
   "cell_type": "markdown",
   "id": "dad36a10",
   "metadata": {},
   "source": [
    "#### To ćwiczenie omawia metody kontroli przepływu czyli:\n",
    "\n",
    "    Pętle for i while\n",
    "    Instrukcje warunkowe\n",
    "\n",
    "## Wcięcia\n",
    "\n",
    "Kluczowe w Pythonie są wcięcia w kodzie. Wcięcia składają się z 4 spacji (lub Tab) i oznaczją <b> kod podrzędny </b>, czyli taki kod, który zależny jest od tego, który w hierarchi znajduje się ponad nim.\n",
    "\n",
    "```\n",
    "kod nadrzędny\n",
    "    kod podrzędny\n",
    "````\n",
    "\n",
    "Możliwe jest wielopoziomowe zagnieżdżanie kodu:\n",
    "\n",
    "```\n",
    "kod nadrzędny\n",
    "    kod podrzędny_1stopien\n",
    "        kod podrzędny_2stopien\n",
    "````\n",
    "W powyższym przykładzie kod podrzędny 1 stopnia będzie nadrzędny względem kodu podrzędnego 2 stopnia.\n",
    "\n",
    "Wcięcia są bardzo ważną składową Pythona i dbają o porządek i łatwość czytania kodu. Są niezbędne w metodach kontroli przepływu danych."
   ]
  },
  {
   "cell_type": "markdown",
   "id": "59dc4747",
   "metadata": {},
   "source": [
    "# Iteracje - pętla for i while (na sekwencjach)\n",
    "\n",
    "Pętle tworzą tzw. iteratory, które iterują się przez sekwencję zwracając każdorazowo <b>kolejne</b> elementy\n",
    "\n",
    "## Pętle for\n",
    "Jej konstrukcja jest nastepująca\n",
    "\n",
    "for <i>nazwa_iteratora</i> in <i>nazwa_sekwencji</i>:\n",
    "\n",
    "    rób coś\n",
    "    \n",
    "<b> Zwróć uwagę na wcięcie w składni </b>"
   ]
  },
  {
   "cell_type": "code",
   "execution_count": 1,
   "id": "9e73c106",
   "metadata": {},
   "outputs": [
    {
     "name": "stdout",
     "output_type": "stream",
     "text": [
      "P\n",
      "y\n",
      "t\n",
      "h\n",
      "o\n",
      "n\n"
     ]
    }
   ],
   "source": [
    "for i in \"Python\":\n",
    "    print(i)"
   ]
  },
  {
   "cell_type": "code",
   "execution_count": 35,
   "id": "37b34ed1",
   "metadata": {},
   "outputs": [
    {
     "name": "stdout",
     "output_type": "stream",
     "text": [
      "P\n",
      "a\n",
      "y\n",
      "a\n",
      "t\n",
      "a\n",
      "h\n",
      "a\n",
      "o\n",
      "a\n",
      "n\n",
      "a\n"
     ]
    }
   ],
   "source": [
    "tekst = \"Python\"\n",
    "for i in tekst:\n",
    "    print(i)\n",
    "    print(\"a\")"
   ]
  },
  {
   "cell_type": "markdown",
   "id": "7196a724",
   "metadata": {},
   "source": [
    "Wewnętrz pętli można wykonywać operacje:"
   ]
  },
  {
   "cell_type": "code",
   "execution_count": 4,
   "id": "3f7002a2",
   "metadata": {},
   "outputs": [
    {
     "name": "stdout",
     "output_type": "stream",
     "text": [
      "2\n",
      "3\n",
      "4\n",
      "5\n"
     ]
    }
   ],
   "source": [
    "for i in [1,2,3,4]:\n",
    "    print(i + 1)"
   ]
  },
  {
   "cell_type": "markdown",
   "id": "00ff7a05",
   "metadata": {},
   "source": [
    "#### Wszystko co nie jest wcięte jako kod podrzędny - wykonuje się po pętli"
   ]
  },
  {
   "cell_type": "code",
   "execution_count": 16,
   "id": "e9c9e273",
   "metadata": {},
   "outputs": [
    {
     "name": "stdout",
     "output_type": "stream",
     "text": [
      "2\n",
      "3\n",
      "4\n",
      "5\n",
      "TO WYKONA SIĘ PO PĘTLI\n"
     ]
    }
   ],
   "source": [
    "for i in [1,2,3,4]:\n",
    "    print(i + 1)\n",
    "print(\"TO WYKONA SIĘ PO PĘTLI\")"
   ]
  },
  {
   "cell_type": "code",
   "execution_count": 19,
   "id": "8a16c9e9",
   "metadata": {},
   "outputs": [
    {
     "name": "stdout",
     "output_type": "stream",
     "text": [
      "2\n",
      "TO WYKONA SIĘ WEWNĄTRZ PĘTLI\n",
      "3\n",
      "TO WYKONA SIĘ WEWNĄTRZ PĘTLI\n",
      "4\n",
      "TO WYKONA SIĘ WEWNĄTRZ PĘTLI\n",
      "5\n",
      "TO WYKONA SIĘ WEWNĄTRZ PĘTLI\n",
      "a to już na końcu\n"
     ]
    }
   ],
   "source": [
    "for i in [1,2,3,4]:\n",
    "    print(i + 1)\n",
    "    print(\"TO WYKONA SIĘ WEWNĄTRZ PĘTLI\")\n",
    "print('a to już na końcu')"
   ]
  },
  {
   "cell_type": "markdown",
   "id": "bf1c85a6",
   "metadata": {},
   "source": [
    "### Przepływ danych w pętli for\n",
    "\n",
    "Pętla for wykonuje się N razy, gdzie N to długość sekwencji"
   ]
  },
  {
   "cell_type": "code",
   "execution_count": 15,
   "id": "371d7064",
   "metadata": {},
   "outputs": [
    {
     "name": "stdout",
     "output_type": "stream",
     "text": [
      "3\n",
      "3\n"
     ]
    }
   ],
   "source": [
    "licznik = 0\n",
    "for n in [1,2,3]:\n",
    "    licznik += 1 # to wyrażenie jest równe licznik = licznik + 1\n",
    "print(licznik)\n",
    "print(len([1,2,3]))"
   ]
  },
  {
   "cell_type": "markdown",
   "id": "190629fc",
   "metadata": {},
   "source": [
    "Iterator zmienia się <b> tylko </b> wewnątrz pętli"
   ]
  },
  {
   "cell_type": "code",
   "execution_count": 21,
   "id": "04a71b68",
   "metadata": {},
   "outputs": [
    {
     "name": "stdout",
     "output_type": "stream",
     "text": [
      "\n",
      "\n",
      "\n",
      "3\n"
     ]
    }
   ],
   "source": [
    "for n in [1,2,3]:\n",
    "    print('')\n",
    "print(n)"
   ]
  },
  {
   "cell_type": "markdown",
   "id": "d323e8d8",
   "metadata": {},
   "source": [
    "#### Ćwiczenie\n",
    "Ile razy łącznie wykona się najbardziej podrzędny kod w poniższym kodzie?\n",
    "\n",
    "```\n",
    "x = range(10)\n",
    "y = range(5)\n",
    "for n in x:\n",
    "    for m in y:\n",
    "        operacja <--- ile razy wykona się ten kod?\n",
    "```"
   ]
  },
  {
   "cell_type": "markdown",
   "id": "e2003f33",
   "metadata": {},
   "source": [
    "## Pętla while\n",
    "\n",
    "Pętla for wykonuje się dopóki sekwencja nie dobiegnie końca. Pętla while wykonuje się dopóki podany warunek jest spełniony.\n",
    "\n",
    "Konstrukcja\n",
    "\n",
    "while <i> warunek </i>:\n",
    "\n",
    "    ~rób coś~\n",
    "    \n",
    "Należy uważać, gdyż warunek może nie zostać spełniony nigdy, a kod utknie w pętli!"
   ]
  },
  {
   "cell_type": "code",
   "execution_count": 26,
   "id": "877d7397",
   "metadata": {},
   "outputs": [
    {
     "name": "stdout",
     "output_type": "stream",
     "text": [
      "11\n",
      "10\n"
     ]
    }
   ],
   "source": [
    "i = 12\n",
    "while i > 10:\n",
    "    #12, 11\n",
    "    i -= 1 #11, 10\n",
    "    print(i) #11, 10"
   ]
  },
  {
   "cell_type": "code",
   "execution_count": 27,
   "id": "a4431d95",
   "metadata": {},
   "outputs": [
    {
     "name": "stdout",
     "output_type": "stream",
     "text": [
      "11\n",
      "10\n"
     ]
    }
   ],
   "source": [
    "i = 12\n",
    "while i > 10:\n",
    "    i -= 1\n",
    "    print(i)"
   ]
  },
  {
   "cell_type": "markdown",
   "id": "c0f08419",
   "metadata": {},
   "source": [
    "<h1> Kontrola przepływu - if, elif, else </h1>\n",
    "Instrukcje warunkowe if służą do kontroli przepływu poprzez narzucanie warunków na kod.\n",
    "Struktura to\n",
    "\n",
    "if <i> warunek </i>:\n",
    "\n",
    "    rób coś\n",
    "elif <i> warunek </i>:\n",
    "\n",
    "    rób coś\n",
    "else:\n",
    "\n",
    "    rób coś"
   ]
  },
  {
   "cell_type": "markdown",
   "id": "7ae3aa08",
   "metadata": {},
   "source": [
    "#### Najprostsza konstrukcja\n",
    "\n",
    "<i> warunek </i> <b> musi </b> być zmienną o typie bool (typem logicznym)"
   ]
  },
  {
   "cell_type": "code",
   "execution_count": 31,
   "id": "090a3ea3",
   "metadata": {},
   "outputs": [
    {
     "name": "stdout",
     "output_type": "stream",
     "text": [
      "A\n"
     ]
    }
   ],
   "source": [
    "if True:\n",
    "    print(\"A\")"
   ]
  },
  {
   "cell_type": "code",
   "execution_count": 32,
   "id": "b13b1757",
   "metadata": {},
   "outputs": [],
   "source": [
    "if False:\n",
    "    print(\"A\")"
   ]
  },
  {
   "cell_type": "code",
   "execution_count": 33,
   "id": "6487e4b7",
   "metadata": {},
   "outputs": [
    {
     "name": "stdout",
     "output_type": "stream",
     "text": [
      "B\n"
     ]
    }
   ],
   "source": [
    "if False:\n",
    "    print(\"A\")\n",
    "print(\"B\")"
   ]
  },
  {
   "cell_type": "markdown",
   "id": "f0a7a69a",
   "metadata": {},
   "source": [
    "W warunku może być wstawione coś co zwróci typ logiczny:"
   ]
  },
  {
   "cell_type": "code",
   "execution_count": 29,
   "id": "bce6c988",
   "metadata": {},
   "outputs": [
    {
     "name": "stdout",
     "output_type": "stream",
     "text": [
      "A\n"
     ]
    }
   ],
   "source": [
    "if 2<3:\n",
    "    print(\"A\")"
   ]
  },
  {
   "cell_type": "code",
   "execution_count": 30,
   "id": "2076957d",
   "metadata": {},
   "outputs": [
    {
     "name": "stdout",
     "output_type": "stream",
     "text": [
      "A\n"
     ]
    }
   ],
   "source": [
    "a = 2\n",
    "b = 3\n",
    "if a<b:\n",
    "    print(\"A\")"
   ]
  },
  {
   "cell_type": "markdown",
   "id": "c5d7734a",
   "metadata": {},
   "source": [
    "#### Wykorzystanie elif"
   ]
  },
  {
   "cell_type": "code",
   "execution_count": 38,
   "id": "2d8b42bc",
   "metadata": {},
   "outputs": [
    {
     "name": "stdout",
     "output_type": "stream",
     "text": [
      "dwa jest mniejsze od trzech\n"
     ]
    }
   ],
   "source": [
    "if 2>3:\n",
    "    print(\"dwa jest wieksze od trzech\")\n",
    "elif 2<3:\n",
    "    print(\"dwa jest mniejsze od trzech\")"
   ]
  },
  {
   "cell_type": "code",
   "execution_count": 39,
   "id": "52f2b451",
   "metadata": {},
   "outputs": [
    {
     "name": "stdout",
     "output_type": "stream",
     "text": [
      "IF\n"
     ]
    }
   ],
   "source": [
    "a = 2\n",
    "b = 3\n",
    "c = 4\n",
    "if b>a:\n",
    "    print(\"IF\")\n",
    "elif c>b:\n",
    "    print(\"ELIF\")"
   ]
  },
  {
   "cell_type": "code",
   "execution_count": 40,
   "id": "558b9eb9",
   "metadata": {},
   "outputs": [
    {
     "name": "stdout",
     "output_type": "stream",
     "text": [
      "IF\n",
      "ELIF\n"
     ]
    }
   ],
   "source": [
    "a = 2\n",
    "b = 3\n",
    "c = 4\n",
    "if b>a:\n",
    "    print(\"IF\")\n",
    "if c>b:\n",
    "    print(\"ELIF\")"
   ]
  },
  {
   "cell_type": "markdown",
   "id": "3032f4f7",
   "metadata": {},
   "source": [
    "<center>\n",
    "<h1>Python - funkcje, definicja funkcji, wyjątki</h1>\n",
    "</center>\n",
    "\n",
    "Ta część szkolenia omawia możliwość ułatwienia pracy z wykorzystaniem własnych funkcji, czyli fragmentów kodu, który możemy wykonywać wielokrotnie za pomocą prostego odwołania.\n",
    "\n",
    "<h2> Funkcje </h2>\n",
    "    \n",
    "    Tworzą one \"wywoływalne bloki instrukcji\".\n",
    "\n",
    "    Są szczególnie przydatne gdy używamy pewnego fragmentu kodu wielokrotnie - zgodnie z ideą DRY (Don't Repeat Yourself)\n",
    "\n",
    "    Mogą (nie muszą) przyjmować parametry/argumenty\n",
    "\n",
    "    Mogą (nie muszą) zwracać obiekt\n",
    "    \n",
    "#### Definicja funkcji\n",
    "```\n",
    "def nazwa_funkcji(argumenty):\n",
    "    instrukcje\n",
    "    ...\n",
    "    return obiekt\n",
    "```\n",
    "Pamiętamy o wcięciu 4 spacjami lub tabulatorem!\n",
    "\n",
    "Przykładowo chcemy zdefiniować funkcję, która po wywołaniu wyświetla tekst \"Hello World!\""
   ]
  },
  {
   "cell_type": "code",
   "execution_count": 3,
   "id": "3b033da8",
   "metadata": {},
   "outputs": [],
   "source": [
    "def hello():\n",
    "    print(\"Hello World!\")\n",
    "#deklaracja nie powoduje uruchomienia"
   ]
  },
  {
   "cell_type": "code",
   "execution_count": 4,
   "id": "9f405b7c",
   "metadata": {},
   "outputs": [
    {
     "name": "stdout",
     "output_type": "stream",
     "text": [
      "Hello World!\n"
     ]
    }
   ],
   "source": [
    "hello() #wywołanie powoduje uruchomienie"
   ]
  },
  {
   "cell_type": "markdown",
   "id": "4b944493",
   "metadata": {},
   "source": [
    "<h3>Wykorzystanie argumentów funkcji</h3>"
   ]
  },
  {
   "cell_type": "code",
   "execution_count": 34,
   "id": "fb53a498",
   "metadata": {},
   "outputs": [
    {
     "name": "stdout",
     "output_type": "stream",
     "text": [
      "7\n"
     ]
    }
   ],
   "source": [
    "def suma(a,b):\n",
    "    print(a+b)\n",
    "suma(4,3)"
   ]
  },
  {
   "cell_type": "markdown",
   "id": "15313bdb",
   "metadata": {},
   "source": [
    "### Return w funkcji"
   ]
  },
  {
   "cell_type": "code",
   "execution_count": 36,
   "id": "ebcff254",
   "metadata": {},
   "outputs": [
    {
     "name": "stdout",
     "output_type": "stream",
     "text": [
      "7\n",
      "None\n"
     ]
    }
   ],
   "source": [
    "def suma(a,b):\n",
    "    print(a+b)\n",
    "x = suma(4,3)\n",
    "print(x) #to zwraca None (nic)"
   ]
  },
  {
   "cell_type": "code",
   "execution_count": 5,
   "id": "244fe1d6",
   "metadata": {},
   "outputs": [],
   "source": [
    "def suma(a,b):\n",
    "    return a+b"
   ]
  },
  {
   "cell_type": "code",
   "execution_count": 6,
   "id": "809c7099",
   "metadata": {},
   "outputs": [
    {
     "name": "stdout",
     "output_type": "stream",
     "text": [
      "7\n"
     ]
    }
   ],
   "source": [
    "print(suma(4,3))"
   ]
  },
  {
   "cell_type": "code",
   "execution_count": 7,
   "id": "f8e6199c",
   "metadata": {},
   "outputs": [
    {
     "name": "stdout",
     "output_type": "stream",
     "text": [
      "7\n"
     ]
    }
   ],
   "source": [
    "x = suma(4,3)\n",
    "print(x)"
   ]
  },
  {
   "cell_type": "markdown",
   "id": "216ebf9d",
   "metadata": {},
   "source": [
    "Kolejność argumentów ma znaczenie!"
   ]
  },
  {
   "cell_type": "code",
   "execution_count": 10,
   "id": "b0d69931",
   "metadata": {},
   "outputs": [],
   "source": [
    "def diff(a,b):\n",
    "    return a-b"
   ]
  },
  {
   "cell_type": "code",
   "execution_count": 11,
   "id": "624b05d3",
   "metadata": {},
   "outputs": [
    {
     "name": "stdout",
     "output_type": "stream",
     "text": [
      "1\n"
     ]
    }
   ],
   "source": [
    "print(diff(4,3))"
   ]
  },
  {
   "cell_type": "code",
   "execution_count": 12,
   "id": "6d5f1857",
   "metadata": {},
   "outputs": [
    {
     "name": "stdout",
     "output_type": "stream",
     "text": [
      "-1\n"
     ]
    }
   ],
   "source": [
    "print(diff(3,4))"
   ]
  }
 ],
 "metadata": {
  "kernelspec": {
   "display_name": "Python 3 (ipykernel)",
   "language": "python",
   "name": "python3"
  },
  "language_info": {
   "codemirror_mode": {
    "name": "ipython",
    "version": 3
   },
   "file_extension": ".py",
   "mimetype": "text/x-python",
   "name": "python",
   "nbconvert_exporter": "python",
   "pygments_lexer": "ipython3",
   "version": "3.9.12"
  }
 },
 "nbformat": 4,
 "nbformat_minor": 5
}
