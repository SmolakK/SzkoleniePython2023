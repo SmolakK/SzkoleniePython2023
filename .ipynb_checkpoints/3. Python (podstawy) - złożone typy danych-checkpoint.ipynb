{
 "cells": [
  {
   "cell_type": "markdown",
   "id": "d06003e2",
   "metadata": {},
   "source": [
    "# 3. Python - złożone typy danych"
   ]
  },
  {
   "cell_type": "markdown",
   "id": "c73f6e36",
   "metadata": {},
   "source": [
    "### Złożone typy danych\n",
    "\n",
    "Złożone typy danych to takie, które składają się z typów podstawowych - wbudowanych, czyli takie, które mogą zostać rozłożone na prostsze czynniki.\n",
    "\n",
    "------\n",
    "Pierwszy złożony typ danych już poznaliśmy, był to....\n",
    "\n",
    "\n",
    "### Tekst (str)"
   ]
  },
  {
   "cell_type": "code",
   "execution_count": 1,
   "id": "25cb190f",
   "metadata": {},
   "outputs": [],
   "source": [
    "tekst1 = 'T' # tylko jeden znak\n",
    "tekst2 = 'Tekst' # kilka znaków - złożony typ danych"
   ]
  },
  {
   "cell_type": "markdown",
   "id": "e2a96280",
   "metadata": {},
   "source": [
    "Istotną funkcjonalnością złożonych typów danych jest ich indeksowanie\n",
    "\n",
    "Indeksowanie pozwala na pobranie wartości obiektu złożonego - ze znaków, z wartości lub z innych obiektów.\n",
    "\n",
    "<b>Indeks w Pythonie liczymy od zera</b>"
   ]
  },
  {
   "cell_type": "code",
   "execution_count": 4,
   "id": "cd7c5035",
   "metadata": {},
   "outputs": [],
   "source": [
    "s = \"Język Python\""
   ]
  },
  {
   "cell_type": "code",
   "execution_count": 3,
   "id": "f91323f4",
   "metadata": {},
   "outputs": [
    {
     "name": "stdout",
     "output_type": "stream",
     "text": [
      " \n"
     ]
    }
   ],
   "source": [
    "print(s[5])"
   ]
  },
  {
   "cell_type": "markdown",
   "id": "764f0b85",
   "metadata": {},
   "source": [
    "### Ćwiczenie:\n",
    "Spróbujmy wybrać taki indeks, żeby otrzymać literę 'h'"
   ]
  },
  {
   "cell_type": "code",
   "execution_count": null,
   "id": "f74ec1a1",
   "metadata": {},
   "outputs": [],
   "source": [
    "# tutaj"
   ]
  },
  {
   "cell_type": "markdown",
   "id": "dfb54ca2",
   "metadata": {},
   "source": [
    "##### Indeksy ujemne\n",
    "Co pozwalają uzyskać indeksy ujemne?"
   ]
  },
  {
   "cell_type": "code",
   "execution_count": null,
   "id": "6e9fb931",
   "metadata": {},
   "outputs": [],
   "source": []
  },
  {
   "cell_type": "markdown",
   "id": "4c8d2027",
   "metadata": {},
   "source": [
    "<b> Indeksowanie działa jedynie na typach złożonych </b>"
   ]
  },
  {
   "cell_type": "code",
   "execution_count": 5,
   "id": "9bbcfe1e",
   "metadata": {},
   "outputs": [
    {
     "ename": "TypeError",
     "evalue": "'int' object is not subscriptable",
     "output_type": "error",
     "traceback": [
      "\u001b[1;31m---------------------------------------------------------------------------\u001b[0m",
      "\u001b[1;31mTypeError\u001b[0m                                 Traceback (most recent call last)",
      "Input \u001b[1;32mIn [5]\u001b[0m, in \u001b[0;36m<cell line: 2>\u001b[1;34m()\u001b[0m\n\u001b[0;32m      1\u001b[0m a \u001b[38;5;241m=\u001b[39m \u001b[38;5;241m232\u001b[39m\n\u001b[1;32m----> 2\u001b[0m \u001b[43ma\u001b[49m\u001b[43m[\u001b[49m\u001b[38;5;241;43m0\u001b[39;49m\u001b[43m]\u001b[49m\n",
      "\u001b[1;31mTypeError\u001b[0m: 'int' object is not subscriptable"
     ]
    }
   ],
   "source": [
    "a = 232\n",
    "a[0]"
   ]
  },
  {
   "cell_type": "markdown",
   "id": "2835dcb9",
   "metadata": {},
   "source": [
    "<h2> Wycinki </h2>\n",
    "Podobnie do indeksowania pozyskują wartości, z tą różnicą że pobieramy wybrany fragment"
   ]
  },
  {
   "cell_type": "code",
   "execution_count": 6,
   "id": "219960ab",
   "metadata": {},
   "outputs": [
    {
     "name": "stdout",
     "output_type": "stream",
     "text": [
      "Język\n"
     ]
    }
   ],
   "source": [
    "s = \"Język Python\"\n",
    "print(s[0:5])"
   ]
  },
  {
   "cell_type": "markdown",
   "id": "93606412",
   "metadata": {},
   "source": [
    "Warianty stosowania wycinków:"
   ]
  },
  {
   "cell_type": "code",
   "execution_count": null,
   "id": "93150e74",
   "metadata": {},
   "outputs": [],
   "source": []
  },
  {
   "cell_type": "code",
   "execution_count": null,
   "id": "420945cd",
   "metadata": {},
   "outputs": [],
   "source": []
  },
  {
   "cell_type": "code",
   "execution_count": null,
   "id": "d7f410f8",
   "metadata": {},
   "outputs": [],
   "source": []
  },
  {
   "cell_type": "markdown",
   "id": "0e0761c6",
   "metadata": {},
   "source": [
    "### Ćwiczenie:\n",
    "\n",
    "Skoro już wiemy jak działają wycinki, co zwróci operacja \n",
    "    \n",
    "    s[::2]"
   ]
  },
  {
   "cell_type": "markdown",
   "id": "6fe44485",
   "metadata": {},
   "source": [
    "# Inne typy złożone dostępne w Pythonie\n",
    "\n",
    "Python oferuje wiele dodatkowych typów danych złożonych, zwłaszcza za pośrednictwem bibliotek.\n",
    "\n",
    "Kilka z nich jest jednak wbudowane w język i są bardzo użyteczne, a ich znajomość ułatwia pracę. Są to:\n",
    "<ul>\n",
    "    <li>Listy</li>\n",
    "    <li>Słowniki</li>\n",
    "    <li>Krotka</li>\n",
    "    <li>Zbiór</li>\n",
    "</ul>\n",
    "\n",
    "<h2>Listy</h2>\n",
    "Pozwalają przechowywać wiele elementów, <b>dowolnego</b> typu, są modyfikowalne i zachowują kolejność elementów\n",
    "Definiuje się je przez []\n",
    "Python oferuje wiele dodatkowych typów danych złożonych, zwłaszcza za pośrednictwem bibliotek.\n",
    "\n",
    "Kilka z nich jest jednak wbudowane w język i są bardzo użyteczne, a ich znajomość ułatwia pracę. Są to:\n",
    "<ul>\n",
    "    <li>Listy</li>\n",
    "    <li>Słowniki</li>\n",
    "    <li>Krotka</li>\n",
    "    <li>Zbiór</li>\n",
    "</ul>\n",
    "\n",
    "## Listy\n",
    "Pozwalają przechowywać wiele elementów, <b>dowolnego</b> typu, są modyfikowalne i zachowują kolejność elementów\n",
    "Definiuje się je przez []"
   ]
  },
  {
   "cell_type": "code",
   "execution_count": null,
   "id": "c110c066",
   "metadata": {},
   "outputs": [],
   "source": []
  },
  {
   "cell_type": "markdown",
   "id": "81517329",
   "metadata": {},
   "source": [
    "Sprawdźmy typ zmiennej lista:"
   ]
  },
  {
   "cell_type": "code",
   "execution_count": null,
   "id": "c212efc7",
   "metadata": {},
   "outputs": [],
   "source": []
  },
  {
   "cell_type": "markdown",
   "id": "132eab4c",
   "metadata": {},
   "source": [
    "Listy mogą zwierać różne type danych:"
   ]
  },
  {
   "cell_type": "code",
   "execution_count": null,
   "id": "c751c983",
   "metadata": {},
   "outputs": [],
   "source": []
  },
  {
   "cell_type": "markdown",
   "id": "d9b2c40f",
   "metadata": {},
   "source": [
    "Nawet... inne listy"
   ]
  },
  {
   "cell_type": "code",
   "execution_count": null,
   "id": "c39aed18",
   "metadata": {},
   "outputs": [],
   "source": []
  },
  {
   "cell_type": "markdown",
   "id": "7fb004ce",
   "metadata": {},
   "source": [
    "### Indeksowanie w listach"
   ]
  },
  {
   "cell_type": "code",
   "execution_count": null,
   "id": "bef87043",
   "metadata": {},
   "outputs": [],
   "source": []
  },
  {
   "cell_type": "markdown",
   "id": "6bc5eaee",
   "metadata": {},
   "source": [
    "### Modyfikacja listy - dodawanie i zmiana elementów\n",
    "\n",
    "#### Poprzez indeks:"
   ]
  },
  {
   "cell_type": "code",
   "execution_count": null,
   "id": "3f95778d",
   "metadata": {},
   "outputs": [],
   "source": []
  },
  {
   "cell_type": "markdown",
   "id": "22b01bf9",
   "metadata": {},
   "source": [
    "\n",
    "#### Poprzez dodawanie na koniec listy:"
   ]
  },
  {
   "cell_type": "code",
   "execution_count": null,
   "id": "be50ba72",
   "metadata": {},
   "outputs": [],
   "source": []
  },
  {
   "cell_type": "markdown",
   "id": "7a1139a0",
   "metadata": {},
   "source": [
    "## Krotki\n",
    "    Są jak listy...z tą różnicą że nie są modyfikowalne.\n",
    "    \n",
    "    Definiujemy je poprzez nawiasy ()"
   ]
  },
  {
   "cell_type": "code",
   "execution_count": null,
   "id": "d94a16ca",
   "metadata": {},
   "outputs": [],
   "source": []
  },
  {
   "cell_type": "code",
   "execution_count": null,
   "id": "d8b69d29",
   "metadata": {},
   "outputs": [],
   "source": []
  },
  {
   "cell_type": "markdown",
   "id": "04f5468d",
   "metadata": {},
   "source": [
    "### Indeksowanie krotek"
   ]
  },
  {
   "cell_type": "code",
   "execution_count": null,
   "id": "a5c9933f",
   "metadata": {},
   "outputs": [],
   "source": []
  },
  {
   "cell_type": "markdown",
   "id": "573f13eb",
   "metadata": {},
   "source": [
    "### Ćwiczenie:\n",
    "\n",
    "Spróbujmy wyświetlić krotkę od końca"
   ]
  },
  {
   "cell_type": "code",
   "execution_count": null,
   "id": "1bab83ef",
   "metadata": {},
   "outputs": [],
   "source": []
  },
  {
   "cell_type": "markdown",
   "id": "125d840f",
   "metadata": {},
   "source": [
    "### Modyfikacja krotek"
   ]
  },
  {
   "cell_type": "markdown",
   "id": "90b38f79",
   "metadata": {},
   "source": [
    "## Zbiory\n",
    "Przechowują dane, są niemodyfikowalne, nie zachowują kolejności, przechowują tylko <b>unikalne</b> elementy, przechowuje dowolne elementy\n",
    "\n",
    "Definicja zbioru:"
   ]
  },
  {
   "cell_type": "code",
   "execution_count": null,
   "id": "f7dcc5b3",
   "metadata": {},
   "outputs": [],
   "source": []
  },
  {
   "cell_type": "code",
   "execution_count": null,
   "id": "dbff3153",
   "metadata": {},
   "outputs": [],
   "source": []
  },
  {
   "cell_type": "markdown",
   "id": "ae237ad1",
   "metadata": {},
   "source": [
    "Właściwość zbioru, która pozwala na wyświetalnie wyłącznie <b> unikalnych elemenetów </b>:"
   ]
  },
  {
   "cell_type": "code",
   "execution_count": null,
   "id": "c63289ed",
   "metadata": {},
   "outputs": [],
   "source": []
  },
  {
   "cell_type": "markdown",
   "id": "f0e7764a",
   "metadata": {},
   "source": [
    "### Indeksowanie zbiorów"
   ]
  },
  {
   "cell_type": "code",
   "execution_count": null,
   "id": "22d6b910",
   "metadata": {},
   "outputs": [],
   "source": []
  },
  {
   "cell_type": "markdown",
   "id": "ff2b27ad",
   "metadata": {},
   "source": [
    "### Modyfikowanie zbiorów"
   ]
  },
  {
   "cell_type": "code",
   "execution_count": null,
   "id": "d6759cd4",
   "metadata": {},
   "outputs": [],
   "source": []
  },
  {
   "cell_type": "markdown",
   "id": "e85f558a",
   "metadata": {},
   "source": [
    "<h2>Słowniki</h2>\n",
    "Słowniki to jeden z najważniejszych typów wbudowanych Pythona. Opisuje on związek par wartość - klucz. \n",
    "Słownik nie zachowuje kolejności elementów. Definiuje się go za pomocą {}\n",
    "\n",
    "#### Definicja:"
   ]
  },
  {
   "cell_type": "code",
   "execution_count": null,
   "id": "b96631c2",
   "metadata": {},
   "outputs": [],
   "source": []
  },
  {
   "cell_type": "markdown",
   "id": "6301bb8e",
   "metadata": {},
   "source": [
    "### Indeksowanie "
   ]
  },
  {
   "cell_type": "code",
   "execution_count": null,
   "id": "71d9e446",
   "metadata": {},
   "outputs": [],
   "source": []
  },
  {
   "cell_type": "markdown",
   "id": "3d40a58d",
   "metadata": {},
   "source": [
    "### Ćwiczenie:\n",
    "Spróbuj określić dlaczego poniższy indeks zadziałał:"
   ]
  },
  {
   "cell_type": "code",
   "execution_count": 7,
   "id": "e4ae3a83",
   "metadata": {},
   "outputs": [
    {
     "name": "stdout",
     "output_type": "stream",
     "text": [
      "w\n"
     ]
    }
   ],
   "source": [
    "dict1 = {'klucz1': 2, 2: 'w'}\n",
    "print(dict1[2])"
   ]
  },
  {
   "cell_type": "markdown",
   "id": "67516217",
   "metadata": {},
   "source": [
    "<h3> Modyfikacje słownika </h3>\n",
    "\n",
    "Nadpisywanie"
   ]
  },
  {
   "cell_type": "code",
   "execution_count": null,
   "id": "0e7fe946",
   "metadata": {},
   "outputs": [],
   "source": []
  },
  {
   "cell_type": "markdown",
   "id": "75479ae2",
   "metadata": {},
   "source": [
    "Dodawanie nowych wartości"
   ]
  },
  {
   "cell_type": "code",
   "execution_count": null,
   "id": "21f0fcb4",
   "metadata": {},
   "outputs": [],
   "source": []
  },
  {
   "cell_type": "markdown",
   "id": "b22bb0b8",
   "metadata": {},
   "source": [
    "## Funkcje wbudowane przydatne w pracy z typami złożonymi"
   ]
  },
  {
   "cell_type": "markdown",
   "id": "c88ce070",
   "metadata": {},
   "source": [
    "## len()"
   ]
  },
  {
   "cell_type": "code",
   "execution_count": null,
   "id": "0694a52b",
   "metadata": {},
   "outputs": [],
   "source": []
  },
  {
   "cell_type": "markdown",
   "id": "3bcbab0c",
   "metadata": {},
   "source": [
    "#### Ćwiczenie:\n",
    "Co zwraca len() dla słowników?"
   ]
  },
  {
   "cell_type": "code",
   "execution_count": null,
   "id": "ac666802",
   "metadata": {},
   "outputs": [],
   "source": []
  },
  {
   "cell_type": "markdown",
   "id": "4b475379",
   "metadata": {},
   "source": [
    "## max()"
   ]
  },
  {
   "cell_type": "code",
   "execution_count": null,
   "id": "ef77a81f",
   "metadata": {},
   "outputs": [],
   "source": []
  },
  {
   "cell_type": "markdown",
   "id": "9f926590",
   "metadata": {},
   "source": [
    "## min()"
   ]
  },
  {
   "cell_type": "code",
   "execution_count": null,
   "id": "9220bac0",
   "metadata": {},
   "outputs": [],
   "source": []
  },
  {
   "cell_type": "markdown",
   "id": "e9b97588",
   "metadata": {},
   "source": [
    "### Ćwiczenie:\n",
    "Co zwróci polecenie\n",
    "    \n",
    "    max(\"zero\")\n"
   ]
  },
  {
   "cell_type": "markdown",
   "id": "23e68506",
   "metadata": {},
   "source": [
    "### Ćwiczenie:\n",
    "Co zwróci polecenie\n",
    "    \n",
    "    min(\"Rok 2024\")\n"
   ]
  }
 ],
 "metadata": {
  "kernelspec": {
   "display_name": "Python 3 (ipykernel)",
   "language": "python",
   "name": "python3"
  },
  "language_info": {
   "codemirror_mode": {
    "name": "ipython",
    "version": 3
   },
   "file_extension": ".py",
   "mimetype": "text/x-python",
   "name": "python",
   "nbconvert_exporter": "python",
   "pygments_lexer": "ipython3",
   "version": "3.9.12"
  }
 },
 "nbformat": 4,
 "nbformat_minor": 5
}
