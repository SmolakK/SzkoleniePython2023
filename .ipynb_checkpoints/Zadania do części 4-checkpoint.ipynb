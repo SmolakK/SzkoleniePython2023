{
 "cells": [
  {
   "cell_type": "markdown",
   "metadata": {
    "slideshow": {
     "slide_type": "slide"
    }
   },
   "source": [
    "\n",
    "----\n",
    "\n",
    "# Zadania do części 4\n",
    "---\n"
   ]
  },
  {
   "cell_type": "markdown",
   "metadata": {
    "slideshow": {
     "slide_type": "slide"
    }
   },
   "source": [
    "\n",
    "----\n",
    "\n",
    "## Zad 1\n",
    "---\n",
    "\n",
    "Użyj pętli for do iteracji przez elementy listy i wyświetl je.\n",
    "\n",
    "```\n",
    "lista = [1, 2, 3, 4, 5]\n",
    "```\n"
   ]
  },
  {
   "cell_type": "code",
   "execution_count": null,
   "metadata": {},
   "outputs": [],
   "source": []
  },
  {
   "cell_type": "markdown",
   "metadata": {},
   "source": [
    " \n",
    "----\n",
    "\n",
    "## Zad 2\n",
    "---\n",
    " \n",
    "Zdefniuj zmienną przechowującą dowolną liczbę, a następnie użyj instrukcji warunkowej (if) do sprawdzenia, czy liczba jest parzysta i wyświetla komunikat \"Liczba jest parzysta\" lub \"Liczba jest nieparzysta\"."
   ]
  },
  {
   "cell_type": "code",
   "execution_count": null,
   "metadata": {},
   "outputs": [],
   "source": []
  },
  {
   "cell_type": "markdown",
   "metadata": {},
   "source": [
    " \n",
    "----\n",
    "\n",
    "## Zad 3\n",
    "---\n",
    "\n",
    "Napisz kod, który pyta użytkownika o wiek (używając funkcji wbudowanej input()). Kod powinien odpowiedzieć, czy osoba jest pełnoletnia czy nie."
   ]
  },
  {
   "cell_type": "code",
   "execution_count": null,
   "metadata": {},
   "outputs": [],
   "source": []
  },
  {
   "cell_type": "markdown",
   "metadata": {},
   "source": [
    " \n",
    "----\n",
    "\n",
    "## Zad 4\n",
    "---\n",
    "\n",
    "Napisz kod, który sprawdza, czy wprowadzone przez użytkownika hasło spełnia określone wymagania, takie jak długość co najmniej 8 znaków i zawieranie przynajmniej jednej wielkiej litery. \n",
    "\n",
    "Dodatkowo: Jeżeli hasło nie spełnia wymagań, wyświetl w komunikacie co jest błędne."
   ]
  },
  {
   "cell_type": "code",
   "execution_count": null,
   "metadata": {},
   "outputs": [],
   "source": []
  },
  {
   "cell_type": "markdown",
   "metadata": {},
   "source": [
    "\n",
    "----\n",
    "\n",
    "## Zad 5\n",
    "---\n",
    "\n",
    "Stwórz listę zawierającą różne elementy, w tym powtórzenia. Napisz funkcję, która zlicza wystąpienia każdego elementu i zwraca słownik, gdzie klucze to elementy, a wartości to liczba ich wystąpień.\n",
    "\n",
    "\n",
    "```\n",
    "lista_z_powtorzeniami = [1, 2, 3, 1, 2, 4, 5, 3, 6, 7, 8, 4, 9, 10, 7]\n",
    "```"
   ]
  },
  {
   "cell_type": "code",
   "execution_count": null,
   "metadata": {},
   "outputs": [],
   "source": []
  },
  {
   "cell_type": "markdown",
   "metadata": {
    "slideshow": {
     "slide_type": "slide"
    }
   },
   "source": [
    "\n",
    "----\n",
    "\n",
    "## Zad 6\n",
    "---\n",
    "\n",
    "Zaprogramuj kod, która na podstawie argumentów imię, pesel, stanowisko, doda do słownika ludzie, kolejne osoby. Każda kolejna osoba również powinna być słownikiem przechowującym informacje: imię, wiek i stanowisko. Jeżeli osoba nie wprowadzi wartości dla argumentu stanowisko, ustaw domyślną wartość „Bezrobotny”"
   ]
  },
  {
   "cell_type": "code",
   "execution_count": null,
   "metadata": {},
   "outputs": [],
   "source": []
  },
  {
   "cell_type": "markdown",
   "metadata": {
    "slideshow": {
     "slide_type": "slide"
    }
   },
   "source": [
    "\n",
    "----\n",
    "\n",
    "## Zad 7\n",
    "---\n",
    "\n",
    "Napisz kod, która pobiera dwie liczby, a następnie zwraca różnicę pomiędzy największą a najmniejszą wartością z podanych argumentów. Jeżeli użytkownik poda mniej niż dwa argumenty zwróć <i>None</i>\n"
   ]
  },
  {
   "cell_type": "code",
   "execution_count": null,
   "metadata": {},
   "outputs": [],
   "source": []
  },
  {
   "cell_type": "markdown",
   "metadata": {},
   "source": [
    "\n",
    "----\n",
    "\n",
    "## Zad 8\n",
    "---\n",
    "\n",
    "Napisz skrypt, który:\n",
    "\n",
    "- losuje liczbę całkowitą mniejszą od 100 (`help(random.randint)`)\n",
    "- pyta użytkownika o odgadnięcie liczby\n",
    "- informuje użytkownika, czy podana przez niego liczba jest:\n",
    "    - dużo mniejsza (różnica > 50)\n",
    "    - mniejsza (różnica > 10)\n",
    "    - trochę mniejsza\n",
    "    - trochę większa\n",
    "    - większa (różnica > 10)\n",
    "    - dużo większa (różnica > 50)\n",
    "- program się kończy, gdy użytkownik odgadnie wylosowaną liczbę"
   ]
  },
  {
   "cell_type": "code",
   "execution_count": null,
   "metadata": {},
   "outputs": [],
   "source": []
  },
  {
   "cell_type": "markdown",
   "metadata": {
    "slideshow": {
     "slide_type": "slide"
    }
   },
   "source": [
    "\n",
    "----\n",
    "\n",
    "## Zad 9\n",
    "---\n",
    "\n",
    "Napisz kod, która jako argument przyjmuje liczbę n i zwraca słownik, którego kluczami są liczby całkowite od 1 do n, a wartościami listy ze wszystkimi dzielnikami danej liczby. \n"
   ]
  },
  {
   "cell_type": "code",
   "execution_count": null,
   "metadata": {},
   "outputs": [],
   "source": []
  },
  {
   "cell_type": "markdown",
   "metadata": {},
   "source": [
    "\n",
    "----\n",
    "\n",
    "## Zad 10\n",
    "---\n",
    "\n",
    "Napisz w pętli sprawdzenie czy dowolna liczba jest liczbą pierwszą. Rozwiąż dla dowolnego przykładu oraz liczby 407 "
   ]
  },
  {
   "cell_type": "code",
   "execution_count": null,
   "metadata": {},
   "outputs": [],
   "source": []
  },
  {
   "cell_type": "markdown",
   "metadata": {},
   "source": [
    "\n",
    "----\n",
    "\n",
    "## Zad 11\n",
    "---\n",
    "\n",
    "\n",
    "Zadanie: System ocen studenckich\n",
    "\n",
    "- Stwórz listę zawierającą oceny studenckie w postaci ciągów znaków, gdzie każdy element listy ma format \"Imię Nazwisko: Ocena\" (np. \"Anna Kowalska: 4.5\").\n",
    "\n",
    "- Napisz funkcję srednia_ocen, która przyjmuje listę ocen oraz imię i nazwisko studenta jako argumenty. Funkcja powinna zwracać średnią ocen danego studenta, a jeśli student nie istnieje, powinna zwrócić odpowiedni komunikat.\n",
    "\n",
    "- Stwórz nową listę, w której oceny studentów są przechowywane jako liczby zmiennoprzecinkowe.\n",
    "\n",
    "- Oblicz ogólną średnią ocen wszystkich studentów.\n",
    "\n",
    "- Napisz funkcję zaokraglenie_oceny, która przyjmuje ocenę jako argument i zwraca tę ocenę zaokrągloną do najbliższej całkowitej liczby.\n",
    "\n",
    "- Utwórz nową listę zawierającą oceny wszystkich studentów, gdzie oceny są zaokrąglone.\n",
    "\n",
    "- Oblicz, ile studentów zdało egzamin (ocena 3.0 lub wyższa) i ile nie zdało.\n",
    "\n",
    "- Na podstawie liczby studentów zdałych i niezdałych, utwórz listy zawierające imiona i nazwiska tych studentów.\n",
    "\n",
    "- Wydrukuj na ekranie informacje o studentach, którzy zaliczyli egzamin w formie: \"Imię Nazwisko zdał(a) egzamin\".\n",
    "\n",
    "- Stwórz funkcję ocena_zaliczenia, która przyjmuje ocenę jako argument i zwraca \"Zaliczone\", jeśli ocena jest 3.0 lub wyższa, a w przeciwnym razie \"Nie zaliczone\".\n",
    "\n",
    "\n",
    "```\n",
    "oceny_studenci = [\"Anna Kowalska: 4.5\", \"Jan Nowak: 3.0\", \"Marta Wiśniewska: 5.0\", \"Adam Nowicki: 2.5\"]\n",
    "```\n",
    "\n"
   ]
  },
  {
   "cell_type": "code",
   "execution_count": null,
   "metadata": {},
   "outputs": [],
   "source": []
  },
  {
   "cell_type": "markdown",
   "metadata": {},
   "source": [
    "\n",
    "----\n",
    "\n",
    "## Wyniki zadań\n",
    "---\n",
    "\n",
    "<b>Zad 1</b>\n",
    "\n",
    "```\n",
    "1\n",
    "2\n",
    "3\n",
    "4\n",
    "5\n",
    "```\n",
    "\n",
    "<b>Zad 2</b>\n",
    "\n",
    "*Np.* dla liczby 10: Liczba jest parzysta.\n",
    "\n",
    "<b>Zad 4</b>\n",
    "\n",
    "*Np.* \n",
    "\n",
    "```\n",
    "Podaj hasło: Szkolenie2023\n",
    "Hasło spełnia wymagania.\n",
    "```\n",
    "\n",
    "<b>Zad 5</b>\n",
    "\n",
    "- Lista z elementami: [1, 2, 3, 1, 2, 4, 5, 3, 6, 7, 8, 4, 9, 10, 7]\n",
    "- Zliczenia elementów: {1: 2, 2: 2, 3: 2, 4: 2, 5: 1, 6: 1, 7: 2, 8: 1, 9: 1, 10: 1}\n",
    "\n",
    "<b>Zad 6</b>\n",
    "\n",
    "*Np.*\n",
    "\n",
    "```\n",
    "{'imię': 'Jerzy', 'wiek': 26, 'stanowisko': 'asystent'}\n",
    "{'imię': 'Agata', 'wiek': 31, 'stanowisko': 'adiunkt'}\n",
    "```\n",
    "\n",
    "<b>Zad 7</b>\n",
    "\n",
    "*Np.*\n",
    "\n",
    "```\n",
    "Podaj pierwszą liczbę: 12\n",
    "Podaj drugą liczbę: 3\n",
    "Różnica między największą a najmniejszą wartością to: 9\n",
    "```\n",
    "\n",
    "<b>Zad 8</b>\n",
    "\n",
    "*Np.*\n",
    "\n",
    "```\n",
    "Odgadnij liczbę (0-99): 50\n",
    "Twoja liczba jest trochę większa.\n",
    "Odgadnij liczbę (0-99): 45\n",
    "Twoja liczba jest trochę mniejsza.\n",
    "Odgadnij liczbę (0-99): 47\n",
    "Twoja liczba jest trochę mniejsza.\n",
    "Odgadnij liczbę (0-99): 49\n",
    "Brawo! Zgadłeś liczbę!\n",
    "```\n",
    "\n",
    "<b>Zad 9</b>\n",
    "\n",
    "*Np.*\n",
    "\n",
    "```\n",
    "Podaj liczbę całkowitą n: 5\n",
    "{1: [1], 2: [1, 2], 3: [1, 3], 4: [1, 2, 4], 5: [1, 5]}\n",
    "```\n",
    "\n",
    "<b>Zad 10</b>\n",
    "\n",
    "*Np.*\n",
    "\n",
    "```\n",
    "407 nie jest liczbą pierwszą.\n",
    "Podaj liczbę do sprawdzenia: 11\n",
    "11 jest liczbą pierwszą.\n",
    "```\n",
    "\n",
    "<b>Zad 11</b>\n",
    "\n",
    "```\n",
    "Średnia ogólna ocen: 3.75\n",
    "Liczba zaliczonych studentów: 3\n",
    "Liczba niezaliczonych studentów: 1\n",
    "Lista zaliczonych studentów: ['Anna Kowalska', 'Jan Nowak', 'Marta Wiśniewska']\n",
    "Lista niezaliczonych studentów: ['Adam Nowicki']\n",
    "```\n"
   ]
  }
 ],
 "metadata": {
  "anaconda-cloud": {},
  "kernelspec": {
   "display_name": "Python 3 (ipykernel)",
   "language": "python",
   "name": "python3"
  },
  "language_info": {
   "codemirror_mode": {
    "name": "ipython",
    "version": 3
   },
   "file_extension": ".py",
   "mimetype": "text/x-python",
   "name": "python",
   "nbconvert_exporter": "python",
   "pygments_lexer": "ipython3",
   "version": "3.9.12"
  },
  "rise": {
   "enable_chalkboard": true,
   "scroll": true
  }
 },
 "nbformat": 4,
 "nbformat_minor": 1
}
