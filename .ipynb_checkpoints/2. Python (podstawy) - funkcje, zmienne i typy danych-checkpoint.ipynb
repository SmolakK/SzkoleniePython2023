{
 "cells": [
  {
   "cell_type": "markdown",
   "id": "ea6556e6",
   "metadata": {},
   "source": [
    "# 2. Python - funkcje, zmienne i typy danych\n",
    "\n",
    "Rozpoczynamy od podstaw Pythona.\n",
    "\n",
    "Najpierw jednak musicie wiedzieć, że Python jest <b> językiem obiektowym </b> to znaczy, że nastawiony jest pisanie kodu w stylu, w którym rzeczywistość reprezentujemy jako <b> obiekty </b>. Z założenia mają one reprezentować elementy świata rzeczywistego.\n",
    "\n",
    "<b> Na przykład </b>:\n",
    "\n",
    "Jeśli piszemy kod obsługujący konta bankowe w banku, stworzymy <b> obiekty które reprezentują konta bankowe </b> i które będą miały własne cechy jak:\n",
    "    \n",
    "    saldo\n",
    "    nazwa klienta\n",
    "    ...\n",
    "\n",
    "\n",
    "Na tym wprowadzeniu tego jeszcze nie zaprezentujemy, jednakże warto o tym pamiętać. Zwłaszcza, gdy będziecie Państwo kontynuować naukę we własnym zakresie."
   ]
  },
  {
   "cell_type": "markdown",
   "id": "56bbeb86",
   "metadata": {},
   "source": [
    "# Deklaracja zmiennej"
   ]
  },
  {
   "cell_type": "code",
   "execution_count": 1,
   "id": "fbd79afb",
   "metadata": {},
   "outputs": [],
   "source": [
    "x = "
   ]
  },
  {
   "cell_type": "markdown",
   "id": "dd0bdc11",
   "metadata": {},
   "source": [
    "Sprawdźmy co znajduje się pod x:"
   ]
  },
  {
   "cell_type": "code",
   "execution_count": 2,
   "id": "448aec6e",
   "metadata": {},
   "outputs": [
    {
     "data": {
      "text/plain": [
       "2"
      ]
     },
     "execution_count": 2,
     "metadata": {},
     "output_type": "execute_result"
    }
   ],
   "source": []
  },
  {
   "cell_type": "markdown",
   "id": "86867ba9",
   "metadata": {},
   "source": [
    "Teraz zmieńmy tę wartość na coś innego:"
   ]
  },
  {
   "cell_type": "code",
   "execution_count": null,
   "id": "7d58930b",
   "metadata": {},
   "outputs": [],
   "source": [
    "x ="
   ]
  },
  {
   "cell_type": "markdown",
   "id": "1d72b8ad",
   "metadata": {},
   "source": [
    "Sprawdźmy wartość:"
   ]
  },
  {
   "cell_type": "code",
   "execution_count": null,
   "id": "391ee955",
   "metadata": {},
   "outputs": [],
   "source": []
  },
  {
   "cell_type": "markdown",
   "id": "624548d1",
   "metadata": {},
   "source": [
    "## Funkcje oraz Metody\n",
    "\n",
    "Funkcje i metody to fragmenty kodu (zapisane gdzieś w innym miejscu), które mają jakąś funkcjonalność, tzn. wykonują ten kod w tle dla nas by dostarczyć konkretny wynik.\n",
    "\n",
    "Żeby wywołać funkcję, należy wykonać poniższą operację\n",
    "\n",
    "<i><b>nazwa</b>(parametr_1,parametr_2,...,parametr_n)</i>\n",
    "\n",
    "Wyróżniamy <b>funkcje wbudowane</b> i <b> funkcje zdefiniowane przez użytkownika</b>.\n",
    "\n",
    "Funkcje wbudowane są dostepne poprzez wywołanie ich nazwy wprost w kodzie (dostępne tu: https://docs.python.org/2/library/functions.html).\n",
    "\n",
    "Inne funkcje możemy importować poprzez biblioteki programistyczne - rozszerzenia kodu.\n",
    "\n",
    "Istnieją również funkcje definiowane przez użytkownika, dzięki którym możemy tworzyć własne funkcjonalności"
   ]
  },
  {
   "cell_type": "markdown",
   "id": "52bc1f09",
   "metadata": {},
   "source": [
    "## Pierwsza funkcja\n",
    "\n",
    "Pierwszą funkcją którą użyjemy będzie print(), jest to funkcja służąca do wyświetalnia <b> reprezentacji </b> obiektu"
   ]
  },
  {
   "cell_type": "code",
   "execution_count": null,
   "id": "e70a03a9",
   "metadata": {},
   "outputs": [],
   "source": [
    "print(x)"
   ]
  },
  {
   "cell_type": "markdown",
   "id": "5a7b44bf",
   "metadata": {},
   "source": [
    "# Typy zmiennych\n",
    "\n",
    "To są typy wbudowane - klasy wbudowane\n",
    "\n",
    "Liczby\n",
    "    \n",
    "    Całkowite\n",
    "    Zmiennoprzecinkowe\n",
    "\n",
    "Inne typy:\n",
    "\n",
    "    Typ tekstowy\n",
    "    Typ logiczny\n",
    "\n"
   ]
  },
  {
   "cell_type": "markdown",
   "id": "c131d8b9",
   "metadata": {},
   "source": [
    "<b> Liczba całkowita </b> (int)"
   ]
  },
  {
   "cell_type": "code",
   "execution_count": null,
   "id": "c1df355a",
   "metadata": {},
   "outputs": [],
   "source": [
    "x = 3"
   ]
  },
  {
   "cell_type": "markdown",
   "id": "9bf4d296",
   "metadata": {},
   "source": [
    "## Druga funkcja"
   ]
  },
  {
   "cell_type": "code",
   "execution_count": 3,
   "id": "e667484e",
   "metadata": {},
   "outputs": [
    {
     "data": {
      "text/plain": [
       "int"
      ]
     },
     "execution_count": 3,
     "metadata": {},
     "output_type": "execute_result"
    }
   ],
   "source": [
    "type(x)"
   ]
  },
  {
   "cell_type": "markdown",
   "id": "495ca625",
   "metadata": {},
   "source": [
    "<b> Zmiennoprzecinkowa </b> (float)"
   ]
  },
  {
   "cell_type": "code",
   "execution_count": null,
   "id": "e35e524e",
   "metadata": {},
   "outputs": [],
   "source": []
  },
  {
   "cell_type": "markdown",
   "id": "3a73ab87",
   "metadata": {},
   "source": [
    "<b> Tekst </b> (str)"
   ]
  },
  {
   "cell_type": "code",
   "execution_count": null,
   "id": "7a729d10",
   "metadata": {},
   "outputs": [],
   "source": [
    "x = \"\""
   ]
  },
  {
   "cell_type": "markdown",
   "id": "1ffef5f6",
   "metadata": {},
   "source": [
    "<b> Typ logiczny</b> (bool)"
   ]
  },
  {
   "cell_type": "code",
   "execution_count": 11,
   "id": "86d8b13a",
   "metadata": {
    "scrolled": true
   },
   "outputs": [
    {
     "data": {
      "text/plain": [
       "False"
      ]
     },
     "execution_count": 11,
     "metadata": {},
     "output_type": "execute_result"
    }
   ],
   "source": [
    "x = False"
   ]
  },
  {
   "cell_type": "markdown",
   "id": "d358de67",
   "metadata": {
    "slideshow": {
     "slide_type": "slide"
    }
   },
   "source": [
    "<h1>Operatory binarne</h1>\n",
    "\n",
    "Podstawowe operacje są zdefiniowane w Pythonie bez potrzeby korzystania z zewnętrznych bibliotek\n",
    "\n",
    "-----------------\n",
    "\n",
    "    a + b\n",
    "    a - b\n",
    "    a * b\n",
    "    a / b\n",
    "    a // b (usuwa część po przecinku - floor-divide)\n",
    "    a ** b\n",
    "    a % b"
   ]
  },
  {
   "cell_type": "markdown",
   "id": "9c546958",
   "metadata": {},
   "source": [
    "Suma typów liczbowych"
   ]
  },
  {
   "cell_type": "code",
   "execution_count": null,
   "id": "8c7e2ecb",
   "metadata": {},
   "outputs": [],
   "source": []
  },
  {
   "cell_type": "code",
   "execution_count": null,
   "id": "100bb11c",
   "metadata": {},
   "outputs": [],
   "source": []
  },
  {
   "cell_type": "markdown",
   "id": "ec359d45",
   "metadata": {},
   "source": [
    "Różnica typów liczbowych"
   ]
  },
  {
   "cell_type": "code",
   "execution_count": null,
   "id": "bd070e4c",
   "metadata": {},
   "outputs": [],
   "source": []
  },
  {
   "cell_type": "code",
   "execution_count": null,
   "id": "d4cc695a",
   "metadata": {},
   "outputs": [],
   "source": []
  },
  {
   "cell_type": "markdown",
   "id": "f4ddb6ff",
   "metadata": {},
   "source": [
    "Mnożenie typów liczbowych"
   ]
  },
  {
   "cell_type": "code",
   "execution_count": null,
   "id": "ae151456",
   "metadata": {},
   "outputs": [],
   "source": []
  },
  {
   "cell_type": "code",
   "execution_count": null,
   "id": "10d35080",
   "metadata": {},
   "outputs": [],
   "source": []
  },
  {
   "cell_type": "markdown",
   "id": "37026fce",
   "metadata": {},
   "source": [
    "Dzielenie typów liczbowych"
   ]
  },
  {
   "cell_type": "code",
   "execution_count": null,
   "id": "358ff182",
   "metadata": {},
   "outputs": [],
   "source": []
  },
  {
   "cell_type": "code",
   "execution_count": null,
   "id": "229d3019",
   "metadata": {},
   "outputs": [],
   "source": []
  },
  {
   "cell_type": "markdown",
   "id": "e633012d",
   "metadata": {},
   "source": [
    "Floor-divide"
   ]
  },
  {
   "cell_type": "code",
   "execution_count": null,
   "id": "87654131",
   "metadata": {},
   "outputs": [],
   "source": []
  },
  {
   "cell_type": "code",
   "execution_count": null,
   "id": "6203dccb",
   "metadata": {},
   "outputs": [],
   "source": []
  },
  {
   "cell_type": "markdown",
   "id": "84811400",
   "metadata": {},
   "source": [
    "**"
   ]
  },
  {
   "cell_type": "code",
   "execution_count": null,
   "id": "39b86f3b",
   "metadata": {},
   "outputs": [],
   "source": []
  },
  {
   "cell_type": "markdown",
   "id": "4dfb3ba7",
   "metadata": {},
   "source": [
    "Modulo"
   ]
  },
  {
   "cell_type": "code",
   "execution_count": null,
   "id": "3d731a2e",
   "metadata": {},
   "outputs": [],
   "source": []
  },
  {
   "cell_type": "markdown",
   "id": "3ae7ea83",
   "metadata": {},
   "source": [
    "Operatory binarne na tekście"
   ]
  },
  {
   "cell_type": "code",
   "execution_count": null,
   "id": "6f839cd1",
   "metadata": {},
   "outputs": [],
   "source": []
  },
  {
   "cell_type": "markdown",
   "id": "0ffa505e",
   "metadata": {},
   "source": [
    "### Ćwiczenie:\n",
    "\n",
    "Jak sprawdzić czy 528 jest podzielne przez 3?"
   ]
  },
  {
   "cell_type": "code",
   "execution_count": null,
   "id": "7edfa463",
   "metadata": {},
   "outputs": [],
   "source": []
  },
  {
   "cell_type": "markdown",
   "id": "9e0f93c4",
   "metadata": {},
   "source": [
    "### Ćwiczenie:\n",
    "Używając tylko opeartorów binarnych na tekście osiągnij poniższy wzorzec używając symboli sym1 i sym2\n",
    "\n",
    "    **__****__****__**"
   ]
  },
  {
   "cell_type": "code",
   "execution_count": 14,
   "id": "56535a37",
   "metadata": {
    "scrolled": true
   },
   "outputs": [],
   "source": [
    "sym1 = \"_\"\n",
    "sym2 = \"*\""
   ]
  },
  {
   "cell_type": "code",
   "execution_count": null,
   "id": "710b74b4",
   "metadata": {},
   "outputs": [],
   "source": []
  },
  {
   "cell_type": "markdown",
   "id": "282fca53",
   "metadata": {},
   "source": [
    "### Operatory logiczne\n",
    "\n",
    "    a == b\n",
    "    a != b\n",
    "    a <= b; a < b\n",
    "    a is b\n",
    "    a is not b"
   ]
  },
  {
   "cell_type": "markdown",
   "id": "17940ecf",
   "metadata": {},
   "source": [
    "Równość"
   ]
  },
  {
   "cell_type": "code",
   "execution_count": null,
   "id": "9a6a8dcb",
   "metadata": {},
   "outputs": [],
   "source": []
  },
  {
   "cell_type": "markdown",
   "id": "6ad3c0b5",
   "metadata": {},
   "source": [
    "Nierówność"
   ]
  },
  {
   "cell_type": "code",
   "execution_count": null,
   "id": "b8853186",
   "metadata": {},
   "outputs": [],
   "source": []
  },
  {
   "cell_type": "code",
   "execution_count": null,
   "id": "32a2da6d",
   "metadata": {},
   "outputs": [],
   "source": []
  },
  {
   "cell_type": "code",
   "execution_count": null,
   "id": "e1207940",
   "metadata": {},
   "outputs": [],
   "source": []
  },
  {
   "cell_type": "markdown",
   "id": "21ebae5a",
   "metadata": {},
   "source": [
    "### Ćwiczenie:\n",
    "Jeszcze raz, sprawdźmy czy 528 jest podzielne przez 3. Tym razem wynikiem ma być True lub False"
   ]
  },
  {
   "cell_type": "code",
   "execution_count": null,
   "id": "90fe2e36",
   "metadata": {},
   "outputs": [],
   "source": []
  },
  {
   "cell_type": "markdown",
   "id": "7c4ef320",
   "metadata": {},
   "source": [
    "### Ćwiczenie:\n",
    "\n",
    "Sprawdźmy nierówność z dwiema zmiennymi zawierającymi znaki tekstowe. Spróbujmy wykorzystać duże i małe litery oraz znaki specjalne. Jakie są wnioski?"
   ]
  },
  {
   "cell_type": "code",
   "execution_count": null,
   "id": "041df519",
   "metadata": {},
   "outputs": [],
   "source": []
  },
  {
   "cell_type": "markdown",
   "id": "880c612f",
   "metadata": {
    "slideshow": {
     "slide_type": "slide"
    }
   },
   "source": [
    "<h1> Błędy </h1>\n",
    "\n",
    "Gdy pojawi się w kodzie błąd, warto spojrzeć na to co go spowodowało, by znaleźć przyczynę"
   ]
  },
  {
   "cell_type": "code",
   "execution_count": 16,
   "id": "8012a182",
   "metadata": {},
   "outputs": [
    {
     "ename": "TypeError",
     "evalue": "can't multiply sequence by non-int of type 'str'",
     "output_type": "error",
     "traceback": [
      "\u001b[1;31m---------------------------------------------------------------------------\u001b[0m",
      "\u001b[1;31mTypeError\u001b[0m                                 Traceback (most recent call last)",
      "Input \u001b[1;32mIn [16]\u001b[0m, in \u001b[0;36m<cell line: 1>\u001b[1;34m()\u001b[0m\n\u001b[1;32m----> 1\u001b[0m \u001b[38;5;124;43m\"\u001b[39;49m\u001b[38;5;124;43mA\u001b[39;49m\u001b[38;5;124;43m\"\u001b[39;49m\u001b[43m \u001b[49m\u001b[38;5;241;43m*\u001b[39;49m\u001b[43m \u001b[49m\u001b[38;5;124;43m\"\u001b[39;49m\u001b[38;5;124;43mB\u001b[39;49m\u001b[38;5;124;43m\"\u001b[39;49m\n",
      "\u001b[1;31mTypeError\u001b[0m: can't multiply sequence by non-int of type 'str'"
     ]
    }
   ],
   "source": [
    "\"A\" * \"B\""
   ]
  },
  {
   "cell_type": "markdown",
   "id": "d87dc6dd",
   "metadata": {
    "slideshow": {
     "slide_type": "slide"
    }
   },
   "source": [
    "<h1> Importowanie bibliotek </h1>\n",
    "\n",
    "Biblioteki zawierają dodatkowe funkcjonalności, klasy i typy danych.\n",
    "Biblioteki można importować na 3 sposoby:"
   ]
  },
  {
   "cell_type": "markdown",
   "id": "3662c455",
   "metadata": {},
   "source": [
    "Cała biblioteka"
   ]
  },
  {
   "cell_type": "code",
   "execution_count": null,
   "id": "6b286b81",
   "metadata": {},
   "outputs": [],
   "source": []
  },
  {
   "cell_type": "markdown",
   "id": "a9d6daff",
   "metadata": {},
   "source": [
    "Wszystkie funkcje"
   ]
  },
  {
   "cell_type": "code",
   "execution_count": null,
   "id": "20911209",
   "metadata": {},
   "outputs": [],
   "source": []
  },
  {
   "cell_type": "markdown",
   "id": "53e7b786",
   "metadata": {},
   "source": [
    "Jedna funkcja z biblioteki"
   ]
  },
  {
   "cell_type": "code",
   "execution_count": null,
   "id": "0946a591",
   "metadata": {},
   "outputs": [],
   "source": []
  },
  {
   "cell_type": "markdown",
   "id": "719bb89d",
   "metadata": {},
   "source": [
    "## Ćwiczenie\n",
    "Zaimportujmy pierwiastek z biblioteki math i użyjmy go do operacji"
   ]
  },
  {
   "cell_type": "code",
   "execution_count": 51,
   "id": "a1391c3c",
   "metadata": {
    "scrolled": true
   },
   "outputs": [
    {
     "data": {
      "text/plain": [
       "2.0"
      ]
     },
     "execution_count": 51,
     "metadata": {},
     "output_type": "execute_result"
    }
   ],
   "source": []
  },
  {
   "cell_type": "markdown",
   "id": "2f577ff5",
   "metadata": {},
   "source": [
    "### Gdy używamy nowej, nieznanej nam biblioteki - kluczowe jest poznanie jej dokumentacji\n",
    "\n",
    "Dokumentacja bilbioteki math: https://docs.python.org/2/library/math.html"
   ]
  },
  {
   "cell_type": "code",
   "execution_count": null,
   "id": "7eaf53bf",
   "metadata": {},
   "outputs": [],
   "source": []
  },
  {
   "cell_type": "markdown",
   "id": "5c84b4e3",
   "metadata": {},
   "source": [
    "### Jak sprwadzić czy potrzebną nam funkcjonalność już ktoś kiedyś napisał?\n",
    "\n",
    "Najlepiej użyć wyszukiwarki wpisując słowa kluczowe:\n",
    "\n",
    "<i> Nazwa naszej funkcjnalności </i> + \"Python\"\n",
    "\n",
    "ewentualnie możemy dopisać \"library\", żeby być pewnym że wyniki zwrócą nam bibliotekę"
   ]
  },
  {
   "cell_type": "markdown",
   "id": "aa749c8f",
   "metadata": {},
   "source": [
    "# Komentowanie kodu\n",
    "\n",
    "* Komentujemy z wykorzystaniem pełnych zdań\n",
    "* Upewnij się, że komentarz jest zrozumiały dla każdego, kto kiedykolwiek miałby przeczytać kod"
   ]
  },
  {
   "cell_type": "markdown",
   "id": "ec759877",
   "metadata": {},
   "source": [
    "## Komentarze blokowe\n",
    "\n",
    "Wplatane za pomocą znaku \"#\" na tym samym poziomie, do którego się odnoszą np:"
   ]
  },
  {
   "cell_type": "code",
   "execution_count": 18,
   "id": "d1036200",
   "metadata": {},
   "outputs": [],
   "source": [
    "# komentarz blokowy\n",
    "\n",
    "a = 2\n",
    "b = 2\n",
    "a + b # dodajemy 2 do 2"
   ]
  },
  {
   "cell_type": "markdown",
   "id": "73dd8a50",
   "metadata": {},
   "source": [
    "### Komentarze \"docstring\"\n",
    "\n",
    "Wpisywane za pomocą potrójnego cudzysłowu (\"\"\"), używane do dokumentowania funkcji i klas"
   ]
  },
  {
   "cell_type": "code",
   "execution_count": null,
   "id": "a8a11b68",
   "metadata": {},
   "outputs": [],
   "source": [
    "# Przykład funkcji z komentarzem docstring\n",
    "def funkcja(parametr1, parametr2):\n",
    "    \"\"\"Komentarz opisujący funkcję\n",
    "    Opis parametrów\n",
    "    Opis wyjścia\n",
    "    \"\"\""
   ]
  }
 ],
 "metadata": {
  "kernelspec": {
   "display_name": "Python 3 (ipykernel)",
   "language": "python",
   "name": "python3"
  },
  "language_info": {
   "codemirror_mode": {
    "name": "ipython",
    "version": 3
   },
   "file_extension": ".py",
   "mimetype": "text/x-python",
   "name": "python",
   "nbconvert_exporter": "python",
   "pygments_lexer": "ipython3",
   "version": "3.9.12"
  }
 },
 "nbformat": 4,
 "nbformat_minor": 5
}
