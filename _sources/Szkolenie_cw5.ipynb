{
 "cells": [
  {
   "cell_type": "markdown",
   "metadata": {
    "slideshow": {
     "slide_type": "slide"
    }
   },
   "source": [
    "\n",
    "----\n",
    "\n",
    "# Ćwiczenia 5. Funkcje, definicja funkcji, wyjątki - ćwiczenia\n",
    "---\n"
   ]
  },
  {
   "cell_type": "markdown",
   "metadata": {
    "slideshow": {
     "slide_type": "slide"
    }
   },
   "source": [
    "\n",
    "----\n",
    "\n",
    "## Zad 1\n",
    "---\n",
    "\n",
    "Stwórz funkcję, która przyjmuje listę liczb i zwraca ich średnią arytmetyczną."
   ]
  },
  {
   "cell_type": "code",
   "execution_count": null,
   "metadata": {},
   "outputs": [],
   "source": []
  },
  {
   "cell_type": "markdown",
   "metadata": {
    "slideshow": {
     "slide_type": "slide"
    }
   },
   "source": [
    "\n",
    "----\n",
    "\n",
    "## Zad 2\n",
    "---\n",
    "\n",
    "Napisz funkcję, która przyjmuje dwie liczby i zwraca pierwszą liczbę podniesioną do potęgi drugiej."
   ]
  },
  {
   "cell_type": "code",
   "execution_count": null,
   "metadata": {},
   "outputs": [],
   "source": []
  },
  {
   "cell_type": "markdown",
   "metadata": {
    "slideshow": {
     "slide_type": "slide"
    }
   },
   "source": [
    "\n",
    "----\n",
    "\n",
    "## Zad 3\n",
    "---\n",
    "\n",
    "Stwórz funkcję, która obsługuje błąd dzielenia przez zero i zwraca komunikat o błędzie."
   ]
  },
  {
   "cell_type": "code",
   "execution_count": null,
   "metadata": {},
   "outputs": [],
   "source": []
  },
  {
   "cell_type": "markdown",
   "metadata": {
    "slideshow": {
     "slide_type": "slide"
    }
   },
   "source": [
    "\n",
    "----\n",
    "\n",
    "## Zad 4\n",
    "---\n",
    "Napisz funkcję, która sprawdza, czy dany tekst jest palindromem. Sprawdź kod na tekście:\n",
    "\n",
    "tekst = \"może jutro ta dama da tortu jeżom\""
   ]
  },
  {
   "cell_type": "code",
   "execution_count": null,
   "metadata": {},
   "outputs": [],
   "source": []
  },
  {
   "cell_type": "markdown",
   "metadata": {},
   "source": [
    "\n",
    "----\n",
    "\n",
    "## Zad 5\n",
    "---\n",
    "\n",
    "Napisz funkcję policz_litery(tekst), która przyjmuje tekst (ciąg znaków) i zwraca słownik, w którym kluczami są poszczególne litery, a wartościami liczba ich wystąpień w tekście. Ignoruj wielkość liter, tj. traktuj \"A\" i \"a\" jako to samo."
   ]
  },
  {
   "cell_type": "code",
   "execution_count": null,
   "metadata": {},
   "outputs": [],
   "source": []
  },
  {
   "cell_type": "markdown",
   "metadata": {
    "slideshow": {
     "slide_type": "slide"
    }
   },
   "source": [
    "\n",
    "----\n",
    "\n",
    "## Zad 6\n",
    "---\n",
    "\n",
    "Napisz program rozwiązujący równanie kwadratowe (ax^2 + bx + c = 0) dla dowolnych a, b i c."
   ]
  },
  {
   "cell_type": "code",
   "execution_count": null,
   "metadata": {},
   "outputs": [],
   "source": []
  },
  {
   "cell_type": "markdown",
   "metadata": {
    "slideshow": {
     "slide_type": "slide"
    }
   },
   "source": [
    "\n",
    "----\n",
    "\n",
    "## Zad 7\n",
    "---\n",
    "\n",
    "Stwórz funkcję, która odwraca kolejność elementów w liście bez użycia funkcji reverse lub [::-1]."
   ]
  },
  {
   "cell_type": "code",
   "execution_count": null,
   "metadata": {},
   "outputs": [],
   "source": []
  },
  {
   "cell_type": "markdown",
   "metadata": {
    "slideshow": {
     "slide_type": "slide"
    }
   },
   "source": [
    "\n",
    "----\n",
    "\n",
    "## Zad 8\n",
    "---\n",
    "\n",
    "Napisz funkcję w języku Python, która przyjmuje ciąg znaków i liczy liczbę wielkich i małych liter.\n",
    "Przykładowy ciąg znaków: 'Ala ma kota, który nazywa się Rudy Wąsik'.\n"
   ]
  },
  {
   "cell_type": "code",
   "execution_count": null,
   "metadata": {},
   "outputs": [],
   "source": []
  },
  {
   "cell_type": "markdown",
   "metadata": {
    "slideshow": {
     "slide_type": "slide"
    }
   },
   "source": [
    "\n",
    "----\n",
    "\n",
    "## Zad 9\n",
    "---\n",
    "Zadanie: Konwerter jednostek\n",
    "Napisz funkcję, która konwertuje jednostki (np. mile na kilometry, stopnie Celsjusza na Fahrenheita).\n",
    "Stwórz pętlę, w której użytkownik wybiera rodzaj konwersji i podaje wartość do przeliczenia.\n"
   ]
  },
  {
   "cell_type": "code",
   "execution_count": null,
   "metadata": {},
   "outputs": [],
   "source": []
  },
  {
   "cell_type": "markdown",
   "metadata": {
    "slideshow": {
     "slide_type": "slide"
    }
   },
   "source": [
    "\n",
    "----\n",
    "\n",
    "## Zad 10\n",
    "---\n",
    "\n",
    "Stwórz funkcję, która przyjmuje dowolna ilość słowników jako argumenty, a następnie łączy je i zwraca jeden połączony słownik. Żaden element nie może zostać utracony. Do zduplikowanych kluczy dodaj przyrostek „_n”, gdzie n to numer powtórzenia. \n",
    "```\n",
    "dict1 = {‘Kasia’: 3, ‘Basia’: 3, ‘Zosia’: 10}\n",
    "dict2 = {‘Kasia’: 3}\n",
    "dict3 = {‘Kasia’: 6, ‘Zosia’: 8, ‘Paweł’: 4}\n",
    "\n",
    "polaczonySlownik = laczenieSlownikow(dict1,dict2,dict3)\n",
    "```\n",
    "Oczekiwana wartość zmiennej polaczonySlownik\n",
    "```\n",
    "{‘Kasia’: 3, ‘Basia’: 3, ‘Zosia’: 10, ‘Kasia_1’: 3, ‘Kasia_2’: 6, ‘Zosia_1’: 8, ‘Paweł’: 4}\n",
    "```"
   ]
  },
  {
   "cell_type": "code",
   "execution_count": null,
   "metadata": {},
   "outputs": [],
   "source": []
  },
  {
   "cell_type": "markdown",
   "metadata": {},
   "source": [
    "----\n",
    "\n",
    "## Zad 11\n",
    "---\n",
    "\n",
    "Napisz program symulujący koszyk zakupowy. Użytkownik powinien móc dodawać produkty do koszyka, a program powinien obliczać łączną wartość zamówienia. Wykorzystaj funkcję do obsługi koszyka."
   ]
  },
  {
   "cell_type": "code",
   "execution_count": null,
   "metadata": {},
   "outputs": [],
   "source": []
  },
  {
   "cell_type": "markdown",
   "metadata": {},
   "source": [
    "----\n",
    "\n",
    "## Zad 12\n",
    "---\n",
    "\n",
    "Napisz program pobierający od użytkownika liczbę całkowitą dodatnią. W przypadku podania liczby ujemnej lub zera, program prosi o podanie nowej wartości. Całość kończy się w momencie wprowadzenia liczby dodatniej."
   ]
  },
  {
   "cell_type": "code",
   "execution_count": null,
   "metadata": {},
   "outputs": [],
   "source": []
  },
  {
   "cell_type": "markdown",
   "metadata": {},
   "source": [
    "----\n",
    "\n",
    "## Zad 13\n",
    "---\n",
    "\n",
    "Napisz program wypisujący wszystkie kwadraty liczb naturalnych mniejsze od liczby podanej przez użytkownika."
   ]
  },
  {
   "cell_type": "code",
   "execution_count": null,
   "metadata": {},
   "outputs": [],
   "source": []
  },
  {
   "cell_type": "markdown",
   "metadata": {},
   "source": [
    "----\n",
    "\n",
    "## Zad 14\n",
    "---\n",
    "\n",
    "Za pomocą pętli *while* utwórz następujący wzór:\n",
    "\n",
    "```\n",
    "    *  \n",
    "   ***\n",
    "  *****\n",
    "   ***\n",
    "    *\n",
    "```"
   ]
  },
  {
   "cell_type": "code",
   "execution_count": null,
   "metadata": {},
   "outputs": [],
   "source": []
  },
  {
   "cell_type": "markdown",
   "metadata": {},
   "source": [
    "----\n",
    "\n",
    "## Zad 15\n",
    "---\n",
    "\n",
    "Napisz kod, który podaje indeks na którym zaczyna się słowo w ciągu znaków. Na przykład, sprawdzając gdzie zaczyna się słowo \"nie\" w ciągu znaków \"niebieski\" kod powinien zwrócić 0. Jeśli słowa nie ma, podaje indeks -1"
   ]
  },
  {
   "cell_type": "code",
   "execution_count": null,
   "metadata": {},
   "outputs": [],
   "source": []
  }
 ],
 "metadata": {
  "anaconda-cloud": {},
  "kernelspec": {
   "display_name": "Python 3 (ipykernel)",
   "language": "python",
   "name": "python3"
  },
  "language_info": {
   "codemirror_mode": {
    "name": "ipython",
    "version": 3
   },
   "file_extension": ".py",
   "mimetype": "text/x-python",
   "name": "python",
   "nbconvert_exporter": "python",
   "pygments_lexer": "ipython3",
   "version": "3.9.12"
  },
  "rise": {
   "enable_chalkboard": true,
   "scroll": true
  }
 },
 "nbformat": 4,
 "nbformat_minor": 1
}
