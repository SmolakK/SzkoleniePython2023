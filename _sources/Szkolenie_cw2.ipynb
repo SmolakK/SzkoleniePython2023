{
 "cells": [
  {
   "cell_type": "markdown",
   "metadata": {
    "slideshow": {
     "slide_type": "slide"
    }
   },
   "source": [
    "\n",
    "----\n",
    "\n",
    "# Ćwiczenia 2. Funkcje wbudowane, zmienne i typy danych\n",
    "--\n"
   ]
  },
  {
   "cell_type": "markdown",
   "metadata": {},
   "source": [
    "----\n",
    "\n",
    "## Zad 1\n",
    "---\n",
    "Stwórz dwie zmienne `a` o wartości `9` i `b` o wartości `3` i wyświetl wynik ich dodawania, odejmowania, mnożenia i dzielenia."
   ]
  },
  {
   "cell_type": "code",
   "execution_count": null,
   "metadata": {},
   "outputs": [],
   "source": []
  },
  {
   "cell_type": "markdown",
   "metadata": {
    "slideshow": {
     "slide_type": "slide"
    }
   },
   "source": [
    "\n",
    "----\n",
    "\n",
    "## Zad 2\n",
    "---\n",
    "\n",
    "Stórz dwie zmienne:\n",
    "\n",
    "- pierwszą o nazwie `imie`, przypisz jej wartość typu tekstowego z Twoim imieniem\n",
    "- drugą o nazwie `rok_urodzenia` i przypisz jej liczbę całkowitą\n",
    "\n",
    "Za pomocą funkcji 'print' wyświetl na ekran tekst \"Mam na imię `zmienna 1` i mam `zmienna 2` lat\", gdzie `zmienna1` wyświetla imię, a `zmienna2` wiek obliczony jako różnica 2023 i roku urodzenia."
   ]
  },
  {
   "cell_type": "code",
   "execution_count": null,
   "metadata": {},
   "outputs": [],
   "source": []
  },
  {
   "cell_type": "markdown",
   "metadata": {
    "slideshow": {
     "slide_type": "slide"
    }
   },
   "source": [
    "\n",
    "----\n",
    "\n",
    "## Zad 3\n",
    "---\n",
    "\n",
    "Oblicz pole koła o promieniu 12 na dwa sposoby:\n",
    "- Poprzez stworzenie zmiennej o nazwie `pi` i wartości 3.14\n",
    "- Poprzez zaimportowanie wartości pi z biblioteki math\n",
    "\n",
    "Oba wyniki wyświetl na ekran. "
   ]
  },
  {
   "cell_type": "code",
   "execution_count": null,
   "metadata": {},
   "outputs": [],
   "source": []
  },
  {
   "cell_type": "markdown",
   "metadata": {
    "slideshow": {
     "slide_type": "slide"
    }
   },
   "source": [
    "\n",
    "----\n",
    "\n",
    "## Zad 4\n",
    "---\n",
    "\n",
    "Wyświetl zmienną ‘pi’ z biblioteki math na ekranie na trzy sposoby:\n",
    "- Przypisz wartość zmiennej ‘pi’ z biblioteki math do nowej zmiennej o nazwie ‘liczba_pi’\n",
    "- Zaimportuj zmienną pi bezpośrednio do programu, bez deklaracji nowej zmiennej \n",
    "    (2 sposoby)"
   ]
  },
  {
   "cell_type": "code",
   "execution_count": null,
   "metadata": {},
   "outputs": [],
   "source": []
  },
  {
   "cell_type": "markdown",
   "metadata": {
    "slideshow": {
     "slide_type": "slide"
    }
   },
   "source": [
    "\n",
    "----\n",
    "\n",
    "## Zad 5\n",
    "---\n",
    "Stwórz program, który przyjmuje zdanie (ciąg znaków) i znajduje długość najdłuższego słowa w tym zdaniu. Użyj funkcji wbudowanych *len* oraz *max* (nie ma konieczności korzystania z bibliotek zewnętrznych).\n",
    "\n",
    "Zmienna wejściowa:\n",
    "\n",
    "zdanie = \"Python jest bardzo fascynujący! Zaczynam rozumieć o co tutaj chodzi.\""
   ]
  },
  {
   "cell_type": "code",
   "execution_count": null,
   "metadata": {},
   "outputs": [],
   "source": []
  },
  {
   "cell_type": "markdown",
   "metadata": {},
   "source": [
    "\n",
    "----\n",
    "\n",
    "## Zad 6\n",
    "---\n",
    "\n",
    "Zadeklaruj zmienną `x` o wartości `3.14`. Sprawdź typ zmiennej przechowującej liczbę zmiennoprzecinkową. Zmień typ zmiennej na tekstowy i wyświetl typ zmiennej ponownie."
   ]
  },
  {
   "cell_type": "code",
   "execution_count": null,
   "metadata": {},
   "outputs": [],
   "source": []
  },
  {
   "cell_type": "markdown",
   "metadata": {
    "slideshow": {
     "slide_type": "slide"
    }
   },
   "source": [
    "\n",
    "----\n",
    "\n",
    "## Zad 7\n",
    "---\n",
    "\n",
    "Napisz skrypt, który wykona następujące czynności:\n",
    "\n",
    "- zmiennej `a` przypisze wartość podaną przez użytkownika np. `5`\n",
    "- zmiennej `b` przypisze wartość podaną przez użytkownika np. `3`\n",
    "- zmiennej `P` przypisze wartość `a*b`\n",
    "- wypisze na ekranie \"Pole prostokąta o bokach `a` i `b` wynosi `P`.\" (gdzie w miejsce zmiennych zostaną wstawione odpowiednie wartości).\n",
    "\n",
    "! Wykorzystaj funkcje `input` do wykonania tego ćwiczenia ! help(input)\n",
    "Zwróć uwagę jakiego typu zmienną zwraca funkcja input()"
   ]
  },
  {
   "cell_type": "code",
   "execution_count": null,
   "metadata": {},
   "outputs": [],
   "source": []
  },
  {
   "cell_type": "markdown",
   "metadata": {
    "slideshow": {
     "slide_type": "slide"
    }
   },
   "source": [
    "\n",
    "----\n",
    "\n",
    "## Zad 8\n",
    "---\n",
    "\n",
    "Stwórz obiekt przechowujący inwokację Pana Tadeusza pod zmienną `inwokacja`\n",
    "\n",
    "```\n",
    "inwokacja = \"\"\"Litwo! Ojczyzno moja! Ty jesteś jak zdrowie,\n",
    "Ile cię trzeba cenić, ten tylko się dowie,\n",
    "Kto cię stracił. Dziś piękność twą w całej ozdobie\n",
    "Widzę i opisuję, bo tęsknię po tobie\n",
    "Panno święta, co Jasnej bronisz Częstochowy\n",
    "I w Ostrej świecisz Bramie! Ty, co gród zamkowy\n",
    "Nowogródzki ochraniasz z jego wiernym ludem!\n",
    "Jak mnie dziecko do zdrowia powróciłaś cudem,\n",
    "Gdy od płaczącej matki pod Twoją opiekę\n",
    "Ofiarowany, martwą podniosłem powiekę\n",
    "I zaraz mogłem pieszo do Twych świątyń progu\n",
    "Iść za wrócone życie podziękować Bogu,\n",
    "Tak nas powrócisz cudem na Ojczyzny łono.\n",
    "Tymczasem przenoś moją duszę utęsknioną\n",
    "Do tych pagórków leśnych, do tych łąk zielonych,\n",
    "Szeroko nad błękitnym Niemnem rozciągnionych;\n",
    "Do tych pól malowanych zbożem rozmaitem,\n",
    "Wyzłacanych pszenicą, posrebrzanych żytem;\n",
    "Gdzie bursztynowy świerzop, gryka jak śnieg biała,\n",
    "Gdzie panieńskim rumieńcem dzięcielina pała,\n",
    "A wszystko przepasane jakby wstęgą, miedzą\n",
    "Zieloną, na niej z rzadka ciche grusze siedzą.\"\"\"\n",
    "```\n",
    "\n",
    "- Popraw zmienną `inwokacja`, aby tekst zaczynał się małą literą (załóżmy że nie wiesz jaka to litera).\n",
    "- Korzystając z funkcji *count* sprawdź, ile razy występuje spójnik \"i\".\n",
    "- Korzystając z funkcji *count* sprawdź, ile razy występuje litera \"i\" (niezależnie od wielkości).\n",
    "- Sprawdź, czy słowo \"dziecko\" występuje w tekście\n",
    "- Korzystając z funkcji *str.split*:\n",
    "    - stwórz listę wyrazów występujących w tekście (np. 30 słów => 30 elementów)\n",
    "    - stwórz listę, której każdy element odpowiada jednej linijce tekstu (4 linie => 4 elementy).\n"
   ]
  },
  {
   "cell_type": "code",
   "execution_count": null,
   "metadata": {},
   "outputs": [],
   "source": []
  },
  {
   "cell_type": "markdown",
   "metadata": {},
   "source": [
    "\n",
    "----\n",
    "\n",
    "## Wyniki zadań:\n",
    "---\n",
    "<b>Zad 1</b>\n",
    "\n",
    "```\n",
    "Dodawanie: 12\n",
    "Odejmowanie: 6\n",
    "Mnożenie: 27\n",
    "Dzielenie: 3.0\n",
    "```\n",
    "\n",
    "<b>Zad 2</b>\n",
    "\n",
    "*Np.* Mam na imię Jan i mam 45 lat.\n",
    "\n",
    "<b>Zad 3</b>\n",
    "\n",
    "```\n",
    "Sposób 1: 452.16\n",
    "Sposób 2: 452.3893421169302\n",
    "```\n",
    "\n",
    "<b>Zad 4</b>\n",
    "\n",
    "```\n",
    "Sposób 1: 3.141592653589793\n",
    "Sposób 2: 3.141592653589793\n",
    "Sposób 3: 3.141592653589793\n",
    "```\n",
    "\n",
    "<b>Zad 5</b>\n",
    "\n",
    "Najdłuższe słowo to 'fascynujący!' o długości 12 znaków.\n",
    "\n",
    "<b>Zad 6</b>\n",
    "\n",
    "```\n",
    "Typ zmiennej przed konwersją: {<class 'float'>}\n",
    "Typ zmiennej po konwersji: {<class 'str'>}\n",
    "```\n",
    "\n",
    "<b>Zad 7</b>\n",
    "\n",
    "*Np.* dla wartości 2 i 6, wynik wynosi 12\n",
    "\n",
    "<b>Zad 8</b>\n",
    "\n",
    "```\n",
    "Ile razy występuje spójnik 'i': 3\n",
    "Ile razy występuje litera 'i' (niezależnie od wielkości): 66\n",
    "Czy słowo 'dziecko' występuje w tekście: True\n",
    "\n",
    "\n",
    "Lista wyrazów:\n",
    "['litwo!', 'Ojczyzno', 'moja!', 'Ty', 'jesteś', 'jak', 'zdrowie,', 'Ile', 'cię', 'trzeba', 'cenić,', 'ten', 'tylko', 'się', 'dowie,', 'Kto', 'cię', 'stracił.', 'Dziś', 'piękność', 'twą', 'w', 'całej', 'ozdobie', 'Widzę', 'i', 'opisuję,', 'bo', 'tęsknię', 'po', 'tobie', 'Panno', 'święta,', 'co', 'Jasnej', 'bronisz', 'Częstochowy', 'I', 'w', 'Ostrej', 'świecisz', 'Bramie!', 'Ty,', 'co', 'gród', 'zamkowy', 'Nowogródzki', 'ochraniasz', 'z', 'jego', 'wiernym', 'ludem!', 'Jak', 'mnie', 'dziecko', 'do', 'zdrowia', 'powróciłaś', 'cudem,', 'Gdy', 'od', 'płaczącej', 'matki', 'pod', 'Twoją', 'opiekę', 'Ofiarowany,', 'martwą', 'podniosłem', 'powiekę', 'I', 'zaraz', 'mogłem', 'pieszo', 'do', 'Twych', 'świątyń', 'progu', 'Iść', 'za', 'wrócone', 'życie', 'podziękować', 'Bogu,', 'Tak', 'nas', 'powrócisz', 'cudem', 'na', 'Ojczyzny', 'łono.', 'Tymczasem', 'przenoś', 'moją', 'duszę', 'utęsknioną', 'Do', 'tych', 'pagórków', 'leśnych,', 'do', 'tych', 'łąk', 'zielonych,', 'Szeroko', 'nad', 'błękitnym', 'Niemnem', 'rozciągnionych;', 'Do', 'tych', 'pól', 'malowanych', 'zbożem', 'rozmaitem,', 'Wyzłacanych', 'pszenicą,', 'posrebrzanych', 'żytem;', 'Gdzie', 'bursztynowy', 'świerzop,', 'gryka', 'jak', 'śnieg', 'biała,', 'Gdzie', 'panieńskim', 'rumieńcem', 'dzięcielina', 'pała,', 'A', 'wszystko', 'przepasane', 'jakby', 'wstęgą,', 'miedzą', 'Zieloną,', 'na', 'niej', 'z', 'rzadka', 'ciche', 'grusze', 'siedzą.']\n",
    "\n",
    "Lista linijek:\n",
    "['litwo! Ojczyzno moja! Ty jesteś jak zdrowie,', 'Ile cię trzeba cenić, ten tylko się dowie,', 'Kto cię stracił. Dziś piękność twą w całej ozdobie', 'Widzę i opisuję, bo tęsknię po tobie', 'Panno święta, co Jasnej bronisz Częstochowy', 'I w Ostrej świecisz Bramie! Ty, co gród zamkowy', 'Nowogródzki ochraniasz z jego wiernym ludem!', 'Jak mnie dziecko do zdrowia powróciłaś cudem,', 'Gdy od płaczącej matki pod Twoją opiekę', 'Ofiarowany, martwą podniosłem powiekę', 'I zaraz mogłem pieszo do Twych świątyń progu', 'Iść za wrócone życie podziękować Bogu,', 'Tak nas powrócisz cudem na Ojczyzny łono.', 'Tymczasem przenoś moją duszę utęsknioną', 'Do tych pagórków leśnych, do tych łąk zielonych,', 'Szeroko nad błękitnym Niemnem rozciągnionych;', 'Do tych pól malowanych zbożem rozmaitem,', 'Wyzłacanych pszenicą, posrebrzanych żytem;', 'Gdzie bursztynowy świerzop, gryka jak śnieg biała,', 'Gdzie panieńskim rumieńcem dzięcielina pała,', 'A wszystko przepasane jakby wstęgą, miedzą', 'Zieloną, na niej z rzadka ciche grusze siedzą.']\n",
    "```\n"
   ]
  },
  {
   "cell_type": "code",
   "execution_count": null,
   "metadata": {},
   "outputs": [],
   "source": []
  }
 ],
 "metadata": {
  "anaconda-cloud": {},
  "kernelspec": {
   "display_name": "Python 3 (ipykernel)",
   "language": "python",
   "name": "python3"
  },
  "language_info": {
   "codemirror_mode": {
    "name": "ipython",
    "version": 3
   },
   "file_extension": ".py",
   "mimetype": "text/x-python",
   "name": "python",
   "nbconvert_exporter": "python",
   "pygments_lexer": "ipython3",
   "version": "3.9.12"
  },
  "rise": {
   "enable_chalkboard": true,
   "scroll": true
  }
 },
 "nbformat": 4,
 "nbformat_minor": 4
}
