{
 "cells": [
  {
   "cell_type": "markdown",
   "metadata": {
    "slideshow": {
     "slide_type": "slide"
    }
   },
   "source": [
    "\n",
    "----\n",
    "\n",
    "# Ćwiczenia 3. Złożone typy danych\n",
    "---\n"
   ]
  },
  {
   "cell_type": "markdown",
   "metadata": {},
   "source": [
    "\n",
    "----\n",
    "\n",
    "## Zad 1\n",
    "---\n",
    "\n",
    " Stwórz listę liczb całkowitych zawierającą liczby od 1 do 5, a następnie wykorzystaj *append* by dodać do niej nowy element - liczbę 6."
   ]
  },
  {
   "cell_type": "code",
   "execution_count": null,
   "metadata": {},
   "outputs": [],
   "source": []
  },
  {
   "cell_type": "markdown",
   "metadata": {},
   "source": [
    "\n",
    "----\n",
    "\n",
    "## Zad 2\n",
    "---\n",
    "\n",
    "Stwórz listę liczb parzystych od 2 do 20, podzielnych przez 4, korzystając z polecenia range. Następnie wyświetl tę listę w odwrotnej kolejności."
   ]
  },
  {
   "cell_type": "code",
   "execution_count": null,
   "metadata": {},
   "outputs": [],
   "source": []
  },
  {
   "cell_type": "markdown",
   "metadata": {},
   "source": [
    "\n",
    "----\n",
    "\n",
    "## Zad 3\n",
    "---\n",
    "\n",
    "Stwórz listę zawierającą kilka słów. Następnie napisz funkcję, która przyjmuje tę listę i zwraca nową listę, w której wszystkie słowa mają być zapisane wielkimi literami."
   ]
  },
  {
   "cell_type": "code",
   "execution_count": null,
   "metadata": {},
   "outputs": [],
   "source": []
  },
  {
   "cell_type": "markdown",
   "metadata": {},
   "source": [
    "\n",
    "----\n",
    "\n",
    "## Zad 4\n",
    "---\n",
    "\n",
    "\n",
    "Stwórz słownik o nazwie informacje_osobowe zawierający informacje o osobie, takie jak imię, nazwisko, wiek i zawód. Następnie napisz program, który wyświetli te informacje na ekranie w formie:\n",
    "\n",
    "```\n",
    "Imię: [imię]\n",
    "Nazwisko: [nazwisko]\n",
    "Wiek: [wiek]\n",
    "Zawód: [zawód]\n",
    "```"
   ]
  },
  {
   "cell_type": "code",
   "execution_count": null,
   "metadata": {},
   "outputs": [],
   "source": []
  },
  {
   "cell_type": "markdown",
   "metadata": {},
   "source": [
    "\n",
    "----\n",
    "\n",
    "## Zad 5\n",
    "---\n",
    "\n",
    "Połącz dwa słowniki\n",
    "\n",
    "Wejście:\n",
    "```\n",
    "dict1 = {'Dziesiec': 10, 'Dwadziescia': 20, 'Trzydziesci': 30}\n",
    "dict2 = {'Trzydziesci': 30, 'Czterdziesci': 40, 'Piecdziesiat': 50}\n",
    "```"
   ]
  },
  {
   "cell_type": "code",
   "execution_count": null,
   "metadata": {},
   "outputs": [],
   "source": []
  },
  {
   "cell_type": "markdown",
   "metadata": {},
   "source": [
    "\n",
    "----\n",
    "\n",
    "## Zad 6\n",
    "---\n",
    "\n",
    "Podaj klucz najmniejszej wartości w słowniku\n",
    "```\n",
    "sampleDict = {\n",
    "  'Physics': 82,\n",
    "  'Math': 65,\n",
    "  'history': 75\n",
    "}\n",
    "```"
   ]
  },
  {
   "cell_type": "code",
   "execution_count": null,
   "metadata": {},
   "outputs": [],
   "source": []
  },
  {
   "cell_type": "markdown",
   "metadata": {},
   "source": [
    "\n",
    "----\n",
    "\n",
    "## Zad 7\n",
    "---\n",
    "\n",
    "Zdefiniuj funkcje która policzy cenę koszyka na podstawie cen jednostkowych i ilości towarów\n",
    "```\n",
    "koszyk = {\n",
    "    \"banany\": 6,\n",
    "    \"jablka\": 0,\n",
    "    \"pomarancze\": 32,\n",
    "    \"gruszki\": 15\n",
    "}\n",
    "ceny = {\n",
    "    \"banany\": 4,\n",
    "    \"jablka\": 2,\n",
    "    \"pomarancze\": 1.5,\n",
    "    \"gruszki\": 3\n",
    "```"
   ]
  },
  {
   "cell_type": "code",
   "execution_count": null,
   "metadata": {},
   "outputs": [],
   "source": []
  },
  {
   "cell_type": "markdown",
   "metadata": {},
   "source": [
    "\n",
    "----\n",
    "\n",
    "## Zad 8\n",
    "---\n",
    "\n",
    "Stwórz listę, która zawiera powtarzające się elementy. Napisz funkcję, która usuwa duplikaty z listy i zwraca nową listę bez powtórzeń.\n",
    "\n",
    "```\n",
    "lista_z_powtorzeniami = [1, 2, 3, 1, 2, 4, 5, 3, 6, 7, 8, 4, 9, 10, 7]\n",
    "```"
   ]
  },
  {
   "cell_type": "code",
   "execution_count": null,
   "metadata": {},
   "outputs": [],
   "source": []
  },
  {
   "cell_type": "markdown",
   "metadata": {
    "slideshow": {
     "slide_type": "slide"
    }
   },
   "source": [
    "\n",
    "----\n",
    "\n",
    "## Zad 9\n",
    "---\n",
    "\n",
    "Stwórz listę owoców: Jabłko, Banan, Kiwi, Pomarańcza.\n",
    "\n",
    "- Korzystając z metody append dodaj do listy Gruszkę.\n",
    "- Korzystając z metody extend dodaj do listy Mango i Ananasa.\n",
    "- Posortuj alfabetycznie owoce.\n",
    "- Wypisz na ekranie:\n",
    "    - trzeci owoc na liście\n",
    "    - dwa pierwsze owoce na liście\n",
    "    - dwa ostatnie owoce na liście\n",
    "- Usuń wszystkie Kiwi z listy.\n",
    "- Korzystając z funkcji len sprawdź liczbę owoców.\n",
    "- Z ostatecznej listy owoców utwórz krotkę."
   ]
  },
  {
   "cell_type": "code",
   "execution_count": null,
   "metadata": {},
   "outputs": [],
   "source": []
  },
  {
   "cell_type": "markdown",
   "metadata": {
    "slideshow": {
     "slide_type": "slide"
    }
   },
   "source": [
    "\n",
    "----\n",
    "\n",
    "## Zad 10\n",
    "---\n",
    "\n",
    "Wykonaj polecenia:\n",
    "- Korzystając z `range` utwórz listę zawierającą wszystkie wielokrotności liczby 3 mniejsze od 100.\n",
    "- Korzystając z `del` usuń co trzeci element (zaczynając od piątego).\n",
    "- Sprawdź definicję funkcji wbudowanej *sum* (`help(sum)`). Wykorzystaj ją oraz funkcję *len*, aby wyliczyć średnią arytmetyczną otrzymanej listy.\n"
   ]
  },
  {
   "cell_type": "code",
   "execution_count": null,
   "metadata": {},
   "outputs": [],
   "source": []
  },
  {
   "cell_type": "markdown",
   "metadata": {},
   "source": [
    "----\n",
    "\n",
    "## Zad 11\n",
    "---\n",
    "\n",
    "\n",
    "Stwórz listę uczniów: Jan, Kasia, Marek, Basia.\n",
    "\n",
    "- Stwórz drugą listę, która będzie przechowywała oceny odpowiadające każdemu uczniowi. Na początku będą to puste listy ocen.\n",
    "- Dodaj oceny dla każdego ucznia (możesz użyć dowolnych ocen np. 4.5, 3.0, 5.0).\n",
    "- Wydrukuj na ekranie:\n",
    "    - Ucznia, oceny i średnią ocen\n",
    "    - Ucznia, wszystkie oceny i najwyższą ocenę\n",
    "    - Ucznia, wszystkie oceny i najniższą ocenę\n",
    "- Dodaj oceny dla nowego ucznia, np. Ani.\n",
    "- Wydrukuj na ekranie informacje o nowym uczniu, jego ocenach i średniej ocen."
   ]
  },
  {
   "cell_type": "code",
   "execution_count": null,
   "metadata": {},
   "outputs": [],
   "source": []
  },
  {
   "cell_type": "markdown",
   "metadata": {},
   "source": [
    "----\n",
    "\n",
    "## Wyniki zadań\n",
    "---\n",
    "\n",
    "<b>Zad 1</b>\n",
    "\n",
    "[1, 2, 3, 4, 5, 6]\n",
    "\n",
    "<b>Zad 2</b>\n",
    "\n",
    "- Oryginalna lista: [4, 8, 12, 16, 20]\n",
    "- Lista w odwrotnej kolejności: [20, 16, 12, 8, 4]\n",
    "\n",
    "<b>Zad 3</b>\n",
    "\n",
    "- Oryginalna lista: ['jabłko', 'gruszka', 'banan', 'pomidor', 'arbuz']\n",
    "- Nowa lista z wielkimi literami: ['JABŁKO', 'GRUSZKA', 'BANAN', 'POMIDOR', 'ARBUZ']\n",
    "\n",
    "<b>Zad 5</b>\n",
    "\n",
    "Połączony słownik: {'Dziesiec': 10, 'Dwadziescia': 20, 'Trzydziesci': 30, 'Czterdziesci': 40, 'Piecdziesiat': 50}\n",
    "\n",
    "<b>Zad 6</b>\n",
    "\n",
    "Klucz najmniejszej wartości: Math\n",
    "\n",
    "<b>Zad 7</b>\n",
    "\n",
    "Cena koszyka: 117.0\n",
    "\n",
    "<b>Zad 8</b>\n",
    "\n",
    "- Oryginalna lista: [1, 2, 3, 1, 2, 4, 5, 3, 6, 7, 8, 4, 9, 10, 7]\n",
    "- Lista bez duplikatów: [1, 2, 3, 4, 5, 6, 7, 8, 9, 10]\n",
    "\n",
    "\n",
    "<b>Zad 9</b>\n",
    "\n",
    "- Posortowane owoce: ['Ananas', 'Banan', 'Gruszka', 'Jabłko', 'Kiwi', 'Mango', 'Pomarańcza']\n",
    "- Trzeci owoc na liście: Gruszka\n",
    "- Dwa pierwsze owoce na liście: ['Ananas', 'Banan']\n",
    "- Dwa ostatnie owoce na liście: ['Mango', 'Pomarańcza']\n",
    "- Liczba owoców po usunięciu Kiwi: 6\n",
    "- Krotka owoców: ('Ananas', 'Banan', 'Gruszka', 'Jabłko', 'Mango', 'Pomarańcza')\n",
    "\n",
    "<b>Zad 10</b>\n",
    "\n",
    "Lista wielokrotności 3: [3, 6, 9, 12, 18, 21, 27, 30, 36, 39, 45, 48, 54, 57, 63, 66, 72, 75, 81, 84, 90, 93, 99]\n",
    "Suma: 1128\n",
    "Średnia arytmetyczna: 49.04347826086956\n",
    "\n",
    "<b>Zad 11</b>\n",
    "\n",
    "Jan: Oceny: [4.5, 3.0, 5.0] Średnia: 4.166666666666667 Najwyższa: 5.0 Najniższa: 3.0\n",
    "Kasia: Oceny: [3.5, 4.0, 4.5] Średnia: 4.0 Najwyższa: 4.5 Najniższa: 3.5\n",
    "Marek: Oceny: [5.0, 4.0, 3.5] Średnia: 4.166666666666667 Najwyższa: 5.0 Najniższa: 3.5\n",
    "Basia: Oceny: [4.0, 4.5, 3.5] Średnia: 4.0 Najwyższa: 4.5 Najniższa: 3.5\n",
    "\n",
    "Ania: Oceny: [4.0, 3.5, 5.0] Średnia: 4.166666666666667 Najwyższa: 5.0 Najniższa: 3.5"
   ]
  },
  {
   "cell_type": "code",
   "execution_count": null,
   "metadata": {},
   "outputs": [],
   "source": []
  }
 ],
 "metadata": {
  "anaconda-cloud": {},
  "kernelspec": {
   "display_name": "Python 3 (ipykernel)",
   "language": "python",
   "name": "python3"
  },
  "language_info": {
   "codemirror_mode": {
    "name": "ipython",
    "version": 3
   },
   "file_extension": ".py",
   "mimetype": "text/x-python",
   "name": "python",
   "nbconvert_exporter": "python",
   "pygments_lexer": "ipython3",
   "version": "3.9.12"
  },
  "rise": {
   "enable_chalkboard": true,
   "scroll": true
  }
 },
 "nbformat": 4,
 "nbformat_minor": 1
}
