{
 "cells": [
  {
   "cell_type": "markdown",
   "id": "cf321dfa",
   "metadata": {},
   "source": [
    "# 3. Informatyka Geodezyjna 2025 - wprowadzenie do programowania obiektowego (część 2)\n",
    "\n",
    "Diagramy UML przedstawione poprzednio wdrażają <b> cztery paradygmaty programowania obiektowego </b>.\n",
    "Tematem dzisiejszych ćwiczeń (i kolejnych) jest omówienie i *wdrożenie w praktyce* tych właśnie paradygmatów.\n",
    "Paradygmaty to:\n",
    "\n",
    "    Generalizacja\n",
    "    Hermetyzacja/Enkapsulacja\n",
    "    Polimorficzność\n",
    "    Dziedziczenie"
   ]
  },
  {
   "cell_type": "markdown",
   "id": "22f1a5c2",
   "metadata": {},
   "source": [
    "<h1> Paradygmat 1 - Generalizacja: </h1>\n",
    "\n",
    "Generalizacja to kluczowa zasada programowania obiektowego, polegająca na definiowaniu ogólnych struktur, które mogą być rozszerzane i dostosowywane przez bardziej wyspecjalizowane klasy. \n",
    "\n",
    "<h2> Definicja klasy </h2>\n",
    "\n",
    "    class Nazwa(dziedziczenie):\n",
    "        instrukcje\n",
    "        ..."
   ]
  },
  {
   "cell_type": "code",
   "execution_count": null,
   "id": "c2e9f472",
   "metadata": {},
   "outputs": [],
   "source": [
    "class Osoba(): #puste dziedziczenie oznacza brak klasy nadrzędnej\n",
    "    pass #polecenie pominięcia"
   ]
  },
  {
   "cell_type": "code",
   "execution_count": null,
   "id": "f10c262d",
   "metadata": {},
   "outputs": [],
   "source": [
    "jurek = Osoba() #realizacja klasy\n",
    "jurek"
   ]
  },
  {
   "cell_type": "code",
   "execution_count": null,
   "id": "f46b47a7",
   "metadata": {},
   "outputs": [],
   "source": [
    "jurek = Osoba() #realizacja klasy\n",
    "type(jurek)"
   ]
  },
  {
   "cell_type": "markdown",
   "id": "f741cd62",
   "metadata": {},
   "source": [
    "Powyzej widzimy, że Jurek jest typu Osoba (klasy, którą właśnie stworzyliśmy)"
   ]
  },
  {
   "cell_type": "code",
   "execution_count": null,
   "id": "5cbb074a",
   "metadata": {},
   "outputs": [],
   "source": [
    "print(jurek)"
   ]
  },
  {
   "cell_type": "markdown",
   "id": "bf7eb71b",
   "metadata": {},
   "source": [
    "Klasa osoba nie ma reprezentacji tekstowej, więc wyświetla nam się tekst domyślny. (zmienimy to później)"
   ]
  },
  {
   "cell_type": "markdown",
   "id": "582e9c24",
   "metadata": {},
   "source": [
    "<h2> Inicjalizacja </h2>\n",
    "\n",
    "Inicjalizacja klasy odbywa się za pomocą <b> funkcji magicznej </b> $__init__$ - wywoływany jest przy instancjonowaniu\n",
    "\n",
    "Klasa do sebie samej odwołuje się przez $self$"
   ]
  },
  {
   "cell_type": "code",
   "execution_count": null,
   "id": "f0541899",
   "metadata": {},
   "outputs": [],
   "source": [
    "class Osoba():\n",
    "    \n",
    "    #dwie linijki przerwy zgodnie z PEP8\n",
    "    def __init__(self, imie, nazwisko2, data_urodzenia): #w funkcjach klasy pierwszy argument to zawsze self\n",
    "        self.imie = imie\n",
    "        self.nazwisko100 = nazwisko2\n",
    "        self.data_urodzenia = data_urodzenia"
   ]
  },
  {
   "cell_type": "markdown",
   "id": "8a73c375",
   "metadata": {},
   "source": [
    "Powyżej w funkcji magicznej __init__ przypisaliśmy klasie 3 cechy - imię, nazwisko i data urodzenia. __init__ uruchamiany jest zawsze przy instancjonowaniu klasy, zatem wywołując nazwę klasy Osoba() w paramterach podajemy to co znajduje się w funkcji __init__, te cechy są przekazywane do funkcji __init__.\n",
    "\n",
    "self.imie - oznacza, że pod atrybutem .imie, będzie znajdowała się podana wartość. \n"
   ]
  },
  {
   "cell_type": "markdown",
   "id": "bcc312b1",
   "metadata": {},
   "source": [
    "Realizacja jak poniżej. Tworzymy obiekt o nazwie Jurek typu Osoba i nadajemy mu 3 cechy, zgodnie z definicją klasy:"
   ]
  },
  {
   "cell_type": "code",
   "execution_count": null,
   "id": "16c05066",
   "metadata": {},
   "outputs": [],
   "source": [
    "jurek = Osoba()"
   ]
  },
  {
   "cell_type": "code",
   "execution_count": null,
   "id": "4357b8ad",
   "metadata": {},
   "outputs": [],
   "source": [
    "jurek = Osoba(\"Jurek\",\"Kiler\",\"10-10-1974\")"
   ]
  },
  {
   "cell_type": "code",
   "execution_count": null,
   "id": "0342fd0b",
   "metadata": {},
   "outputs": [],
   "source": [
    "jurek.nazwisko100"
   ]
  },
  {
   "cell_type": "code",
   "execution_count": null,
   "id": "52b36f6b",
   "metadata": {},
   "outputs": [],
   "source": [
    "jurek = Osoba(nazwisko=\"Jurek\",imie=\"Kiler\",data_urodzenia=\"10-10-1974\")"
   ]
  },
  {
   "cell_type": "markdown",
   "id": "88841382",
   "metadata": {},
   "source": [
    "Teraz możemy wyświetlić te cechy:"
   ]
  },
  {
   "cell_type": "code",
   "execution_count": null,
   "id": "f94ae890",
   "metadata": {},
   "outputs": [],
   "source": [
    "print(Jurek.imie, Jurek.nazwisko, Jurek.data_urodzenia)"
   ]
  },
  {
   "cell_type": "markdown",
   "id": "b726c165",
   "metadata": {},
   "source": [
    "Stworzyliśmy klasę, ale paradygmaty nie są zachowane:"
   ]
  },
  {
   "cell_type": "code",
   "execution_count": null,
   "id": "2c7f7651",
   "metadata": {},
   "outputs": [],
   "source": [
    "jurek.imie = \"Andrzej\" #imie można zmienić dowolnie (BRAK HERMETYZACJI)\n",
    "jurek.imie"
   ]
  },
  {
   "cell_type": "markdown",
   "id": "77ad9081",
   "metadata": {},
   "source": [
    "Dodajmy teraz metodę do klasy. Definiuje się je jako kolejne funkcje:"
   ]
  },
  {
   "cell_type": "code",
   "execution_count": null,
   "id": "eb801d2d",
   "metadata": {},
   "outputs": [],
   "source": [
    "class Osoba():\n",
    "    \n",
    "    \n",
    "    def __init__(self, imie, nazwisko, data_urodzenia):\n",
    "        self.imie = imie\n",
    "        self.nazwisko = nazwisko\n",
    "        self.data_urodzenia = data_urodzenia\n",
    "        \n",
    "    def wiek(self,obecny_rok = 2021): #w funkcjach klasy pierwszy argument to zawsze self\n",
    "        return obecny_rok - int(self.data_urodzenia.split('-')[2])"
   ]
  },
  {
   "cell_type": "code",
   "execution_count": null,
   "id": "944c2201",
   "metadata": {},
   "outputs": [],
   "source": [
    "jurek = Osoba(\"Jurek\",\"Kiler\",\"10-10-1974\")"
   ]
  },
  {
   "cell_type": "code",
   "execution_count": null,
   "id": "873562d9",
   "metadata": {},
   "outputs": [],
   "source": [
    "jurek.data_urodzenia"
   ]
  },
  {
   "cell_type": "markdown",
   "id": "10a4ee2b",
   "metadata": {},
   "source": [
    "Metody wywołujemy w znany nam sposób. Mogą przyjmowąć parametry:"
   ]
  },
  {
   "cell_type": "code",
   "execution_count": null,
   "id": "816ffabb",
   "metadata": {},
   "outputs": [],
   "source": [
    "jurek.wiek()"
   ]
  },
  {
   "cell_type": "code",
   "execution_count": null,
   "id": "bb91ca26",
   "metadata": {
    "scrolled": true
   },
   "outputs": [],
   "source": [
    "print(jurek)"
   ]
  },
  {
   "cell_type": "markdown",
   "id": "15e8c2c1",
   "metadata": {},
   "source": [
    "<h1> Paradygmat 2 - hermetyzacja/enkapsulacja </h1>\n",
    "\n",
    "Hermetyzacja (enkapsulacja) to zasada programowania obiektowego polegająca na ukrywaniu wewnętrznych szczegółów implementacji klasy i udostępnianiu tylko niezbędnych interfejsów do manipulacji danymi. Dzięki hermetyzacji dane obiektu są chronione przed bezpośrednią modyfikacją, co zwiększa bezpieczeństwo i kontrolę nad ich zmianami. W Pythonie hermetyzację realizuje się poprzez stosowanie modyfikatorów dostępu, takich jak:\n",
    "\n",
    "    Prywatne atrybuty (__atrybut) – ukrywane przed bezpośrednim dostępem,\n",
    "    Chronione atrybuty (_atrybut) – wskazujące na wewnętrzne użycie,\n",
    "    Metody dostępowe (gettery i settery) – zapewniające kontrolowany dostęp do danych.\n",
    "\n",
    "Hermetyzacja pomaga w utrzymaniu integralności danych, ułatwia debugowanie i poprawia modularność kodu."
   ]
  },
  {
   "cell_type": "code",
   "execution_count": null,
   "id": "cd636268",
   "metadata": {},
   "outputs": [],
   "source": [
    "class Osoba():\n",
    "    \n",
    "\n",
    "    def __init__(self, imie, nazwisko, data_urodzenia):\n",
    "        self._imie = imie\n",
    "        self._nazwisko = nazwisko\n",
    "        self._data_urodzenia = data_urodzenia"
   ]
  },
  {
   "cell_type": "code",
   "execution_count": null,
   "id": "e34c7a28",
   "metadata": {},
   "outputs": [],
   "source": [
    "jurek = Osoba(\"Jurek\",\"Kiler\",\"10-10-1974\")"
   ]
  },
  {
   "cell_type": "code",
   "execution_count": null,
   "id": "e6eb071e",
   "metadata": {},
   "outputs": [],
   "source": [
    "print(jurek._imie) #to zadziała, ale _ to tylko konwencja, użycie _ wymusza zastanowienie się nad swoimi poczynianiami"
   ]
  },
  {
   "cell_type": "markdown",
   "id": "b14d4f3f",
   "metadata": {},
   "source": [
    "Jak się więc prawidłowo dostawać do zmiennych? Przez tak zwane settery i gettery. Tworzone w Pythonie poprzez <b>dekorator</b> @property. Getter - zwraca wartość, Setter pozwala je zmieniać"
   ]
  },
  {
   "cell_type": "code",
   "execution_count": null,
   "id": "0340b3f7",
   "metadata": {},
   "outputs": [],
   "source": [
    "class Osoba():\n",
    "    \n",
    "    #dwie linijki przerwy zgodnie z PEP8\n",
    "    def __init__(self, imie, nazwisko, data_urodzenia):\n",
    "        self._imie = imie\n",
    "        self._nazwisko = nazwisko\n",
    "        self._data_urodzenia = data_urodzenia\n",
    "        \n",
    "    @property #getter\n",
    "    def imie(self):\n",
    "        return self._imie\n",
    "    \n",
    "    @property\n",
    "    def nazwisko(self):\n",
    "        return self._nazwisko\n",
    "    \n",
    "    @property\n",
    "    def data_urodzenia(self):\n",
    "        return self._data_urodzenia"
   ]
  },
  {
   "cell_type": "code",
   "execution_count": null,
   "id": "5a1f733a",
   "metadata": {},
   "outputs": [],
   "source": [
    "jurek = Osoba(\"Jurek\",\"Kiler\",\"10-10-1974\")"
   ]
  },
  {
   "cell_type": "code",
   "execution_count": null,
   "id": "7f0eb8ae",
   "metadata": {},
   "outputs": [],
   "source": [
    "jurek.imie + \" Kiler\""
   ]
  },
  {
   "cell_type": "code",
   "execution_count": null,
   "id": "e1123237",
   "metadata": {},
   "outputs": [],
   "source": [
    "jurek.imie"
   ]
  },
  {
   "cell_type": "markdown",
   "id": "ca14ebe0",
   "metadata": {},
   "source": [
    "Wywołując Jurek.imie uruchamiamy tak naprawdę naszą funkcję gettera, nie wywołujemy atrybutu. To co tak naprawdę dostajemy to kopia, można jej użyć w operacjach poza klasą, ale samego atrybutu nie można zmienić:"
   ]
  },
  {
   "cell_type": "code",
   "execution_count": null,
   "id": "c8a0b75a",
   "metadata": {},
   "outputs": [],
   "source": [
    "Jurek.imie = \"Andrzej\" #nie można go zmienić"
   ]
  },
  {
   "cell_type": "code",
   "execution_count": null,
   "id": "1d62d722",
   "metadata": {},
   "outputs": [],
   "source": [
    "class Osoba():\n",
    "    \n",
    "    #dwie linijki przerwy zgodnie z PEP8\n",
    "    def __init__(self, imie, nazwisko, data_urodzenia):\n",
    "        self._imie = imie\n",
    "        self._nazwisko = nazwisko\n",
    "        self._data_urodzenia = data_urodzenia\n",
    "        \n",
    "    @property #getter\n",
    "    def imie(self):\n",
    "        return self._imie\n",
    "    \n",
    "    @property\n",
    "    def nazwisko(self):\n",
    "        return self._nazwisko\n",
    "    \n",
    "    @property\n",
    "    def data_urodzenia(self):\n",
    "        return self._data_urodzenia\n",
    "    \n",
    "    @imie.setter #setter\n",
    "    def imie(self, imie):\n",
    "        if imie == \"Maciej\":\n",
    "            print(\"WSZYSTKO TYLKO NIE MACIEJ!\")\n",
    "        else:\n",
    "            self._imie = imie\n",
    "        \n",
    "    @nazwisko.setter #setter\n",
    "    def nazwisko(self, nazwisko):\n",
    "        self._nazwisko = nazwisko\n",
    "        \n",
    "    @data_urodzenia.setter #setter\n",
    "    def data_urodzenia(self, data_urodzenia):\n",
    "        self._data_urodzenia = data_urodzenia"
   ]
  },
  {
   "cell_type": "code",
   "execution_count": null,
   "id": "699e3fb7",
   "metadata": {},
   "outputs": [],
   "source": [
    "jurek = Osoba(\"Jurek\",\"Kiler\",\"10-10-1974\")"
   ]
  },
  {
   "cell_type": "code",
   "execution_count": null,
   "id": "f0d0a032",
   "metadata": {},
   "outputs": [],
   "source": [
    "print(jurek.imie, jurek.nazwisko, jurek.data_urodzenia) #to co dostajemy to kopia"
   ]
  },
  {
   "cell_type": "code",
   "execution_count": null,
   "id": "81b0479e",
   "metadata": {},
   "outputs": [],
   "source": [
    "jurek.nazwisko = \"Kowalski\""
   ]
  },
  {
   "cell_type": "code",
   "execution_count": null,
   "id": "9572097d",
   "metadata": {},
   "outputs": [],
   "source": [
    "jurek.nazwisko"
   ]
  },
  {
   "cell_type": "code",
   "execution_count": null,
   "id": "c12f88f8",
   "metadata": {},
   "outputs": [],
   "source": [
    "jurek.imie = \"Maciej\""
   ]
  },
  {
   "cell_type": "code",
   "execution_count": null,
   "id": "dd1121d0",
   "metadata": {},
   "outputs": [],
   "source": [
    "jurek.imie"
   ]
  },
  {
   "cell_type": "code",
   "execution_count": null,
   "id": "09802ecd",
   "metadata": {},
   "outputs": [],
   "source": [
    "Jurek.imie = \"Andrzej\" #już można"
   ]
  },
  {
   "cell_type": "code",
   "execution_count": null,
   "id": "534cfd53",
   "metadata": {},
   "outputs": [],
   "source": [
    "print(Jurek.imie)"
   ]
  },
  {
   "cell_type": "markdown",
   "id": "fe1f2194",
   "metadata": {},
   "source": [
    "W klasie zdefiniowaliśmy w setterze dodaktowy warunek, który ma za zadanie powstrzymać niechciane zmiany atrybutu obiektów:"
   ]
  },
  {
   "cell_type": "code",
   "execution_count": null,
   "id": "df6e2f91",
   "metadata": {
    "scrolled": true
   },
   "outputs": [],
   "source": [
    "Jurek.imie = \"Maciej\""
   ]
  },
  {
   "cell_type": "markdown",
   "id": "57b2d1f6",
   "metadata": {},
   "source": [
    "Bardziej realny przykład - nie można ustawić saldu konta poniżej 0."
   ]
  },
  {
   "cell_type": "code",
   "execution_count": null,
   "id": "142c96ac",
   "metadata": {},
   "outputs": [],
   "source": []
  }
 ],
 "metadata": {
  "kernelspec": {
   "display_name": "Python 3 (ipykernel)",
   "language": "python",
   "name": "python3"
  },
  "language_info": {
   "codemirror_mode": {
    "name": "ipython",
    "version": 3
   },
   "file_extension": ".py",
   "mimetype": "text/x-python",
   "name": "python",
   "nbconvert_exporter": "python",
   "pygments_lexer": "ipython3",
   "version": "3.9.12"
  }
 },
 "nbformat": 4,
 "nbformat_minor": 5
}
