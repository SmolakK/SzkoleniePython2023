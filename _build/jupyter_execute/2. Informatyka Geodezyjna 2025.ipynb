{
 "cells": [
  {
   "cell_type": "markdown",
   "id": "cf321dfa",
   "metadata": {},
   "source": [
    "# 2. Informatyka Geodezyjna 2025 - wprowadzenie do programowania obiektowego (część 1)\n",
    "\n",
    "<h2> Python jest językiem obiektowym </h2>\n",
    "\n",
    "Języki programowania można również podzielić na:\n",
    "\n",
    "<ul>\n",
    "    <li> Strukturalne </li>\n",
    "    <li> Obiektowe </li>\n",
    "</ul>\n",
    "\n",
    "W programowaniu strukturalnym dzielimy funkcjonalności na moduły (podprogramy).\n",
    "\n",
    "W programowaniu obiektowym tworzymy <b> obiekty </b>, każdy z nich ma własne działania (metody) oraz właściwości (atrybuty). Z założenia, mają reprezentować elementy świata rzeczywistego.\n",
    "\n",
    "W Pythonie można pisać kod w obu z tych podejść, choć jest on nastawiony na programowanie obiektowe.\n",
    "\n",
    "<img src=\"bell_fig5.jpg\"/>\n",
    "\n"
   ]
  },
  {
   "cell_type": "markdown",
   "id": "39d53c92",
   "metadata": {},
   "source": [
    "<h1>Klasy</h1>\n",
    "Żeby zrozumieć istotę działania metod i ich różność od funkcji oraz atrybutów, przyjrzyjmy się czym jest obiekt.\n",
    "\n",
    "Obiekt to <b>wszystko</b> co napiszemy w Pythonie. To zarówno klasy jak i funkcje.\n",
    "\n",
    "Spotkamy się z metodami przypisanymi do klas. Klasa to bardzo ważny element języków obiektowych.\n"
   ]
  },
  {
   "cell_type": "markdown",
   "id": "2ae67161",
   "metadata": {},
   "source": [
    "<h2>Czym zatem jest klasa?</h2>\n",
    "\n",
    "<b>Klasa</b> to <i>abstrakcja</i> pewnego obiektu. Oznacza to uogólnieniony opis pewnego elementu, który zdefiniowany jest przez taką klasę poprzez określenie jego typowych <b>cech (atrybutów) i operacji (metod), które można na nim wykonać</b>. Tą samą strukturą opisujemy elementy świata rzeczywistego.\n",
    "    \n",
    "Przykład obrazujący:\n",
    "\n",
    "<b>Pizza</b> to abstrakcyjna klasa, którą opisujemy pewien typ dania. \n",
    "Ma cechy (atrybuty):\n",
    "<ul>\n",
    "    <li>Składniki</li>\n",
    "    <li>Sos</li>\n",
    "</ul>\n",
    "\n",
    "Oraz metody:\n",
    "<ul>\n",
    "    <li>Jedz</li>\n",
    "    <li>Polej oliwą</li>\n",
    "</ul>"
   ]
  },
  {
   "cell_type": "markdown",
   "id": "06e85ec9",
   "metadata": {},
   "source": [
    "<h1>Instancja</h1>\n",
    "\n",
    "To praktyczna realizacja klasy.\n",
    "\n",
    "Kontynuując przykład obrazujący:\n",
    "\n",
    "Piekąc pizzę nadajemy jej atrybuty - składniki (pieczarki, ser) i sos (pomidorowy). Wtedy otrzymujemy <b> instancję</b> klasy pizza w postaci <i>pizzy funghi</i>.\n",
    "\n",
    "<b>Pizza</b> to abstrakcyjna klasa, którą opisujemy pewien typ dania. \n",
    "Ma cechy (atrybuty):\n",
    "<ul>\n",
    "    <li>Składniki = [pieczarki, ser]</li>\n",
    "    <li>Sos = pomidorowy</li>\n",
    "</ul>\n",
    "\n",
    "Teraz możemy wywołać metodę na naszej instancji, która zdefiniowana już jest w klasie:\n",
    "\n",
    "pizza_funghi.jedz()\n",
    "\n",
    "<img src=\"01-uml-base-class-and-object-explained.png\"/>"
   ]
  },
  {
   "cell_type": "markdown",
   "id": "83856203",
   "metadata": {},
   "source": [
    "Przepis na danie jest odpowiednikiem KLASY, czyli abstrakcyjnego pojęcie określającego cechy i metody danego obiektu.\n",
    "\n",
    "Upieczona pizza hawajska (albo inna) jest odpowiednikiem INSTANCJI KLASY, czyli praktycznej realizacji klasy - nie jest abstrakcyjna, posiada cechy (atrybuty). Jest to też obiekt.\n",
    "\n",
    "Proces tworzenia obiektu z klasy nazywa się INSTANCJONOWANIEM.\n",
    "\n",
    "Poniżej drugi przykład z abstrakcyjnym pojęciem PSA:\n",
    "\n",
    "Abstrakcyjna klasa PIES - ma atrybuty:\n",
    "    \n",
    "    Kolor\n",
    "    Kolor oczu\n",
    "    Wysokość\n",
    "    Długość\n",
    "    Waga\n",
    "    \n",
    "I metody:\n",
    "\n",
    "    Usiądź\n",
    "    Połóż się\n",
    "    Machaj ogonem\n",
    "    Przyjść\n",
    "    \n",
    "A Bobby jest praktyczną realizacją, ma te same metody i ma nadane chechy.\n",
    "\n"
   ]
  },
  {
   "cell_type": "markdown",
   "id": "001a0ed0",
   "metadata": {},
   "source": [
    "Klasy mogą dziedziczyć cechy (jeden z paradygmatów). Tu wyróżniamy <b> klasy nadrzędne </b> i <b> klasy podrzędne </b>. Poniżej przykład:\n",
    "\n",
    "<img src=\"Image5905.gif\"/>"
   ]
  },
  {
   "cell_type": "markdown",
   "id": "9868aa20",
   "metadata": {},
   "source": [
    "Powyżej widzimy diagram klas UML (zaznajomicie się z nim za chwilę)\n",
    "\n",
    "*Klasa nadrzędna* - Osoba, posiada atrybuty - imię, nazwisko, data urodzenia oraz metodę policz wiek\n",
    "\n",
    "*Klasa dziedzicząca (podrzędna)* - Pracownik, posiada atrybuty pensja, stanowisko oraz wszystkie metody klasy nadrzędnej (imię, nazwisko, data urodzenia) oraz metody zmień pensję i policz wiek.\n",
    "\n",
    "*Klasa IPracownik jest interfejsem* - jeszcze jednym elementem realizującym paradygmat programowania obiektowego - hermetyzacji/enkapsulacji - stanowi interfejs operujący na cechach pracownika, czyli jest pośrednikiem dokonującym zmiany w instancjach klasy Pracownik. Interfejs ma za zadanie kontrolować zmiany i ograniczać pożądane ingerencję w cechy instancji klas."
   ]
  },
  {
   "cell_type": "markdown",
   "id": "32092184",
   "metadata": {},
   "source": [
    "Klasy pozwalają na realizację wszystkich czterech paradygmatów programowania obiektowego. Diagram klas UML jak powyżej może zostać przeniesiony i zaimplementowany w Pythonie."
   ]
  },
  {
   "cell_type": "markdown",
   "id": "82ec1e55",
   "metadata": {},
   "source": [
    "## Diagram klas\n",
    "\n",
    "Wykorzystajmy powyższy diagram klas by zrozumieć czym są klasy i jakie są między nimi zależności\n",
    "\n",
    "### 1. Czym jest UML?  \n",
    "UML (Unified Modeling Language) to język graficzny używany do modelowania systemów informatycznych. Diagramy UML pomagają wizualizować strukturę i zachowanie systemów, a jednym z najczęściej stosowanych jest **diagram klas**.  \n",
    "\n",
    "## 2. Diagram Klas UML  \n",
    "Diagram klas przedstawia strukturę systemu poprzez wizualizację klas, ich atrybutów, metod oraz relacji między nimi.\n",
    "\n",
    "### 2.1. Podstawowy diagram klasy  \n",
    "Każda klasa jest reprezentowana jako prostokąt podzielony na trzy sekcje:\n",
    "\n",
    "- **Pierwsza sekcja** zawiera **nazwę klasy**.  \n",
    "- **Druga sekcja** zawiera **atrybuty** klasy (cechy/zmienne).  \n",
    "- **Trzecia sekcja** zawiera **metody** klasy (operacje).  \n",
    "\n",
    "### 2.2. Modyfikatory dostępu  \n",
    "Każdy atrybut i metoda może mieć modyfikator dostępu:  \n",
    "- **`+` (public)** – dostępne wszędzie.  \n",
    "- **`-` (private)** – dostępne tylko wewnątrz klasy.  \n",
    "- **`#` (protected)** – dostępne w klasie i jej podklasach.  \n",
    "\n",
    "\n",
    "## 3. Relacje między klasami  \n",
    "Diagram UML dla klas może przedstawiać różne typy relacji między obiektami:\n",
    "\n",
    "### 3.1. Dziedziczenie (Generalizacja)  \n",
    "Reprezentuje hierarchię klas – klasa podrzędna dziedziczy cechy i metody klasy nadrzędnej.  \n",
    "**Symbol:** Pusty trójkąt skierowany w stronę klasy nadrzędnej. ▲\n",
    "\n",
    "\n",
    "### 3.2. Asocjacja  \n",
    "Reprezentuje związek między dwiema klasami. Może być jednostronna lub dwustronna.  \n",
    "\n",
    "\n",
    "### 3.3. Agregacja (Słaba zależność)  \n",
    "Obiekt jednej klasy może istnieć niezależnie od drugiej klasy. **Symbol:** Pusty romb.  \n",
    "\n",
    "\n",
    "### 3.4. Kompozycja (Silna zależność)  \n",
    "Obiekt klasy zawieranej **nie może istnieć** bez klasy nadrzędnej. **Symbol:** Wypełniony romb.  \n",
    "\n",
    "### Podsumowanie\n",
    "\n",
    "Diagramy UML dla klas reprezentują obiektowy sposób modelowania struktury systemów. Te struktury, przedstawione w UML mogą być zaimplementowane z powodzeniem w języku obiektowym, takim jak <b> Python </b>.\n",
    "\n",
    "Najważniejsze elementy diagramów UML:\n",
    "\n",
    "    Klasy z atrybutami i metodami.\n",
    "    Relacje: dziedziczenie, asocjacja, agregacja, kompozycja.\n",
    "    Modyfikatory dostępu regulujące dostęp do danych.\n",
    "\n",
    "Dzięki UML programiści i analitycy mogą lepiej planować i komunikować strukturę systemu przed jego implementacją."
   ]
  }
 ],
 "metadata": {
  "kernelspec": {
   "display_name": "Python 3 (ipykernel)",
   "language": "python",
   "name": "python3"
  },
  "language_info": {
   "codemirror_mode": {
    "name": "ipython",
    "version": 3
   },
   "file_extension": ".py",
   "mimetype": "text/x-python",
   "name": "python",
   "nbconvert_exporter": "python",
   "pygments_lexer": "ipython3",
   "version": "3.9.12"
  }
 },
 "nbformat": 4,
 "nbformat_minor": 5
}