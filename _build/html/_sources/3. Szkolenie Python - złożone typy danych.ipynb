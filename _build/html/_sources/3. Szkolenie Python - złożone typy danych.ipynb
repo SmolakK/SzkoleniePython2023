{
 "cells": [
  {
   "cell_type": "markdown",
   "id": "2ddd8309",
   "metadata": {},
   "source": [
    "<center>\n",
    "<h1>Python - złożone typy danych </h1>\n",
    "</center>    \n"
   ]
  },
  {
   "cell_type": "markdown",
   "id": "c73f6e36",
   "metadata": {},
   "source": [
    "### Złożone typy danych\n",
    "\n",
    "Złożone typy danych to takie, które składają się z typów podstawowych - wbudowanych, czyli takie, które mogą zostać rozłożone na prostsze czynniki.\n",
    "\n",
    "------\n",
    "Pierwszy złożony typ danych już poznaliśmy, był to....\n",
    "\n",
    "\n",
    "### Tekst (str)"
   ]
  },
  {
   "cell_type": "code",
   "execution_count": 1,
   "id": "7e80452d",
   "metadata": {},
   "outputs": [],
   "source": [
    "tekst1 = 'T' # tylko jeden znak\n",
    "tekst2 = 'Tekst' # kilka znaków - złożony typ danych"
   ]
  },
  {
   "cell_type": "markdown",
   "id": "e2a96280",
   "metadata": {},
   "source": [
    "Istotną funkcjonalnością złożonych typów danych jest ich indeksowanie\n",
    "\n",
    "Indeksowanie pozwala na pobranie wartości obiektu złożonego - ze znaków, z wartości lub z innych obiektów.\n",
    "\n",
    "<b>Indeks w Pythonie liczymy od zera</b>"
   ]
  },
  {
   "cell_type": "code",
   "execution_count": 2,
   "id": "cf52dcbb",
   "metadata": {},
   "outputs": [
    {
     "name": "stdout",
     "output_type": "stream",
     "text": [
      " \n"
     ]
    }
   ],
   "source": [
    "s = \"Monty Python\"\n",
    "print(s[5])"
   ]
  },
  {
   "cell_type": "markdown",
   "id": "764f0b85",
   "metadata": {},
   "source": [
    "### Ćwiczenie:\n",
    "Spróbuj wybrać taki indeks, żeby otrzymać literę 'y'"
   ]
  },
  {
   "cell_type": "code",
   "execution_count": null,
   "id": "f74ec1a1",
   "metadata": {},
   "outputs": [],
   "source": [
    "# tutaj"
   ]
  },
  {
   "cell_type": "markdown",
   "id": "dfb54ca2",
   "metadata": {},
   "source": [
    "##### Indeksy ujemne\n",
    "Co się stało poniżej?"
   ]
  },
  {
   "cell_type": "code",
   "execution_count": 3,
   "id": "f938732c",
   "metadata": {},
   "outputs": [
    {
     "name": "stdout",
     "output_type": "stream",
     "text": [
      "n\n"
     ]
    }
   ],
   "source": [
    "print(s[-1])"
   ]
  },
  {
   "cell_type": "markdown",
   "id": "83bfa54f",
   "metadata": {},
   "source": [
    "Indeksowanie działa tylko w typach złożonych:"
   ]
  },
  {
   "cell_type": "code",
   "execution_count": 4,
   "id": "453c771c",
   "metadata": {},
   "outputs": [
    {
     "ename": "TypeError",
     "evalue": "'int' object is not subscriptable",
     "output_type": "error",
     "traceback": [
      "\u001b[1;31m---------------------------------------------------------------------------\u001b[0m",
      "\u001b[1;31mTypeError\u001b[0m                                 Traceback (most recent call last)",
      "Cell \u001b[1;32mIn[4], line 2\u001b[0m\n\u001b[0;32m      1\u001b[0m a \u001b[38;5;241m=\u001b[39m \u001b[38;5;241m232\u001b[39m\n\u001b[1;32m----> 2\u001b[0m \u001b[38;5;28mprint\u001b[39m(\u001b[43ma\u001b[49m\u001b[43m[\u001b[49m\u001b[38;5;241;43m0\u001b[39;49m\u001b[43m]\u001b[49m)\n",
      "\u001b[1;31mTypeError\u001b[0m: 'int' object is not subscriptable"
     ]
    }
   ],
   "source": [
    "a = 232\n",
    "print(a[0])"
   ]
  },
  {
   "cell_type": "markdown",
   "id": "ff932b4f",
   "metadata": {},
   "source": [
    "##### Funkcja wbudowana len()"
   ]
  },
  {
   "cell_type": "code",
   "execution_count": 5,
   "id": "c0e8f6df",
   "metadata": {},
   "outputs": [
    {
     "name": "stdout",
     "output_type": "stream",
     "text": [
      "12\n"
     ]
    }
   ],
   "source": [
    "print(len(s))"
   ]
  },
  {
   "cell_type": "markdown",
   "id": "2835dcb9",
   "metadata": {},
   "source": [
    "<h2> Wycinki </h2>\n",
    "Podobnie do indeksowania pozyskują wartości, z tą różnicą że pobieramy wybrany fragment"
   ]
  },
  {
   "cell_type": "code",
   "execution_count": 6,
   "id": "068b3505",
   "metadata": {},
   "outputs": [
    {
     "name": "stdout",
     "output_type": "stream",
     "text": [
      "Monty\n"
     ]
    }
   ],
   "source": [
    "s = \"Monty Python\"\n",
    "print(s[0:5]) #ciągi z lewej strony są domknięte, a z prawej niedomknięte"
   ]
  },
  {
   "cell_type": "code",
   "execution_count": 10,
   "id": "203cadc4",
   "metadata": {},
   "outputs": [
    {
     "name": "stdout",
     "output_type": "stream",
     "text": [
      "Mo\n"
     ]
    }
   ],
   "source": [
    "s = \"Monty Python\"\n",
    "print(s[:2]) #od początku"
   ]
  },
  {
   "cell_type": "code",
   "execution_count": 11,
   "id": "d61cc5b9",
   "metadata": {},
   "outputs": [
    {
     "name": "stdout",
     "output_type": "stream",
     "text": [
      "nty Python\n"
     ]
    }
   ],
   "source": [
    "s = \"Monty Python\"\n",
    "print(s[2:]) # do końca"
   ]
  },
  {
   "cell_type": "code",
   "execution_count": 9,
   "id": "4266ca66",
   "metadata": {},
   "outputs": [
    {
     "name": "stdout",
     "output_type": "stream",
     "text": [
      "nyP\n"
     ]
    }
   ],
   "source": [
    "s = \"Monty Python\"\n",
    "print(s[2:8:2]) # od 2 do 8 (wyłączając 8my indeks), co drugi znak"
   ]
  },
  {
   "cell_type": "markdown",
   "id": "cf9b0435",
   "metadata": {},
   "source": [
    "#### Ćwiczenie\n",
    "Co wykonuje poniższa operacja?"
   ]
  },
  {
   "cell_type": "code",
   "execution_count": 13,
   "id": "f7296b6c",
   "metadata": {},
   "outputs": [
    {
     "name": "stdout",
     "output_type": "stream",
     "text": [
      "MnyPto\n"
     ]
    }
   ],
   "source": [
    "s = \"Monty Python\"\n",
    "print(s[::2])"
   ]
  },
  {
   "cell_type": "markdown",
   "id": "2e19246f",
   "metadata": {},
   "source": [
    "#### Ćwiczenie\n",
    "Spróbuj wyświetlić słowo stosując ujemny krok. Na podstawie wyniki, co powoduje ta operacja?"
   ]
  },
  {
   "cell_type": "code",
   "execution_count": 14,
   "id": "8091b47a",
   "metadata": {},
   "outputs": [],
   "source": [
    "s = \"Monty Python\"\n",
    "# tutaj"
   ]
  },
  {
   "cell_type": "markdown",
   "id": "b4bf7400",
   "metadata": {},
   "source": [
    "<h1> Typy typowe dla Pythona</h1>\n",
    "\n",
    "Python oferuje wiele dodatkowych typów danych złożonych, zwłaszcza za pośrednictwem bibliotek.\n",
    "\n",
    "Kilka z nich jest jednak wbudowane w język i są bardzo użyteczne, a ich znajomość ułatwia pracę. Są to:\n",
    "<ul>\n",
    "    <li>Listy</li>\n",
    "    <li>Słowniki</li>\n",
    "    <li>Krotka</li>\n",
    "    <li>Zbiór</li>\n",
    "</ul>\n",
    "\n",
    "<h2>Listy</h2>\n",
    "Pozwalają przechowywać wiele elementów, <b>dowolnego</b> typu, są modyfikowalne i zachowują kolejność elementów\n",
    "Definiuje się je przez []\n"
   ]
  },
  {
   "cell_type": "code",
   "execution_count": 15,
   "id": "a241b278",
   "metadata": {},
   "outputs": [
    {
     "name": "stdout",
     "output_type": "stream",
     "text": [
      "[2, 3]\n"
     ]
    }
   ],
   "source": [
    "nowa_lista = [2,3]\n",
    "print(nowa_lista)"
   ]
  },
  {
   "cell_type": "code",
   "execution_count": 16,
   "id": "af51239d",
   "metadata": {},
   "outputs": [
    {
     "name": "stdout",
     "output_type": "stream",
     "text": [
      "<class 'list'>\n"
     ]
    }
   ],
   "source": [
    "print(type(nowa_lista))"
   ]
  },
  {
   "cell_type": "code",
   "execution_count": 17,
   "id": "892fcaf1",
   "metadata": {},
   "outputs": [
    {
     "name": "stdout",
     "output_type": "stream",
     "text": [
      "<class 'list'>\n"
     ]
    }
   ],
   "source": [
    "nowa_lista = [1,2,4,5,8] #lista int\n",
    "nowa_lista2 = ['jeden','dwa','cztery','pięć'] #lista str\n",
    "print(type(nowa_lista2))"
   ]
  },
  {
   "cell_type": "markdown",
   "id": "a0dd0900",
   "metadata": {},
   "source": [
    "Listy mogą mieszać typy danych"
   ]
  },
  {
   "cell_type": "code",
   "execution_count": 18,
   "id": "ce3caeb3",
   "metadata": {},
   "outputs": [],
   "source": [
    "lista_mieszana = [1,4,'pięć',False]"
   ]
  },
  {
   "cell_type": "code",
   "execution_count": 19,
   "id": "6359b74e",
   "metadata": {},
   "outputs": [],
   "source": [
    "listcepcja = [1,[3,4],'dwa',['zaraz zagnieździmy',['kolejne gniazdo']]]"
   ]
  },
  {
   "cell_type": "markdown",
   "id": "7fb004ce",
   "metadata": {},
   "source": [
    "<h3> Indeksowanie w listach </h3>"
   ]
  },
  {
   "cell_type": "code",
   "execution_count": 21,
   "id": "ee32ab68",
   "metadata": {},
   "outputs": [
    {
     "name": "stdout",
     "output_type": "stream",
     "text": [
      "['zaraz zagnieździmy', ['kolejne gniazdo']]\n"
     ]
    }
   ],
   "source": [
    "listcepcja = [1,[3,4],'dwa',['zaraz zagnieździmy',['kolejne gniazdo']]]\n",
    "print(listcepcja[3])"
   ]
  },
  {
   "cell_type": "markdown",
   "id": "46139a84",
   "metadata": {},
   "source": [
    "#### Ćwiczenie:\n",
    "Spróbuj otrzymać literę o ze słowa 'kolejne gniazdo'"
   ]
  },
  {
   "cell_type": "code",
   "execution_count": 22,
   "id": "6e01eeea",
   "metadata": {},
   "outputs": [],
   "source": [
    "#tutaj"
   ]
  },
  {
   "cell_type": "code",
   "execution_count": 23,
   "id": "1a5faaa6",
   "metadata": {},
   "outputs": [
    {
     "name": "stdout",
     "output_type": "stream",
     "text": [
      "[1, [3, 4]]\n"
     ]
    }
   ],
   "source": [
    "print(listcepcja[:2])"
   ]
  },
  {
   "cell_type": "code",
   "execution_count": 24,
   "id": "2571ce4c",
   "metadata": {},
   "outputs": [
    {
     "name": "stdout",
     "output_type": "stream",
     "text": [
      "[['zaraz zagnieździmy', ['kolejne gniazdo']], 'dwa', [3, 4], 1]\n"
     ]
    }
   ],
   "source": [
    "print(listcepcja[::-1])"
   ]
  },
  {
   "cell_type": "markdown",
   "id": "6bc5eaee",
   "metadata": {},
   "source": [
    "<h3> Modyfikacja listy - dodawanie i zmiana elementów</h3>\n",
    "\n",
    "#### Poprzez indeks:"
   ]
  },
  {
   "cell_type": "code",
   "execution_count": 25,
   "id": "56f5c44e",
   "metadata": {},
   "outputs": [
    {
     "name": "stdout",
     "output_type": "stream",
     "text": [
      "['jeden', 2, 3, 4, 5]\n"
     ]
    }
   ],
   "source": [
    "lista = [1,2,3,4,5]\n",
    "lista[0] = \"jeden\" #POPRZEZ INDEKS\n",
    "print(lista)"
   ]
  },
  {
   "cell_type": "code",
   "execution_count": 28,
   "id": "ed649f53",
   "metadata": {},
   "outputs": [
    {
     "name": "stdout",
     "output_type": "stream",
     "text": [
      "[1, 'dwa', 3, 4, 5]\n"
     ]
    }
   ],
   "source": [
    "lista = [1,2,3,4,5]\n",
    "lista[1] = 'dwa'\n",
    "print(lista)"
   ]
  },
  {
   "cell_type": "markdown",
   "id": "309ed1c4",
   "metadata": {},
   "source": [
    "### Dodawanie do listy:"
   ]
  },
  {
   "cell_type": "code",
   "execution_count": 29,
   "id": "13861a91",
   "metadata": {},
   "outputs": [
    {
     "name": "stdout",
     "output_type": "stream",
     "text": [
      "[1, 2, 3, 4, 5, 'siedem']\n"
     ]
    }
   ],
   "source": [
    "lista = [1,2,3,4,5]\n",
    "lista.append(\"siedem\") #DODAJ DO KOŃCA\n",
    "print(lista)"
   ]
  },
  {
   "cell_type": "code",
   "execution_count": 30,
   "id": "9e24d269",
   "metadata": {},
   "outputs": [
    {
     "name": "stdout",
     "output_type": "stream",
     "text": [
      "[1, 2, 3, 4, 5, 'siedem']\n"
     ]
    }
   ],
   "source": [
    "lista = [1,2,3,4,5]\n",
    "lista = lista + ['siedem']\n",
    "print(lista)"
   ]
  },
  {
   "cell_type": "markdown",
   "id": "e3a82a44",
   "metadata": {},
   "source": [
    "<h3> Modyfikacja listy - usuwanie elementów</h3>"
   ]
  },
  {
   "cell_type": "code",
   "execution_count": 31,
   "id": "0c41a66c",
   "metadata": {},
   "outputs": [
    {
     "name": "stdout",
     "output_type": "stream",
     "text": [
      "None\n",
      "[2, 3, 4, 5]\n"
     ]
    }
   ],
   "source": [
    "lista = [1,2,3,4,5]\n",
    "print(lista.remove(1))\n",
    "print(lista)"
   ]
  },
  {
   "cell_type": "code",
   "execution_count": 34,
   "id": "82a4af9d",
   "metadata": {},
   "outputs": [
    {
     "name": "stdout",
     "output_type": "stream",
     "text": [
      "2\n",
      "[1, 3, 4, 5]\n"
     ]
    }
   ],
   "source": [
    "lista = [1,2,3,4,5]\n",
    "print(lista.pop(1))\n",
    "print(lista)"
   ]
  },
  {
   "cell_type": "markdown",
   "id": "b19699e1",
   "metadata": {},
   "source": [
    "Widzisz różnicę pomiędzy dwiema powyższymi operacjami?\n",
    "\n",
    "<h3> Przeszukiwanie list </h3>"
   ]
  },
  {
   "cell_type": "code",
   "execution_count": 37,
   "id": "e8c3bf4f",
   "metadata": {},
   "outputs": [
    {
     "name": "stdout",
     "output_type": "stream",
     "text": [
      "False\n",
      "True\n"
     ]
    }
   ],
   "source": [
    "lista = [\"sto\",'marcepan',3,4]\n",
    "print(\"st\" in lista)\n",
    "print(\"sto\" in lista)"
   ]
  },
  {
   "cell_type": "code",
   "execution_count": 38,
   "id": "6d1befc7",
   "metadata": {},
   "outputs": [
    {
     "data": {
      "text/plain": [
       "0"
      ]
     },
     "execution_count": 38,
     "metadata": {},
     "output_type": "execute_result"
    }
   ],
   "source": [
    "lista.index(\"sto\")"
   ]
  },
  {
   "cell_type": "markdown",
   "id": "376fa032",
   "metadata": {},
   "source": [
    "#### Ćwiczenie\n",
    "1. Skorzystaj z operacji przeszukiwania szukając znaków \"yt\" w słowie \"Python\"\n",
    "2. Skorzystaj z operacji przeszukiwania by sprawdzić czy \"st\" znajduje się w pierwszym elemencie powyższej listy\n",
    "3. Spróbuj pomnożyć listę"
   ]
  },
  {
   "cell_type": "code",
   "execution_count": 39,
   "id": "17ba160b",
   "metadata": {},
   "outputs": [],
   "source": [
    "#tutaj 1"
   ]
  },
  {
   "cell_type": "code",
   "execution_count": 40,
   "id": "ccb50602",
   "metadata": {},
   "outputs": [],
   "source": [
    "#tutaj 2"
   ]
  },
  {
   "cell_type": "code",
   "execution_count": 41,
   "id": "5b53916b",
   "metadata": {},
   "outputs": [],
   "source": [
    "#tutaj 3"
   ]
  },
  {
   "cell_type": "markdown",
   "id": "7a1139a0",
   "metadata": {},
   "source": [
    "<h2> Krotki</h2>\n",
    "    Są jak listy...z tą różnicą że nie są modyfikowalne.\n",
    "    \n",
    "    Definiujemy je poprzez ()"
   ]
  },
  {
   "cell_type": "code",
   "execution_count": 42,
   "id": "8336ca14",
   "metadata": {},
   "outputs": [
    {
     "name": "stdout",
     "output_type": "stream",
     "text": [
      "(2, 'da', 4)\n",
      "<class 'tuple'>\n"
     ]
    }
   ],
   "source": [
    "krotka1 = (2,\"da\",4)\n",
    "print(krotka1)\n",
    "print(type(krotka1))"
   ]
  },
  {
   "cell_type": "markdown",
   "id": "cc9a3d8d",
   "metadata": {},
   "source": [
    "### Indeksowanie krotek"
   ]
  },
  {
   "cell_type": "code",
   "execution_count": 44,
   "id": "734ff90c",
   "metadata": {},
   "outputs": [
    {
     "name": "stdout",
     "output_type": "stream",
     "text": [
      "(2, 'da')\n"
     ]
    }
   ],
   "source": [
    "krotka1 = (2,\"da\",4)\n",
    "print(krotka1[0:2:1])"
   ]
  },
  {
   "cell_type": "markdown",
   "id": "fb19a1bf",
   "metadata": {},
   "source": [
    "#### Ćwiczenie:\n",
    "\n",
    "Spróbuj wyświetlić krotkę od końca"
   ]
  },
  {
   "cell_type": "markdown",
   "id": "f75ee361",
   "metadata": {},
   "source": [
    "### Modyfikacje krotek"
   ]
  },
  {
   "cell_type": "code",
   "execution_count": 45,
   "id": "4f6210a2",
   "metadata": {},
   "outputs": [
    {
     "ename": "TypeError",
     "evalue": "'tuple' object does not support item assignment",
     "output_type": "error",
     "traceback": [
      "\u001b[1;31m---------------------------------------------------------------------------\u001b[0m",
      "\u001b[1;31mTypeError\u001b[0m                                 Traceback (most recent call last)",
      "Cell \u001b[1;32mIn[45], line 1\u001b[0m\n\u001b[1;32m----> 1\u001b[0m krotka1[\u001b[38;5;241m0\u001b[39m] \u001b[38;5;241m=\u001b[39m \u001b[38;5;241m3\u001b[39m\n",
      "\u001b[1;31mTypeError\u001b[0m: 'tuple' object does not support item assignment"
     ]
    }
   ],
   "source": [
    "krotka1[0] = 3"
   ]
  },
  {
   "cell_type": "code",
   "execution_count": 46,
   "id": "75b2dfda",
   "metadata": {},
   "outputs": [
    {
     "ename": "AttributeError",
     "evalue": "'tuple' object has no attribute 'remove'",
     "output_type": "error",
     "traceback": [
      "\u001b[1;31m---------------------------------------------------------------------------\u001b[0m",
      "\u001b[1;31mAttributeError\u001b[0m                            Traceback (most recent call last)",
      "Cell \u001b[1;32mIn[46], line 1\u001b[0m\n\u001b[1;32m----> 1\u001b[0m \u001b[43mkrotka1\u001b[49m\u001b[38;5;241;43m.\u001b[39;49m\u001b[43mremove\u001b[49m(\u001b[38;5;241m3\u001b[39m)\n",
      "\u001b[1;31mAttributeError\u001b[0m: 'tuple' object has no attribute 'remove'"
     ]
    }
   ],
   "source": [
    "krotka1.remove(3)"
   ]
  },
  {
   "cell_type": "markdown",
   "id": "90b38f79",
   "metadata": {},
   "source": [
    "<h2>Zbiory</h2>\n",
    "Przechowują dane, są niemodyfikowalne, nie zachowują kolejności, przechowują tylko <b>unikalne</b> elementy, przechowuje dowolne elementy\n",
    "\n",
    "#### Definicja zbioru:"
   ]
  },
  {
   "cell_type": "code",
   "execution_count": 47,
   "id": "5f886722",
   "metadata": {},
   "outputs": [
    {
     "name": "stdout",
     "output_type": "stream",
     "text": [
      "{'a', 3, 4, 5}\n",
      "<class 'set'>\n"
     ]
    }
   ],
   "source": [
    "zbior = set([3,4,5,\"a\"])\n",
    "print(zbior)\n",
    "print(type(zbior))"
   ]
  },
  {
   "cell_type": "code",
   "execution_count": 50,
   "id": "bddf2ec6",
   "metadata": {},
   "outputs": [
    {
     "name": "stdout",
     "output_type": "stream",
     "text": [
      "[1, 1, 1, 1, 1, 1, 1, 1, 2, 2, 2, 2, 2, 3, 3, 3, 3, 3, 3]\n",
      "{1, 2, 3}\n"
     ]
    }
   ],
   "source": [
    "x = [1,1,1,1,1,1,1,1,2,2,2,2,2,3,3,3,3,3,3]\n",
    "print(x)\n",
    "x = set(x)\n",
    "print(x)"
   ]
  },
  {
   "cell_type": "markdown",
   "id": "f0e7764a",
   "metadata": {},
   "source": [
    "### Indeksowanie zbiorów"
   ]
  },
  {
   "cell_type": "code",
   "execution_count": 51,
   "id": "014add36",
   "metadata": {},
   "outputs": [
    {
     "ename": "TypeError",
     "evalue": "'set' object is not subscriptable",
     "output_type": "error",
     "traceback": [
      "\u001b[1;31m---------------------------------------------------------------------------\u001b[0m",
      "\u001b[1;31mTypeError\u001b[0m                                 Traceback (most recent call last)",
      "Cell \u001b[1;32mIn[51], line 1\u001b[0m\n\u001b[1;32m----> 1\u001b[0m \u001b[43mzbior\u001b[49m\u001b[43m[\u001b[49m\u001b[38;5;241;43m0\u001b[39;49m\u001b[43m]\u001b[49m\n",
      "\u001b[1;31mTypeError\u001b[0m: 'set' object is not subscriptable"
     ]
    }
   ],
   "source": [
    "zbior[0]"
   ]
  },
  {
   "cell_type": "markdown",
   "id": "ff2b27ad",
   "metadata": {},
   "source": [
    "### Modyfikowanie zbiorów"
   ]
  },
  {
   "cell_type": "code",
   "execution_count": 52,
   "id": "51ffdf14",
   "metadata": {},
   "outputs": [
    {
     "ename": "TypeError",
     "evalue": "'set' object does not support item assignment",
     "output_type": "error",
     "traceback": [
      "\u001b[1;31m---------------------------------------------------------------------------\u001b[0m",
      "\u001b[1;31mTypeError\u001b[0m                                 Traceback (most recent call last)",
      "Cell \u001b[1;32mIn[52], line 1\u001b[0m\n\u001b[1;32m----> 1\u001b[0m zbior[\u001b[38;5;241m0\u001b[39m] \u001b[38;5;241m=\u001b[39m \u001b[38;5;241m2\u001b[39m\n",
      "\u001b[1;31mTypeError\u001b[0m: 'set' object does not support item assignment"
     ]
    }
   ],
   "source": [
    "zbior[0] = 2"
   ]
  },
  {
   "cell_type": "markdown",
   "id": "334874db",
   "metadata": {},
   "source": [
    "### Dodatkowe funkcje zbiorów"
   ]
  },
  {
   "cell_type": "code",
   "execution_count": 53,
   "id": "c524d65b",
   "metadata": {},
   "outputs": [
    {
     "name": "stdout",
     "output_type": "stream",
     "text": [
      "{1, 2, 3, 4, 5}\n"
     ]
    }
   ],
   "source": [
    "z1 = set([1,2,3])\n",
    "z2 = set([3,4,5])\n",
    "print(z1.union(z2))"
   ]
  },
  {
   "cell_type": "code",
   "execution_count": 54,
   "id": "c63f1886",
   "metadata": {},
   "outputs": [
    {
     "name": "stdout",
     "output_type": "stream",
     "text": [
      "{3}\n"
     ]
    }
   ],
   "source": [
    "print(z1.intersection(z2))"
   ]
  },
  {
   "cell_type": "markdown",
   "id": "e85f558a",
   "metadata": {},
   "source": [
    "<h2>Słowniki</h2>\n",
    "Słowniki to jeden z najważniejszych typów wbudowanych Pythona. Opisuje on związek par wartość - klucz. \n",
    "Słownik nie zachowuje kolejności elementów. Definiuje się go za pomocą {}\n",
    "\n",
    "#### Definicja:"
   ]
  },
  {
   "cell_type": "code",
   "execution_count": 55,
   "id": "0282b58a",
   "metadata": {},
   "outputs": [
    {
     "name": "stdout",
     "output_type": "stream",
     "text": [
      "{'klucz': 'wartosc'}\n",
      "<class 'dict'>\n"
     ]
    }
   ],
   "source": [
    "dict1 = {'klucz': 'wartosc'}\n",
    "print(dict1)\n",
    "print(type(dict1))"
   ]
  },
  {
   "cell_type": "code",
   "execution_count": 56,
   "id": "ac0f38d6",
   "metadata": {},
   "outputs": [
    {
     "name": "stdout",
     "output_type": "stream",
     "text": [
      "{'klucz1': 2, 2: 'w'}\n"
     ]
    }
   ],
   "source": [
    "dict1 = {'klucz1': 2, 2: 'w'}\n",
    "print(dict1)"
   ]
  },
  {
   "cell_type": "markdown",
   "id": "6301bb8e",
   "metadata": {},
   "source": [
    "### Indeksowanie "
   ]
  },
  {
   "cell_type": "code",
   "execution_count": 59,
   "id": "d5c7db7c",
   "metadata": {},
   "outputs": [
    {
     "ename": "KeyError",
     "evalue": "0",
     "output_type": "error",
     "traceback": [
      "\u001b[1;31m---------------------------------------------------------------------------\u001b[0m",
      "\u001b[1;31mKeyError\u001b[0m                                  Traceback (most recent call last)",
      "Cell \u001b[1;32mIn[59], line 2\u001b[0m\n\u001b[0;32m      1\u001b[0m dict1 \u001b[38;5;241m=\u001b[39m {\u001b[38;5;124m'\u001b[39m\u001b[38;5;124mklucz1\u001b[39m\u001b[38;5;124m'\u001b[39m: \u001b[38;5;241m2\u001b[39m, \u001b[38;5;241m2\u001b[39m: \u001b[38;5;124m'\u001b[39m\u001b[38;5;124mw\u001b[39m\u001b[38;5;124m'\u001b[39m}\n\u001b[1;32m----> 2\u001b[0m \u001b[38;5;28mprint\u001b[39m(\u001b[43mdict1\u001b[49m\u001b[43m[\u001b[49m\u001b[38;5;241;43m0\u001b[39;49m\u001b[43m]\u001b[49m)\n",
      "\u001b[1;31mKeyError\u001b[0m: 0"
     ]
    }
   ],
   "source": [
    "dict1 = {'klucz1': 2, 2: 'w'}\n",
    "print(dict1[0])"
   ]
  },
  {
   "cell_type": "markdown",
   "id": "af0f1aa4",
   "metadata": {},
   "source": [
    "#### Ćwiczenie:\n",
    "Spróbuj określić dlaczego poniższy indeks zadziałał:"
   ]
  },
  {
   "cell_type": "code",
   "execution_count": 60,
   "id": "38590eca",
   "metadata": {},
   "outputs": [
    {
     "name": "stdout",
     "output_type": "stream",
     "text": [
      "w\n"
     ]
    }
   ],
   "source": [
    "dict1 = {'klucz1': 2, 2: 'w'}\n",
    "print(dict1[2])"
   ]
  },
  {
   "cell_type": "markdown",
   "id": "67516217",
   "metadata": {},
   "source": [
    "<h3> Modyfikacje słownika </h3>\n",
    "\n",
    "Nadpisywanie"
   ]
  },
  {
   "cell_type": "code",
   "execution_count": 62,
   "id": "f0da2447",
   "metadata": {},
   "outputs": [
    {
     "name": "stdout",
     "output_type": "stream",
     "text": [
      "{'klucz1': 100, 2: 3}\n"
     ]
    }
   ],
   "source": [
    "dict1 = {'klucz1': 'wartosc1', 2: 3}\n",
    "dict1['klucz1'] = 100\n",
    "print(dict1)"
   ]
  },
  {
   "cell_type": "markdown",
   "id": "25c3682f",
   "metadata": {},
   "source": [
    "Nowa wartość"
   ]
  },
  {
   "cell_type": "code",
   "execution_count": 63,
   "id": "b8340090",
   "metadata": {},
   "outputs": [
    {
     "name": "stdout",
     "output_type": "stream",
     "text": [
      "{'klucz1': 100, 2: 3, 'klucz3': 300}\n"
     ]
    }
   ],
   "source": [
    "dict1['klucz3'] = 300\n",
    "print(dict1)"
   ]
  },
  {
   "cell_type": "markdown",
   "id": "e13f4326",
   "metadata": {},
   "source": [
    "Usuwanie elementów"
   ]
  },
  {
   "cell_type": "code",
   "execution_count": 64,
   "id": "0ce8b69a",
   "metadata": {},
   "outputs": [
    {
     "name": "stdout",
     "output_type": "stream",
     "text": [
      "{2: 3}\n"
     ]
    }
   ],
   "source": [
    "dict1 = {'klucz1': 'wartosc1', 2: 3}\n",
    "del dict1['klucz1']\n",
    "print(dict1)"
   ]
  },
  {
   "cell_type": "markdown",
   "id": "9a494c5f",
   "metadata": {},
   "source": [
    "#### Dodatkowe metody dostępu do słownika"
   ]
  },
  {
   "cell_type": "code",
   "execution_count": 65,
   "id": "7ed8163a",
   "metadata": {},
   "outputs": [
    {
     "name": "stdout",
     "output_type": "stream",
     "text": [
      "dict_keys(['klucz1', 2])\n"
     ]
    }
   ],
   "source": [
    "dict1 = {'klucz1': 'wartosc1', 2: 3}\n",
    "print(dict1.keys())"
   ]
  },
  {
   "cell_type": "code",
   "execution_count": 66,
   "id": "d584433b",
   "metadata": {},
   "outputs": [
    {
     "name": "stdout",
     "output_type": "stream",
     "text": [
      "dict_values(['wartosc1', 3])\n"
     ]
    }
   ],
   "source": [
    "dict1 = {'klucz1': 'wartosc1', 2: 3}\n",
    "print(dict1.values())"
   ]
  },
  {
   "cell_type": "code",
   "execution_count": 67,
   "id": "3f8ff4aa",
   "metadata": {},
   "outputs": [
    {
     "name": "stdout",
     "output_type": "stream",
     "text": [
      "dict_items([('klucz1', 'wartosc1'), (2, 3)])\n"
     ]
    }
   ],
   "source": [
    "dict1 = {'klucz1': 'wartosc1', 2: 3}\n",
    "print(dict1.items())"
   ]
  },
  {
   "cell_type": "markdown",
   "id": "b22bb0b8",
   "metadata": {},
   "source": [
    "## Funkcje wbudowane przydatne w pracy z typami złożonymi"
   ]
  },
  {
   "cell_type": "markdown",
   "id": "9f9e5593",
   "metadata": {},
   "source": [
    "## len()"
   ]
  },
  {
   "cell_type": "code",
   "execution_count": 68,
   "id": "860788c9",
   "metadata": {},
   "outputs": [
    {
     "name": "stdout",
     "output_type": "stream",
     "text": [
      "6\n"
     ]
    }
   ],
   "source": [
    "print(len(\"Python\"))"
   ]
  },
  {
   "cell_type": "code",
   "execution_count": 69,
   "id": "98789530",
   "metadata": {},
   "outputs": [
    {
     "name": "stdout",
     "output_type": "stream",
     "text": [
      "4\n"
     ]
    }
   ],
   "source": [
    "print(len([1,2,3,4]))"
   ]
  },
  {
   "cell_type": "markdown",
   "id": "3bcbab0c",
   "metadata": {},
   "source": [
    "#### Ćwiczenie:\n",
    "Co zwraca len() dla słowników?"
   ]
  },
  {
   "cell_type": "code",
   "execution_count": 75,
   "id": "6693d673",
   "metadata": {},
   "outputs": [],
   "source": [
    "#tutaj"
   ]
  },
  {
   "cell_type": "markdown",
   "id": "06baddf9",
   "metadata": {},
   "source": [
    "### max()"
   ]
  },
  {
   "cell_type": "code",
   "execution_count": 72,
   "id": "aa01f303",
   "metadata": {},
   "outputs": [
    {
     "name": "stdout",
     "output_type": "stream",
     "text": [
      "4\n"
     ]
    }
   ],
   "source": [
    "print(max([1,2,3,4]))"
   ]
  },
  {
   "cell_type": "markdown",
   "id": "efeda6c6",
   "metadata": {},
   "source": [
    "#### Ćwiczenie:\n",
    "Co zwraca max() dla tekstu?"
   ]
  },
  {
   "cell_type": "code",
   "execution_count": 73,
   "id": "555125d6",
   "metadata": {},
   "outputs": [],
   "source": [
    "#tutaj"
   ]
  },
  {
   "cell_type": "markdown",
   "id": "114e1262",
   "metadata": {},
   "source": [
    "### min()"
   ]
  },
  {
   "cell_type": "code",
   "execution_count": 74,
   "id": "943a6ba0",
   "metadata": {},
   "outputs": [
    {
     "name": "stdout",
     "output_type": "stream",
     "text": [
      "1\n"
     ]
    }
   ],
   "source": [
    "print(min([1,2,3,4]))"
   ]
  },
  {
   "cell_type": "markdown",
   "id": "c75aeb53",
   "metadata": {},
   "source": [
    "### range() - lista o zakresie"
   ]
  },
  {
   "cell_type": "code",
   "execution_count": 78,
   "id": "74e69a46",
   "metadata": {},
   "outputs": [
    {
     "name": "stdout",
     "output_type": "stream",
     "text": [
      "range(0, 10)\n"
     ]
    }
   ],
   "source": [
    "print(range(10))"
   ]
  },
  {
   "cell_type": "code",
   "execution_count": 79,
   "id": "64c2a0a0",
   "metadata": {},
   "outputs": [
    {
     "name": "stdout",
     "output_type": "stream",
     "text": [
      "[0, 1, 2, 3, 4, 5, 6, 7, 8, 9]\n"
     ]
    }
   ],
   "source": [
    "print(list(range(10)))"
   ]
  },
  {
   "cell_type": "code",
   "execution_count": 81,
   "id": "c4a41e6f",
   "metadata": {},
   "outputs": [
    {
     "name": "stdout",
     "output_type": "stream",
     "text": [
      "[5, 6, 7, 8, 9]\n"
     ]
    }
   ],
   "source": [
    "print(list(range(5,10)))"
   ]
  },
  {
   "cell_type": "code",
   "execution_count": 82,
   "id": "84477098",
   "metadata": {},
   "outputs": [
    {
     "name": "stdout",
     "output_type": "stream",
     "text": [
      "[1, 4, 7]\n"
     ]
    }
   ],
   "source": [
    "print(list(range(1,10,3)))"
   ]
  },
  {
   "cell_type": "markdown",
   "id": "9dd9facc",
   "metadata": {},
   "source": [
    "#### Ćwiczenie\n",
    "Stwórz listę liczb nieparzystych od 1 do 10, podzielnych przez 2 korzystając z polecenia range i wyświetl ją od końca"
   ]
  },
  {
   "cell_type": "code",
   "execution_count": 1,
   "id": "11973b33",
   "metadata": {},
   "outputs": [],
   "source": [
    "# tutaj"
   ]
  }
 ],
 "metadata": {
  "kernelspec": {
   "display_name": "Python 3 (ipykernel)",
   "language": "python",
   "name": "python3"
  },
  "language_info": {
   "codemirror_mode": {
    "name": "ipython",
    "version": 3
   },
   "file_extension": ".py",
   "mimetype": "text/x-python",
   "name": "python",
   "nbconvert_exporter": "python",
   "pygments_lexer": "ipython3",
   "version": "3.10.9"
  }
 },
 "nbformat": 4,
 "nbformat_minor": 5
}
