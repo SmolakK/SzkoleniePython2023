{
 "cells": [
  {
   "cell_type": "markdown",
   "id": "3032f4f7",
   "metadata": {},
   "source": [
    "<center>\n",
    "<h1>Python - funkcje, definicja funkcji, wyjątki</h1>\n",
    "</center>\n",
    "\n",
    "Ta część szkolenia omawia możliwość ułatwienia pracy z wykorzystaniem własnych funkcji, czyli fragmentów kodu, który możemy wykonywać wielokrotnie za pomocą prostego odwołania.\n",
    "\n",
    "<h2> Funkcje </h2>\n",
    "    \n",
    "    Tworzą one \"wywoływalne bloki instrukcji\".\n",
    "\n",
    "    Są szczególnie przydatne gdy używamy pewnego fragmentu kodu wielokrotnie - zgodnie z ideą DRY (Don't Repeat Yourself)\n",
    "\n",
    "    Mogą (nie muszą) przyjmować parametry/argumenty\n",
    "\n",
    "    Mogą (nie muszą) zwracać obiekt\n",
    "    \n",
    "#### Definicja funkcji\n",
    "```\n",
    "def nazwa_funkcji(argumenty):\n",
    "    instrukcje\n",
    "    ...\n",
    "    return obiekt\n",
    "```\n",
    "Pamiętamy o wcięciu 4 spacjami lub tabulatorem!\n",
    "\n",
    "Przykładowo chcemy zdefiniować funkcję, która po wywołaniu wyświetla tekst \"Hello World!\""
   ]
  },
  {
   "cell_type": "code",
   "execution_count": 3,
   "id": "3b033da8",
   "metadata": {},
   "outputs": [],
   "source": [
    "def hello():\n",
    "    print(\"Hello World!\")\n",
    "#deklaracja nie powoduje uruchomienia"
   ]
  },
  {
   "cell_type": "code",
   "execution_count": 4,
   "id": "9f405b7c",
   "metadata": {},
   "outputs": [
    {
     "name": "stdout",
     "output_type": "stream",
     "text": [
      "Hello World!\n"
     ]
    }
   ],
   "source": [
    "hello() #wywołanie powoduje uruchomienie"
   ]
  },
  {
   "cell_type": "markdown",
   "id": "4b944493",
   "metadata": {},
   "source": [
    "<h3>Wykorzystanie argumentów funkcji</h3>"
   ]
  },
  {
   "cell_type": "code",
   "execution_count": 34,
   "id": "fb53a498",
   "metadata": {},
   "outputs": [
    {
     "name": "stdout",
     "output_type": "stream",
     "text": [
      "7\n"
     ]
    }
   ],
   "source": [
    "def suma(a,b):\n",
    "    print(a+b)\n",
    "suma(4,3)"
   ]
  },
  {
   "cell_type": "markdown",
   "id": "15313bdb",
   "metadata": {},
   "source": [
    "### Return w funkcji"
   ]
  },
  {
   "cell_type": "code",
   "execution_count": 36,
   "id": "ebcff254",
   "metadata": {},
   "outputs": [
    {
     "name": "stdout",
     "output_type": "stream",
     "text": [
      "7\n",
      "None\n"
     ]
    }
   ],
   "source": [
    "def suma(a,b):\n",
    "    print(a+b)\n",
    "x = suma(4,3)\n",
    "print(x) #to zwraca None (nic)"
   ]
  },
  {
   "cell_type": "code",
   "execution_count": 5,
   "id": "244fe1d6",
   "metadata": {},
   "outputs": [],
   "source": [
    "def suma(a,b):\n",
    "    return a+b"
   ]
  },
  {
   "cell_type": "code",
   "execution_count": 6,
   "id": "809c7099",
   "metadata": {},
   "outputs": [
    {
     "name": "stdout",
     "output_type": "stream",
     "text": [
      "7\n"
     ]
    }
   ],
   "source": [
    "print(suma(4,3))"
   ]
  },
  {
   "cell_type": "code",
   "execution_count": 7,
   "id": "f8e6199c",
   "metadata": {},
   "outputs": [
    {
     "name": "stdout",
     "output_type": "stream",
     "text": [
      "7\n"
     ]
    }
   ],
   "source": [
    "x = suma(4,3)\n",
    "print(x)"
   ]
  },
  {
   "cell_type": "markdown",
   "id": "216ebf9d",
   "metadata": {},
   "source": [
    "Kolejność argumentów ma znaczenie!"
   ]
  },
  {
   "cell_type": "code",
   "execution_count": 10,
   "id": "b0d69931",
   "metadata": {},
   "outputs": [],
   "source": [
    "def diff(a,b):\n",
    "    return a-b"
   ]
  },
  {
   "cell_type": "code",
   "execution_count": 11,
   "id": "624b05d3",
   "metadata": {},
   "outputs": [
    {
     "name": "stdout",
     "output_type": "stream",
     "text": [
      "1\n"
     ]
    }
   ],
   "source": [
    "print(diff(4,3))"
   ]
  },
  {
   "cell_type": "code",
   "execution_count": 12,
   "id": "6d5f1857",
   "metadata": {},
   "outputs": [
    {
     "name": "stdout",
     "output_type": "stream",
     "text": [
      "-1\n"
     ]
    }
   ],
   "source": [
    "print(diff(3,4))"
   ]
  },
  {
   "cell_type": "markdown",
   "id": "dc8f910f",
   "metadata": {},
   "source": [
    "Wywołanie z <b>argumentem kluczowym</b> (czyli po nazwie):"
   ]
  },
  {
   "cell_type": "code",
   "execution_count": 13,
   "id": "91457dd1",
   "metadata": {},
   "outputs": [
    {
     "name": "stdout",
     "output_type": "stream",
     "text": [
      "-1\n"
     ]
    }
   ],
   "source": [
    "print(diff(a=3,b=4))"
   ]
  },
  {
   "cell_type": "code",
   "execution_count": 14,
   "id": "3c3725fe",
   "metadata": {},
   "outputs": [
    {
     "name": "stdout",
     "output_type": "stream",
     "text": [
      "-1\n"
     ]
    }
   ],
   "source": [
    "print(diff(b=4,a=3))"
   ]
  },
  {
   "cell_type": "markdown",
   "id": "800d4c44",
   "metadata": {},
   "source": [
    "Dodanie <b> argumentów domyślnych </b> do funkcji:"
   ]
  },
  {
   "cell_type": "code",
   "execution_count": 15,
   "id": "96c0c870",
   "metadata": {},
   "outputs": [],
   "source": [
    "def diff(a=100,b=10):\n",
    "    return a-b"
   ]
  },
  {
   "cell_type": "code",
   "execution_count": 16,
   "id": "4719ad9b",
   "metadata": {},
   "outputs": [
    {
     "data": {
      "text/plain": [
       "90"
      ]
     },
     "execution_count": 16,
     "metadata": {},
     "output_type": "execute_result"
    }
   ],
   "source": [
    "diff() #bierze argumenty domyślne"
   ]
  },
  {
   "cell_type": "code",
   "execution_count": 17,
   "id": "0baeb6a8",
   "metadata": {},
   "outputs": [
    {
     "data": {
      "text/plain": [
       "190"
      ]
     },
     "execution_count": 17,
     "metadata": {},
     "output_type": "execute_result"
    }
   ],
   "source": [
    "diff(200) #pierwszy podany, drugi nie"
   ]
  },
  {
   "cell_type": "code",
   "execution_count": 18,
   "id": "ce91184a",
   "metadata": {},
   "outputs": [
    {
     "data": {
      "text/plain": [
       "0"
      ]
     },
     "execution_count": 18,
     "metadata": {},
     "output_type": "execute_result"
    }
   ],
   "source": [
    "#jak podać tylko drugi?\n",
    "diff(b=100)"
   ]
  },
  {
   "cell_type": "markdown",
   "id": "7cf96a96",
   "metadata": {},
   "source": [
    "#### Ćwiczenie:\n",
    "Zdefiniuj własną funkcję, która przyjmuje dwa argumenty a i b, w tym jeden jest domyślny i wykonuje operację podnoszenia do potęgi."
   ]
  },
  {
   "cell_type": "code",
   "execution_count": 24,
   "id": "50279ab8",
   "metadata": {},
   "outputs": [],
   "source": [
    "#tutaj"
   ]
  },
  {
   "cell_type": "markdown",
   "id": "cc5a7763",
   "metadata": {},
   "source": [
    "<h3>Dowolna liczba argumentów</h3>\n",
    "Do tego wykorzystamy metody rozpakowywania sekwencji w Pythonie tzw. asterisk"
   ]
  },
  {
   "cell_type": "code",
   "execution_count": 19,
   "id": "f9b08ec4",
   "metadata": {},
   "outputs": [
    {
     "name": "stdout",
     "output_type": "stream",
     "text": [
      "[0, 1, 2, 3, 4, 5, 6, 7, 8, 9]\n",
      "0 1 2 3 4 5 6 7 8 9\n"
     ]
    }
   ],
   "source": [
    "lista = [x for x in range(10)]\n",
    "print(lista)\n",
    "print(*lista) #rozpakowanie"
   ]
  },
  {
   "cell_type": "markdown",
   "id": "63f1dbfd",
   "metadata": {},
   "source": [
    "Zastosowanie w funkcji:"
   ]
  },
  {
   "cell_type": "code",
   "execution_count": 21,
   "id": "5feee0ef",
   "metadata": {},
   "outputs": [
    {
     "name": "stdout",
     "output_type": "stream",
     "text": [
      "45\n"
     ]
    }
   ],
   "source": [
    "def suma(*args):\n",
    "    rezultat = 0\n",
    "    for x in args:\n",
    "        rezultat += x\n",
    "    return rezultat\n",
    "\n",
    "print(suma(1,2,3,4,5,6,7,8,9)) #możemy podać dowolną liczbę elementów"
   ]
  },
  {
   "cell_type": "code",
   "execution_count": 22,
   "id": "aaac77c9",
   "metadata": {},
   "outputs": [
    {
     "data": {
      "text/plain": [
       "45"
      ]
     },
     "execution_count": 22,
     "metadata": {},
     "output_type": "execute_result"
    }
   ],
   "source": [
    "def suma(*args):\n",
    "    return sum(args) # funkcja wbudowana sum()\n",
    "\n",
    "suma(1,2,3,4,5,6,7,8,9) #tak też dziala"
   ]
  },
  {
   "cell_type": "markdown",
   "id": "9b9d8ed5",
   "metadata": {},
   "source": [
    "#### Ćwiczenie:\n",
    "Zdefiniuj własną funkcję, która przyjmuje dowolną liczbę argumentów i liczy ich iloczyn."
   ]
  },
  {
   "cell_type": "code",
   "execution_count": 25,
   "id": "a6f899c5",
   "metadata": {},
   "outputs": [],
   "source": [
    "#tutaj"
   ]
  },
  {
   "cell_type": "markdown",
   "id": "ecaa252a",
   "metadata": {},
   "source": [
    "<h3>Dowolna liczba argumentów z nazwą argumentów</h3>\n",
    "Do tego wykorzystamy metody rozpakowywania sekwencji słowników tzw. double asterisk"
   ]
  },
  {
   "cell_type": "code",
   "execution_count": 26,
   "id": "a0778d9b",
   "metadata": {},
   "outputs": [
    {
     "name": "stdout",
     "output_type": "stream",
     "text": [
      "a b\n"
     ]
    }
   ],
   "source": [
    "slownik = {\"a\": 23, \"b\": 120}\n",
    "print(*slownik) #rozpakowuje tylko klucze"
   ]
  },
  {
   "cell_type": "code",
   "execution_count": 28,
   "id": "7b7d1bb6",
   "metadata": {},
   "outputs": [
    {
     "name": "stdout",
     "output_type": "stream",
     "text": [
      "2760\n"
     ]
    }
   ],
   "source": [
    "slownik = {\"a\": 23, \"b\": 120}\n",
    "def operacja(a,b):\n",
    "    return a*b\n",
    "\n",
    "print(operacja(**slownik)) #działa jak argumenty kluczowe"
   ]
  },
  {
   "cell_type": "markdown",
   "id": "76cc97e3",
   "metadata": {},
   "source": [
    "Możemy tę dowlność argumentów zdefiniować również w samej funkcji:"
   ]
  },
  {
   "cell_type": "code",
   "execution_count": 29,
   "id": "5040a22f",
   "metadata": {},
   "outputs": [
    {
     "name": "stdout",
     "output_type": "stream",
     "text": [
      "2760\n"
     ]
    }
   ],
   "source": [
    "def operacja(**kwargs):\n",
    "    x = 1\n",
    "    for n in kwargs.values():\n",
    "        x *= n\n",
    "    return x\n",
    "    \n",
    "print(operacja(**slownik))"
   ]
  },
  {
   "cell_type": "markdown",
   "id": "ef707099",
   "metadata": {},
   "source": [
    "Czym różni się wykonanie funkcji z nawiasami oraz bez nich? Zobaczmy:"
   ]
  },
  {
   "cell_type": "code",
   "execution_count": 30,
   "id": "b8af2821",
   "metadata": {},
   "outputs": [],
   "source": [
    "def diff(a,b):\n",
    "    return a-b"
   ]
  },
  {
   "cell_type": "code",
   "execution_count": 31,
   "id": "b9b97213",
   "metadata": {},
   "outputs": [
    {
     "name": "stdout",
     "output_type": "stream",
     "text": [
      "0\n"
     ]
    }
   ],
   "source": [
    "wynik = diff(20,20)\n",
    "print(wynik)"
   ]
  },
  {
   "cell_type": "code",
   "execution_count": 32,
   "id": "4e0b158b",
   "metadata": {},
   "outputs": [
    {
     "name": "stdout",
     "output_type": "stream",
     "text": [
      "<function diff at 0x000001ED3D919900>\n"
     ]
    }
   ],
   "source": [
    "funkcja = diff\n",
    "print(funkcja)"
   ]
  },
  {
   "cell_type": "markdown",
   "id": "e97aa898",
   "metadata": {},
   "source": [
    "Nawiasy () wywołują funkcję, ich brak powoduje po prostu, że przypisujemy funkcję do innej zmiennej. Teraz możemy:"
   ]
  },
  {
   "cell_type": "code",
   "execution_count": 33,
   "id": "3e0f5caf",
   "metadata": {},
   "outputs": [
    {
     "data": {
      "text/plain": [
       "0"
      ]
     },
     "execution_count": 33,
     "metadata": {},
     "output_type": "execute_result"
    }
   ],
   "source": [
    "funkcja(20,20) #po prostu użyć z tą nazwą"
   ]
  },
  {
   "cell_type": "markdown",
   "id": "922a401c",
   "metadata": {},
   "source": [
    "<h2>Zmienne globalne</h2>\n",
    "\n",
    "Można definiować zmienne globalne, które dostępne są dla wszystkich funkcji."
   ]
  },
  {
   "cell_type": "code",
   "execution_count": 37,
   "id": "ed13d4ab",
   "metadata": {},
   "outputs": [],
   "source": [
    "GLOBALNA = \"globalna\"\n",
    "\n",
    "def f1(tekst):\n",
    "    return tekst + GLOBALNA\n",
    "    \n",
    "def f2(tekst):\n",
    "    globalna = \"globalna zmieniona w funkcji\"\n",
    "    return tekst + GLOBALNA"
   ]
  },
  {
   "cell_type": "code",
   "execution_count": 38,
   "id": "8797ab84",
   "metadata": {},
   "outputs": [
    {
     "name": "stdout",
     "output_type": "stream",
     "text": [
      "to jest zmienna globalna\n"
     ]
    }
   ],
   "source": [
    "print(f1(\"to jest zmienna \"))"
   ]
  },
  {
   "cell_type": "code",
   "execution_count": 39,
   "id": "39af979c",
   "metadata": {},
   "outputs": [
    {
     "name": "stdout",
     "output_type": "stream",
     "text": [
      "to jest zmienna globalna globalna\n"
     ]
    }
   ],
   "source": [
    "print(f2(\"to jest zmienna globalna \"))"
   ]
  },
  {
   "cell_type": "code",
   "execution_count": 41,
   "id": "380f81d0",
   "metadata": {},
   "outputs": [
    {
     "name": "stdout",
     "output_type": "stream",
     "text": [
      "globalna\n"
     ]
    }
   ],
   "source": [
    "print(GLOBALNA)"
   ]
  },
  {
   "cell_type": "markdown",
   "id": "19a0971b",
   "metadata": {},
   "source": [
    "#### Ćwiczenie:\n",
    "1. Zdefiniu zmienną globalną PI, której wartość wczytasz z biblioteki math \n",
    "2. Napisz funkcję, która liczy pole koła o przyjętym promieniu (jako argument funkcji) z wykorzystaniem zmiennej globalnej\n",
    "3. Zmodyfikuj funkcję tak by przyjmowała kolejny argumenty \"typ\", który jeśli równa się \"pole\" liczy pole koła o zadanym promieniu, a jeśli typ jest równy \"obwód\" liczy obwód koła."
   ]
  },
  {
   "cell_type": "markdown",
   "id": "aa69a423",
   "metadata": {},
   "source": [
    "### Wyjątki i obsługa wyjątków w funkcjach\n",
    "\n",
    "Wyjątki służą do obsługi błędów, które mogą pojawić sie w trakcie wykonywania kodu. Dzięki obsłudze wyjątków upewniamy się, że reagujemy odpowiednio na pojawiające się błędy, w zależności od konkretnego błędu."
   ]
  },
  {
   "cell_type": "code",
   "execution_count": 1,
   "id": "73d8d8df",
   "metadata": {},
   "outputs": [
    {
     "name": "stdout",
     "output_type": "stream",
     "text": [
      "Wystąpił błąd\n"
     ]
    }
   ],
   "source": [
    "try:\n",
    "    print(x) #tutaj instrukcja, które może zwrócić błąd\n",
    "except:\n",
    "    print(\"Wystąpił błąd\") # tutaj obsługa błędu\n"
   ]
  },
  {
   "cell_type": "markdown",
   "id": "23932bd2",
   "metadata": {},
   "source": [
    "Należy zwrócić uwagę, że <b> domyslny tekst błędu nie zostanie zwrócony </b>.\n",
    "\n",
    "Obsługa typu błędu:"
   ]
  },
  {
   "cell_type": "code",
   "execution_count": 3,
   "id": "d0d72f00",
   "metadata": {},
   "outputs": [
    {
     "name": "stdout",
     "output_type": "stream",
     "text": [
      "Wystąpił NameError\n"
     ]
    }
   ],
   "source": [
    "try:\n",
    "    print(x)\n",
    "except NameError:\n",
    "    print(\"Wystąpił NameError\")"
   ]
  },
  {
   "cell_type": "code",
   "execution_count": 4,
   "id": "c8d7c180",
   "metadata": {},
   "outputs": [
    {
     "name": "stdout",
     "output_type": "stream",
     "text": [
      "Wystąpił NameError\n"
     ]
    }
   ],
   "source": [
    "try:\n",
    "    print(x)\n",
    "except AttributeError:\n",
    "    print(\"Wystąpił AttributeError\")\n",
    "except NameError:\n",
    "    print(\"Wystąpił NameError\")"
   ]
  },
  {
   "cell_type": "code",
   "execution_count": 7,
   "id": "f4e51b33",
   "metadata": {},
   "outputs": [
    {
     "ename": "NameError",
     "evalue": "name 'x' is not defined",
     "output_type": "error",
     "traceback": [
      "\u001b[1;31m---------------------------------------------------------------------------\u001b[0m",
      "\u001b[1;31mNameError\u001b[0m                                 Traceback (most recent call last)",
      "Input \u001b[1;32mIn [7]\u001b[0m, in \u001b[0;36m<cell line: 1>\u001b[1;34m()\u001b[0m\n\u001b[0;32m      1\u001b[0m \u001b[38;5;28;01mtry\u001b[39;00m:\n\u001b[1;32m----> 2\u001b[0m     \u001b[38;5;28mprint\u001b[39m(\u001b[43mx\u001b[49m)\n\u001b[0;32m      3\u001b[0m \u001b[38;5;28;01mexcept\u001b[39;00m \u001b[38;5;167;01mKeyError\u001b[39;00m:\n\u001b[0;32m      4\u001b[0m     \u001b[38;5;28mprint\u001b[39m(\u001b[38;5;124m\"\u001b[39m\u001b[38;5;124mNameError\u001b[39m\u001b[38;5;124m\"\u001b[39m)\n",
      "\u001b[1;31mNameError\u001b[0m: name 'x' is not defined"
     ]
    }
   ],
   "source": [
    "try:\n",
    "    print(x)\n",
    "except KeyError:\n",
    "    print(\"NameError\")"
   ]
  },
  {
   "cell_type": "markdown",
   "id": "350f3175",
   "metadata": {},
   "source": [
    "Nazwy kodów błędów znajdziemy tutaj: https://docs.python.org/3/library/exceptions.html"
   ]
  },
  {
   "cell_type": "markdown",
   "id": "4f554f7c",
   "metadata": {},
   "source": [
    "Możemy również skorzystać z instrukcji else. Ta instrukcja zwróci wynik gdy <b> nie będzie błędu </b>\n"
   ]
  },
  {
   "cell_type": "code",
   "execution_count": 17,
   "id": "0bb6dcfa",
   "metadata": {},
   "outputs": [
    {
     "name": "stdout",
     "output_type": "stream",
     "text": [
      "To nie zwróci błędu\n",
      "Jest dobrze\n"
     ]
    }
   ],
   "source": [
    "try:\n",
    "    print(\"To nie zwróci błędu\")\n",
    "except KeyError:\n",
    "    print(\"NameError\")\n",
    "else:\n",
    "    print(\"Jest dobrze\")"
   ]
  },
  {
   "cell_type": "markdown",
   "id": "c05a2cf2",
   "metadata": {},
   "source": [
    "Polecenie <b> finally </b> służy do wykonania kodu, który wykona się niezależnie od tego czy błąd się pojawił, czy też nie:"
   ]
  },
  {
   "cell_type": "code",
   "execution_count": 18,
   "id": "636acd1a",
   "metadata": {},
   "outputs": [
    {
     "name": "stdout",
     "output_type": "stream",
     "text": [
      "NameError\n",
      "Polecenie wykonane\n"
     ]
    }
   ],
   "source": [
    "try:\n",
    "    print(x)\n",
    "except NameError:\n",
    "    print(\"NameError\")\n",
    "else:\n",
    "    print(\"Nie było błędu\")\n",
    "finally:\n",
    "    print(\"Polecenie wykonane\")"
   ]
  },
  {
   "cell_type": "markdown",
   "id": "071c00fe",
   "metadata": {},
   "source": [
    "#### Ćwiczenie\n",
    "\n",
    "Spróbuj napisać kod, który obsłuży wyjątek w funkcji o nazwie konwertuj_do_int(arg1), w którym użyktownik podał coś, co nie jest konwertowalne do typu <i> integer </i>"
   ]
  },
  {
   "cell_type": "code",
   "execution_count": null,
   "id": "06ceb0d0",
   "metadata": {},
   "outputs": [],
   "source": [
    "def konwertuj_do_int(arg1):\n",
    "    x = int(arg1)\n",
    "    # tutaj"
   ]
  }
 ],
 "metadata": {
  "kernelspec": {
   "display_name": "Python 3 (ipykernel)",
   "language": "python",
   "name": "python3"
  },
  "language_info": {
   "codemirror_mode": {
    "name": "ipython",
    "version": 3
   },
   "file_extension": ".py",
   "mimetype": "text/x-python",
   "name": "python",
   "nbconvert_exporter": "python",
   "pygments_lexer": "ipython3",
   "version": "3.9.12"
  }
 },
 "nbformat": 4,
 "nbformat_minor": 5
}
