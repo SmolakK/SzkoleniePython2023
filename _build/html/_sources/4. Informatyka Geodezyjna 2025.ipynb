{
 "cells": [
  {
   "cell_type": "markdown",
   "id": "cf321dfa",
   "metadata": {},
   "source": [
    "# 4. Informatyka Geodezyjna 2025 - wprowadzenie do programowania obiektowego (część 3)\n"
   ]
  },
  {
   "cell_type": "markdown",
   "id": "57bcdedf",
   "metadata": {},
   "source": [
    "<h1> Paradygmat 3 - Polimorficzność </h1>\n",
    "\n",
    "Polimorfizm to zasada programowania obiektowego pozwalająca na jednolite traktowanie obiektów różnych klas, pod warunkiem że dzielą one wspólny interfejs lub dziedziczą po tej samej klasie bazowej. Dzięki polimorfizmowi można używać tych samych metod w różnych kontekstach, co zwiększa elastyczność i ułatwia rozszerzalność kodu.\n",
    "\n",
    "Polimorfizm może występować w dwóch głównych formach:\n",
    "\n",
    "    Polimorfizm dziedziczenia – klasy potomne mogą nadpisywać metody klasy bazowej, dostosowując ich działanie do własnych potrzeb.\n",
    "    Polimorfizm interfejsowy – obiekty różnych klas mogą mieć metody o tej samej nazwie, ale o innej implementacji, co pozwala na ich jednolite wykorzystanie np. w pętlach czy funkcjach.\n",
    "\n",
    "Dzięki polimorfizmowi programy są bardziej modularne, co ułatwia ich rozwój i utrzymanie.\n",
    "\n",
    "Przykład:"
   ]
  },
  {
   "cell_type": "code",
   "execution_count": null,
   "id": "ee1441de",
   "metadata": {},
   "outputs": [],
   "source": [
    "class Pies():\n",
    "    \n",
    "    def __init__(self, imie, kolor):\n",
    "        self._imie = imie\n",
    "        self._kolor = kolor\n",
    "        \n",
    "    def daj_glos(self):\n",
    "        print(\"HAU!\")\n",
    "        \n",
    "        \n",
    "class Kot():\n",
    "    \n",
    "    def __init__(self, imie, kolor):\n",
    "        self._imie = imie\n",
    "        self._kolor = kolor\n",
    "        \n",
    "    def daj_glos(self):\n",
    "        print(\"MIAU!\")"
   ]
  },
  {
   "cell_type": "code",
   "execution_count": null,
   "id": "e2301833",
   "metadata": {},
   "outputs": [],
   "source": [
    "fafik = Pies(\"fafik\",\"czarny\")\n",
    "bruno = Kot(\"bruno\",\"biały\")\n",
    "\n",
    "for zwierze in (fafik,bruno):\n",
    "    zwierze.daj_glos()"
   ]
  },
  {
   "cell_type": "markdown",
   "id": "e5d4891d",
   "metadata": {},
   "source": [
    "<h1> Paradygmat 4 - Dziedziczność </h1>\n",
    "\n",
    "Spróbujmy zaimplementować fragment dziedziczenia Osoba -> Pracownik z poniższego diagramu UML\n",
    "\n",
    "<img src=\"Image5905.gif\"/>"
   ]
  },
  {
   "cell_type": "code",
   "execution_count": null,
   "id": "d9de6b96",
   "metadata": {},
   "outputs": [],
   "source": [
    "class Osoba():\n",
    "    \n",
    "    #dwie linijki przerwy zgodnie z PEP8\n",
    "    def __init__(self, imie, nazwisko, data_urodzenia):\n",
    "        self._imie = imie\n",
    "        self._nazwisko = nazwisko\n",
    "        self._data_urodzenia = data_urodzenia\n",
    "        \n",
    "    @property #getter\n",
    "    def imie(self):\n",
    "        return self._imie\n",
    "    \n",
    "    @property\n",
    "    def nazwisko(self):\n",
    "        return self._nazwisko\n",
    "    \n",
    "    @property\n",
    "    def data_urodzenia(self):\n",
    "        return self._data_urodzenia\n",
    "    \n",
    "    @imie.setter #setter\n",
    "    def imie(self, imie):\n",
    "        if imie == \"Maciej\":\n",
    "            print(\"WSZYSTKO TYLKO NIE MACIEJ!\")\n",
    "        else:\n",
    "            self._imie = imie\n",
    "        \n",
    "    @nazwisko.setter #setter\n",
    "    def nazwisko(self, nazwisko):\n",
    "        self._nazwisko = nazwisko\n",
    "        \n",
    "    @data_urodzenia.setter #setter\n",
    "    def data_urodzenia(self, data_urodzenia):\n",
    "        self._data_urodzenia = data_urodzenia\n",
    "        \n",
    "    def wiek(self):\n",
    "        return 2021 - int(self.data_urodzenia.split('-')[2])"
   ]
  },
  {
   "cell_type": "markdown",
   "id": "9cf8884d",
   "metadata": {},
   "source": [
    "Poniżej tworzymy klasę dziedziczącą po klasie Osoba:"
   ]
  },
  {
   "cell_type": "code",
   "execution_count": null,
   "id": "24f89220",
   "metadata": {},
   "outputs": [],
   "source": [
    "class Pracownik(Osoba): #tu informujemy, że dziedziczy po klasie osoba\n",
    "    \n",
    "    \n",
    "    def __init__(self, imie, nazwisko, data_urodzenia, pensja, stanowisko): #czyli przyjmuje wszystkie atrybuty co osoba + nowe\n",
    "        Osoba.__init__(self, imie, nazwisko, data_urodzenia) #tu inicjalizacja klasy nadrzędnej z 3 parametrami\n",
    "        self._pensja = pensja #i dodatkowe parametry\n",
    "        self._stanowisko = stanowisko\n",
    "        \n",
    "    @property\n",
    "    def pensja(self):\n",
    "        return self._pensja\n",
    "    \n",
    "    @pensja.setter\n",
    "    def pensja(self, nowa_pensja):\n",
    "        self._pensja = nowa_pensja\n",
    "        \n",
    "    def zmien_pensje(self, nowa_pensja):\n",
    "        self._pensja = nowa_pensja"
   ]
  },
  {
   "cell_type": "markdown",
   "id": "40e6df26",
   "metadata": {},
   "source": [
    "Instancjonujemy podając wszystkie atrybuty:"
   ]
  },
  {
   "cell_type": "code",
   "execution_count": null,
   "id": "81062172",
   "metadata": {},
   "outputs": [],
   "source": [
    "jerzy = Pracownik(\"Jerzy\", \"Morgan\", \"20-12-1955\", pensja = 5400, stanowisko = \"Handlowiec\")"
   ]
  },
  {
   "cell_type": "code",
   "execution_count": null,
   "id": "d020163e",
   "metadata": {},
   "outputs": [],
   "source": [
    "jerzy.imie #działa, bo w klasie nadrzędnej jest getter"
   ]
  },
  {
   "cell_type": "code",
   "execution_count": null,
   "id": "332967a6",
   "metadata": {},
   "outputs": [],
   "source": [
    "jerzy.imie = \"Maciej\" #działa, bo w klasie nadrzędnej jest setter"
   ]
  },
  {
   "cell_type": "code",
   "execution_count": null,
   "id": "527cc824",
   "metadata": {},
   "outputs": [],
   "source": [
    "jerzy.stanowisko #nie działa, bo w tej klasie nie ma gettera (ale powinien być)"
   ]
  },
  {
   "cell_type": "code",
   "execution_count": null,
   "id": "3c6946cb",
   "metadata": {},
   "outputs": [],
   "source": [
    "jerzy.wiek() #bo dziedziczy metody, mimo tego że w tej klasie nie zostało to zaimplementowane"
   ]
  },
  {
   "cell_type": "code",
   "execution_count": null,
   "id": "7ea5df55",
   "metadata": {},
   "outputs": [],
   "source": [
    "jerzy.pensja = 2000"
   ]
  },
  {
   "cell_type": "code",
   "execution_count": null,
   "id": "f634728b",
   "metadata": {},
   "outputs": [],
   "source": [
    "jerzy.zmien_pensje(4000)"
   ]
  },
  {
   "cell_type": "code",
   "execution_count": null,
   "id": "d4976f67",
   "metadata": {},
   "outputs": [],
   "source": [
    "jerzy.pensja"
   ]
  },
  {
   "cell_type": "markdown",
   "id": "b1a5d28d",
   "metadata": {},
   "source": [
    "<h3> To co z tą polimorficznością dziedziczną? </h3>\n",
    "\n",
    "A to, że możemy metody w klasie podrzędnej nadpisywać. Przy okazji, zwróćcię uwagę na zastosowanie nowej funkcji super() poniżej"
   ]
  },
  {
   "cell_type": "code",
   "execution_count": null,
   "id": "4d577d24",
   "metadata": {},
   "outputs": [],
   "source": [
    "class Pracownik(Osoba):\n",
    "    \n",
    "    def __init__(self, imie, nazwisko, data_urodzenia, pensja, stanowisko): \n",
    "        super().__init__(imie, nazwisko, data_urodzenia) #tu zamiast Osoba, można wywołać funkcję super, czyli odwołanie do klasy nadrzędnej (wtedy pomijamy self)\n",
    "        self._pensja = pensja\n",
    "        self._stanowisko = stanowisko\n",
    "        \n",
    "    def wiek(self): #nadpisujemy funkcję klasy nadrzędnej\n",
    "        return \"Pracownika się o wiek nie pyta\""
   ]
  },
  {
   "cell_type": "code",
   "execution_count": null,
   "id": "ba8f2f29",
   "metadata": {},
   "outputs": [],
   "source": [
    "jerzy = Pracownik(\"Jerzy\", \"Morgan\", \"20-12-1955\", 5400, \"Handlowiec\")\n",
    "jerzy.wiek() #metoda wiek dla klasy podrzędnej zachowuje się inaczej niż dla nadrzędnej"
   ]
  }
 ],
 "metadata": {
  "kernelspec": {
   "display_name": "Python 3 (ipykernel)",
   "language": "python",
   "name": "python3"
  },
  "language_info": {
   "codemirror_mode": {
    "name": "ipython",
    "version": 3
   },
   "file_extension": ".py",
   "mimetype": "text/x-python",
   "name": "python",
   "nbconvert_exporter": "python",
   "pygments_lexer": "ipython3",
   "version": "3.9.12"
  }
 },
 "nbformat": 4,
 "nbformat_minor": 5
}
